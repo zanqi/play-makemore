{
 "cells": [
  {
   "cell_type": "code",
   "execution_count": 5,
   "metadata": {},
   "outputs": [],
   "source": [
    "import torch\n",
    "import torch.nn.functional as F\n",
    "import matplotlib.pyplot as plt # for making figures\n",
    "%matplotlib inline"
   ]
  },
  {
   "cell_type": "code",
   "execution_count": 6,
   "metadata": {},
   "outputs": [
    {
     "data": {
      "text/plain": [
       "['emma', 'olivia', 'ava', 'isabella', 'sophia', 'charlotte', 'mia', 'amelia']"
      ]
     },
     "execution_count": 6,
     "metadata": {},
     "output_type": "execute_result"
    }
   ],
   "source": [
    "# read in all the words\n",
    "words = open('names.txt', 'r').read().splitlines()\n",
    "words[:8]"
   ]
  },
  {
   "cell_type": "code",
   "execution_count": 7,
   "metadata": {},
   "outputs": [
    {
     "data": {
      "text/plain": [
       "32033"
      ]
     },
     "execution_count": 7,
     "metadata": {},
     "output_type": "execute_result"
    }
   ],
   "source": [
    "len(words)"
   ]
  },
  {
   "cell_type": "code",
   "execution_count": 8,
   "metadata": {},
   "outputs": [
    {
     "name": "stdout",
     "output_type": "stream",
     "text": [
      "{1: 'a', 2: 'b', 3: 'c', 4: 'd', 5: 'e', 6: 'f', 7: 'g', 8: 'h', 9: 'i', 10: 'j', 11: 'k', 12: 'l', 13: 'm', 14: 'n', 15: 'o', 16: 'p', 17: 'q', 18: 'r', 19: 's', 20: 't', 21: 'u', 22: 'v', 23: 'w', 24: 'x', 25: 'y', 26: 'z', 0: '.'}\n"
     ]
    }
   ],
   "source": [
    "# build the vocabulary of characters and mappings to/from integers\n",
    "chars = sorted(list(set(''.join(words))))\n",
    "stoi = {s:i+1 for i,s in enumerate(chars)}\n",
    "stoi['.'] = 0\n",
    "itos = {i:s for s,i in stoi.items()}\n",
    "print(itos)"
   ]
  },
  {
   "cell_type": "code",
   "execution_count": 9,
   "metadata": {},
   "outputs": [],
   "source": [
    "# build the dataset\n",
    "\n",
    "block_size = 3 # context length: how many characters do we take to predict the next one?\n",
    "X, Y = [], []\n",
    "for w in words:\n",
    "  \n",
    "  #print(w)\n",
    "  context = [0] * block_size\n",
    "  for ch in w + '.':\n",
    "    ix = stoi[ch]\n",
    "    X.append(context)\n",
    "    Y.append(ix)\n",
    "    #print(''.join(itos[i] for i in context), '--->', itos[ix])\n",
    "    context = context[1:] + [ix] # crop and append\n",
    "  \n",
    "X = torch.tensor(X)\n",
    "Y = torch.tensor(Y)"
   ]
  },
  {
   "cell_type": "code",
   "execution_count": 10,
   "metadata": {},
   "outputs": [
    {
     "data": {
      "text/plain": [
       "(torch.Size([228146, 3]), torch.int64, torch.Size([228146]), torch.int64)"
      ]
     },
     "execution_count": 10,
     "metadata": {},
     "output_type": "execute_result"
    }
   ],
   "source": [
    "X.shape, X.dtype, Y.shape, Y.dtype"
   ]
  },
  {
   "cell_type": "code",
   "execution_count": 11,
   "metadata": {},
   "outputs": [
    {
     "name": "stdout",
     "output_type": "stream",
     "text": [
      "torch.Size([182625, 3]) torch.Size([182625])\n",
      "torch.Size([22655, 3]) torch.Size([22655])\n",
      "torch.Size([22866, 3]) torch.Size([22866])\n"
     ]
    }
   ],
   "source": [
    "# build the dataset\n",
    "block_size = 3 # context length: how many characters do we take to predict the next one?\n",
    "\n",
    "def build_dataset(words):  \n",
    "  X, Y = [], []\n",
    "  for w in words:\n",
    "\n",
    "    #print(w)\n",
    "    context = [0] * block_size\n",
    "    for ch in w + '.':\n",
    "      ix = stoi[ch]\n",
    "      X.append(context)\n",
    "      Y.append(ix)\n",
    "      #print(''.join(itos[i] for i in context), '--->', itos[ix])\n",
    "      context = context[1:] + [ix] # crop and append\n",
    "\n",
    "  X = torch.tensor(X)\n",
    "  Y = torch.tensor(Y)\n",
    "  print(X.shape, Y.shape)\n",
    "  return X, Y\n",
    "\n",
    "import random\n",
    "random.seed(42)\n",
    "random.shuffle(words)\n",
    "n1 = int(0.8*len(words))\n",
    "n2 = int(0.9*len(words))\n",
    "\n",
    "Xtr, Ytr = build_dataset(words[:n1])\n",
    "Xdev, Ydev = build_dataset(words[n1:n2])\n",
    "Xte, Yte = build_dataset(words[n2:])\n"
   ]
  },
  {
   "cell_type": "code",
   "execution_count": 12,
   "metadata": {},
   "outputs": [],
   "source": [
    "C = torch.randn((27, 2))"
   ]
  },
  {
   "cell_type": "code",
   "execution_count": 13,
   "metadata": {},
   "outputs": [
    {
     "data": {
      "text/plain": [
       "torch.Size([228146, 3, 2])"
      ]
     },
     "execution_count": 13,
     "metadata": {},
     "output_type": "execute_result"
    }
   ],
   "source": [
    "emb = C[X]\n",
    "emb.shape"
   ]
  },
  {
   "cell_type": "code",
   "execution_count": 14,
   "metadata": {},
   "outputs": [],
   "source": [
    "W1 = torch.randn((6, 100))\n",
    "b1 = torch.randn(100)"
   ]
  },
  {
   "cell_type": "code",
   "execution_count": 15,
   "metadata": {},
   "outputs": [],
   "source": [
    "h = torch.tanh(emb.view(-1, 6) @ W1 + b1)"
   ]
  },
  {
   "cell_type": "code",
   "execution_count": 16,
   "metadata": {},
   "outputs": [
    {
     "data": {
      "text/plain": [
       "tensor([[-0.4651,  0.1297,  1.0000,  ...,  0.9994, -0.9987, -1.0000],\n",
       "        [-0.1797,  0.9843,  0.9933,  ...,  0.9987, -0.9988, -1.0000],\n",
       "        [ 0.3830,  0.9767,  0.7048,  ...,  0.9971, -0.4132, -1.0000],\n",
       "        ...,\n",
       "        [ 0.5669, -0.1956, -0.7543,  ..., -0.3461,  0.6369, -0.6322],\n",
       "        [ 0.5597,  0.9493, -0.9810,  ..., -0.3252, -0.8675, -0.8780],\n",
       "        [ 0.4321,  0.7627,  0.4209,  ..., -0.0487,  0.0930, -0.7002]])"
      ]
     },
     "execution_count": 16,
     "metadata": {},
     "output_type": "execute_result"
    }
   ],
   "source": [
    "h"
   ]
  },
  {
   "cell_type": "code",
   "execution_count": 17,
   "metadata": {},
   "outputs": [
    {
     "data": {
      "text/plain": [
       "torch.Size([228146, 100])"
      ]
     },
     "execution_count": 17,
     "metadata": {},
     "output_type": "execute_result"
    }
   ],
   "source": [
    "h.shape"
   ]
  },
  {
   "cell_type": "code",
   "execution_count": 18,
   "metadata": {},
   "outputs": [],
   "source": [
    "W2 = torch.randn((100, 27))\n",
    "b2 = torch.randn(27)"
   ]
  },
  {
   "cell_type": "code",
   "execution_count": 20,
   "metadata": {},
   "outputs": [],
   "source": [
    "logits = h @ W2 + b2"
   ]
  },
  {
   "cell_type": "code",
   "execution_count": 21,
   "metadata": {},
   "outputs": [
    {
     "data": {
      "text/plain": [
       "torch.Size([228146, 27])"
      ]
     },
     "execution_count": 21,
     "metadata": {},
     "output_type": "execute_result"
    }
   ],
   "source": [
    "logits.shape"
   ]
  },
  {
   "cell_type": "code",
   "execution_count": 22,
   "metadata": {},
   "outputs": [],
   "source": [
    "counts = logits.exp()"
   ]
  },
  {
   "cell_type": "code",
   "execution_count": 23,
   "metadata": {},
   "outputs": [],
   "source": [
    "prob = counts / counts.sum(1, keepdims=True)"
   ]
  },
  {
   "cell_type": "code",
   "execution_count": 24,
   "metadata": {},
   "outputs": [
    {
     "data": {
      "text/plain": [
       "torch.Size([228146, 27])"
      ]
     },
     "execution_count": 24,
     "metadata": {},
     "output_type": "execute_result"
    }
   ],
   "source": [
    "prob.shape"
   ]
  },
  {
   "cell_type": "code",
   "execution_count": 26,
   "metadata": {},
   "outputs": [
    {
     "data": {
      "text/plain": [
       "tensor(14.9300)"
      ]
     },
     "execution_count": 26,
     "metadata": {},
     "output_type": "execute_result"
    }
   ],
   "source": [
    "loss = -prob[torch.arange(32), Y[32]].log().mean()\n",
    "loss"
   ]
  },
  {
   "cell_type": "code",
   "execution_count": 27,
   "metadata": {},
   "outputs": [],
   "source": [
    "# ------------ now made respectable :) ---------------"
   ]
  },
  {
   "cell_type": "code",
   "execution_count": 28,
   "metadata": {},
   "outputs": [
    {
     "data": {
      "text/plain": [
       "(torch.Size([182625, 3]), torch.Size([182625]))"
      ]
     },
     "execution_count": 28,
     "metadata": {},
     "output_type": "execute_result"
    }
   ],
   "source": [
    "Xtr.shape, Ytr.shape # dataset"
   ]
  },
  {
   "cell_type": "code",
   "execution_count": 100,
   "metadata": {},
   "outputs": [],
   "source": [
    "g = torch.Generator().manual_seed(2147483647) # for reproducibility\n",
    "C = torch.rand((27, 10), generator=g)\n",
    "W1 = torch.rand((30, 200), generator=g)\n",
    "b1 = torch.rand(200, generator=g)\n",
    "W2 = torch.rand((200, 27), generator=g)\n",
    "b2 = torch.rand(27, generator=g)\n",
    "parameters = [C, W1, b1, W2, b2]\n",
    "\n",
    "for p in parameters:\n",
    "  p.requires_grad = True"
   ]
  },
  {
   "cell_type": "code",
   "execution_count": 30,
   "metadata": {},
   "outputs": [
    {
     "data": {
      "text/plain": [
       "11897"
      ]
     },
     "execution_count": 30,
     "metadata": {},
     "output_type": "execute_result"
    }
   ],
   "source": [
    "sum(p.nelement() for p in parameters) # number of parameters in total"
   ]
  },
  {
   "cell_type": "code",
   "execution_count": 54,
   "metadata": {},
   "outputs": [],
   "source": [
    "lre = torch.linspace(-3, 0, 1000)\n",
    "lrs = 10**lre"
   ]
  },
  {
   "cell_type": "code",
   "execution_count": 101,
   "metadata": {},
   "outputs": [],
   "source": [
    "lri = []\n",
    "lossi = []\n",
    "stepi = []\n",
    "\n",
    "for i in range(200000):\n",
    "  \n",
    "  # minibatch construct\n",
    "  ix = torch.randint(0, Xtr.shape[0], (32,))\n",
    "  \n",
    "  # forward pass\n",
    "  emb = C[Xtr[ix]] # (32, 3, 10)\n",
    "  h = torch.tanh(emb.view(-1, 30) @ W1 + b1) # (32, 200)\n",
    "  logits = h @ W2 + b2 # (32, 27)\n",
    "  loss = F.cross_entropy(logits, Ytr[ix])\n",
    "  #print(loss.item())\n",
    "  \n",
    "  # backward pass\n",
    "  for p in parameters:\n",
    "    p.grad = None\n",
    "  loss.backward()\n",
    "  \n",
    "  # update\n",
    "  #lr = lrs[i]\n",
    "  lr = 0.1 if i < 100000 else 0.01\n",
    "  for p in parameters:\n",
    "    p.data += -lr * p.grad\n",
    "\n",
    "  # track stats\n",
    "  #lri.append(lre[i])\n",
    "  stepi.append(i)\n",
    "  lossi.append(loss.log10().item())\n",
    "\n",
    "#print(loss.item())"
   ]
  },
  {
   "cell_type": "code",
   "execution_count": 98,
   "metadata": {},
   "outputs": [
    {
     "data": {
      "text/plain": [
       "[<matplotlib.lines.Line2D at 0x2db225f30>]"
      ]
     },
     "execution_count": 98,
     "metadata": {},
     "output_type": "execute_result"
    },
    {
     "data": {
      "image/png": "[encoded data removed]",
      "text/plain": [
       "<Figure size 432x288 with 1 Axes>"
      ]
     },
     "metadata": {
      "needs_background": "dark"
     },
     "output_type": "display_data"
    }
   ],
   "source": [
    "plt.plot(stepi, lossi)"
   ]
  },
  {
   "cell_type": "code",
   "execution_count": 99,
   "metadata": {},
   "outputs": [
    {
     "data": {
      "text/plain": [
       "tensor(2.8280, grad_fn=<NllLossBackward0>)"
      ]
     },
     "execution_count": 99,
     "metadata": {},
     "output_type": "execute_result"
    }
   ],
   "source": [
    "emb = C[Xtr] # (32, 3, 2)\n",
    "h = torch.tanh(emb.view(-1, 30) @ W1 + b1) # (32, 100)\n",
    "logits = h @ W2 + b2 # (32, 27)\n",
    "loss = F.cross_entropy(logits, Ytr)\n",
    "loss"
   ]
  },
  {
   "cell_type": "code",
   "execution_count": 95,
   "metadata": {},
   "outputs": [
    {
     "data": {
      "text/plain": [
       "tensor(2.1170, grad_fn=<NllLossBackward0>)"
      ]
     },
     "execution_count": 95,
     "metadata": {},
     "output_type": "execute_result"
    }
   ],
   "source": [
    "emb = C[Xdev] # (32, 3, 2)\n",
    "h = torch.tanh(emb.view(-1, 30) @ W1 + b1) # (32, 100)\n",
    "logits = h @ W2 + b2 # (32, 27)\n",
    "loss = F.cross_entropy(logits, Ydev)\n",
    "loss"
   ]
  },
  {
   "cell_type": "code",
   "execution_count": 48,
   "metadata": {},
   "outputs": [
    {
     "data": {
      "image/png": "[encoded data removed]",
      "text/plain": [
       "<Figure size 576x576 with 1 Axes>"
      ]
     },
     "metadata": {
      "needs_background": "dark"
     },
     "output_type": "display_data"
    }
   ],
   "source": [
    "# visualize dimensions 0 and 1 of the embedding matrix C for all characters\n",
    "plt.figure(figsize=(8,8))\n",
    "plt.scatter(C[:,0].data, C[:,1].data, s=200)\n",
    "for i in range(C.shape[0]):\n",
    "    plt.text(C[i,0].item(), C[i,1].item(), itos[i], ha=\"center\", va=\"center\", color='black')\n",
    "plt.grid('minor')\n",
    "\n",
    "# C is in 10 dimensions. Need it to be in 2d for the visualization below to be meaningful."
   ]
  },
  {
   "cell_type": "code",
   "execution_count": null,
   "metadata": {},
   "outputs": [],
   "source": [
    "# training split, dev/validation split, test split\n",
    "# 80%, 10%, 10%"
   ]
  },
  {
   "cell_type": "code",
   "execution_count": 50,
   "metadata": {},
   "outputs": [
    {
     "data": {
      "text/plain": [
       "torch.Size([1, 3, 10])"
      ]
     },
     "execution_count": 50,
     "metadata": {},
     "output_type": "execute_result"
    }
   ],
   "source": [
    "context = [0] * block_size\n",
    "C[torch.tensor([context])].shape"
   ]
  },
  {
   "cell_type": "code",
   "execution_count": 51,
   "metadata": {},
   "outputs": [
    {
     "name": "stdout",
     "output_type": "stream",
     "text": [
      "carpahxatolle.\n",
      "khi.\n",
      "miliathtyn.\n",
      "kansen.\n",
      "jazonen.\n",
      "delynn.\n",
      "jareei.\n",
      "nellara.\n",
      "chaiiv.\n",
      "kaleigh.\n",
      "ham.\n",
      "evin.\n",
      "quinthanoi.\n",
      "emi.\n",
      "adbrion.\n",
      "elon.\n",
      "jaryni.\n",
      "jaceenitraylen.\n",
      "edi.\n",
      "abetteley.\n"
     ]
    }
   ],
   "source": [
    "\n",
    "\n",
    "# sample from the model\n",
    "g = torch.Generator().manual_seed(2147483647 + 10)\n",
    "\n",
    "for _ in range(20):\n",
    "    \n",
    "    out = []\n",
    "    context = [0] * block_size # initialize with all ...\n",
    "    while True:\n",
    "      emb = C[torch.tensor([context])] # (1,block_size,d)\n",
    "      h = torch.tanh(emb.view(1, -1) @ W1 + b1)\n",
    "      logits = h @ W2 + b2\n",
    "      probs = F.softmax(logits, dim=1)\n",
    "      ix = torch.multinomial(probs, num_samples=1, generator=g).item()\n",
    "      context = context[1:] + [ix]\n",
    "      out.append(ix)\n",
    "      if ix == 0:\n",
    "        break\n",
    "    \n",
    "    print(''.join(itos[i] for i in out))"
   ]
  },
  {
   "cell_type": "code",
   "execution_count": null,
   "metadata": {},
   "outputs": [],
   "source": [
    "# - E01: Tune the hyperparameters of the training to beat my best validation loss of 2.2\n",
    "#   Just train longer, or increase learning rate\n",
    "# - E02: I was not careful with the intialization of the network in this video. (1) What is the loss you'd get if the predicted probabilities at initialization were perfectly uniform? What loss do we achieve? (2) Can you tune the initialization to get a starting loss that is much more similar to (1)?"
   ]
  },
  {
   "cell_type": "code",
   "execution_count": 73,
   "metadata": {},
   "outputs": [
    {
     "data": {
      "text/plain": [
       "3.295836866004329"
      ]
     },
     "execution_count": 73,
     "metadata": {},
     "output_type": "execute_result"
    }
   ],
   "source": [
    "import math\n",
    "-math.log(1/27) # uniform distribution expected loss\n",
    "\n",
    "# change the initialization of W2 and b2 to be uniform (rand instead of randn)\n",
    "# loss changed from 26 to 6.4"
   ]
  },
  {
   "cell_type": "code",
   "execution_count": 103,
   "metadata": {},
   "outputs": [
    {
     "data": {
      "text/plain": [
       "tensor([[4.5638e-02, 8.1052e-01, 7.7975e-01, 7.2373e-01, 9.8029e-01, 7.1550e-01,\n",
       "         6.6397e-01, 2.2760e-01, 9.1630e-04, 8.2566e-01],\n",
       "        [1.2033e-01, 9.9081e-01, 5.3056e-01, 9.2277e-01, 7.7487e-01, 1.6358e-01,\n",
       "         1.8947e-01, 6.1463e-01, 8.6445e-01, 8.6702e-01],\n",
       "        [2.3535e-01, 4.8720e-01, 9.7103e-02, 5.8668e-01, 7.6454e-01, 4.4998e-01,\n",
       "         5.9904e-01, 2.8539e-01, 8.0303e-01, 3.0957e-01],\n",
       "        [8.5648e-01, 6.6244e-01, 5.8040e-01, 8.6573e-01, 7.9071e-01, 1.2165e-01,\n",
       "         9.3841e-01, 4.9714e-01, 3.3547e-01, 7.2875e-01],\n",
       "        [4.9946e-01, 9.4354e-01, 8.2928e-02, 1.3904e-01, 4.8609e-01, 1.1222e-01,\n",
       "         1.0718e-01, 7.3100e-01, 4.8992e-01, 9.7854e-01],\n",
       "        [6.0040e-01, 9.0129e-01, 2.6735e-01, 8.5546e-01, 4.9420e-01, 8.2827e-02,\n",
       "         2.3424e-01, 3.2498e-01, 9.9791e-01, 5.1748e-01],\n",
       "        [8.6770e-01, 2.0944e-01, 5.6272e-01, 8.4832e-01, 5.8061e-01, 9.7985e-01,\n",
       "         6.3236e-01, 5.3293e-01, 3.3808e-01, 7.8474e-01],\n",
       "        [5.8395e-01, 2.9844e-01, 2.5864e-01, 4.0378e-01, 1.9503e-01, 3.7836e-02,\n",
       "         5.3862e-01, 8.9829e-01, 9.7553e-01, 1.9457e-01],\n",
       "        [3.4150e-01, 8.6855e-01, 6.0607e-01, 7.0148e-01, 9.5552e-01, 4.5359e-01,\n",
       "         2.5540e-01, 5.8722e-01, 8.5296e-01, 6.0789e-01],\n",
       "        [2.0684e-02, 9.3806e-01, 2.0994e-01, 1.3678e-01, 8.8413e-01, 9.5151e-01,\n",
       "         9.7692e-01, 8.1549e-01, 6.8491e-01, 3.9054e-01],\n",
       "        [2.1230e-01, 7.6103e-01, 2.3796e-01, 8.1727e-01, 9.2283e-01, 6.1060e-01,\n",
       "         7.2042e-01, 2.8957e-01, 4.9515e-01, 7.6198e-01],\n",
       "        [3.9710e-01, 3.4862e-01, 3.8496e-01, 2.6806e-01, 4.4362e-01, 2.0300e-01,\n",
       "         7.8459e-01, 7.2490e-01, 8.5256e-01, 3.4417e-01],\n",
       "        [8.0553e-01, 5.6966e-01, 5.2653e-01, 1.4932e-01, 5.5777e-01, 4.4871e-01,\n",
       "         4.0187e-02, 3.3058e-01, 8.5676e-01, 3.2115e-01],\n",
       "        [3.7140e-01, 8.5868e-01, 7.3258e-01, 3.7053e-01, 8.0840e-02, 6.7763e-01,\n",
       "         5.0580e-01, 6.8261e-01, 1.1872e-01, 3.4545e-01],\n",
       "        [3.1683e-01, 2.8579e-02, 2.2162e-01, 3.6088e-01, 2.7470e-02, 1.1111e-01,\n",
       "         7.8977e-01, 1.1123e-01, 7.7366e-01, 9.4684e-01],\n",
       "        [7.0103e-01, 7.9233e-01, 6.5971e-02, 1.3206e-01, 3.2163e-01, 7.3287e-01,\n",
       "         6.6163e-01, 8.1097e-01, 1.1959e-01, 4.4310e-01],\n",
       "        [3.2717e-01, 9.4692e-01, 6.1478e-01, 2.5075e-02, 6.0904e-01, 6.7020e-01,\n",
       "         8.4136e-01, 9.4116e-02, 9.7302e-01, 4.0741e-01],\n",
       "        [4.0307e-01, 1.7265e-01, 6.6620e-02, 5.8193e-01, 1.4324e-01, 5.0671e-01,\n",
       "         5.7110e-02, 2.3004e-01, 9.8115e-01, 9.8959e-01],\n",
       "        [2.8986e-04, 5.4584e-01, 1.2219e-01, 8.9775e-01, 7.8125e-01, 7.3866e-01,\n",
       "         8.2573e-01, 4.1646e-01, 1.2530e-01, 9.8921e-01],\n",
       "        [7.5878e-01, 5.1688e-01, 9.5837e-01, 2.0342e-01, 4.3127e-01, 7.3176e-01,\n",
       "         7.0636e-01, 1.9046e-01, 3.9495e-01, 8.1213e-01],\n",
       "        [3.7597e-01, 3.1314e-01, 7.0375e-02, 3.4046e-02, 7.0369e-01, 4.6471e-01,\n",
       "         2.5324e-02, 2.7939e-01, 6.5701e-01, 2.5116e-01],\n",
       "        [1.1200e-01, 8.6578e-02, 8.3151e-01, 9.9320e-02, 9.7722e-01, 6.8062e-01,\n",
       "         4.8937e-01, 5.1783e-01, 5.0869e-01, 5.7003e-01],\n",
       "        [5.9886e-01, 6.2339e-01, 4.0961e-01, 5.3780e-01, 9.9319e-01, 8.6401e-01,\n",
       "         4.8656e-01, 7.6502e-01, 8.0712e-01, 8.2678e-01],\n",
       "        [7.6282e-01, 6.8556e-01, 2.7183e-01, 4.6766e-01, 3.7255e-01, 2.4652e-01,\n",
       "         3.0654e-01, 4.1617e-01, 7.2371e-02, 8.4295e-01],\n",
       "        [9.3256e-01, 8.6003e-01, 9.4690e-01, 3.4172e-01, 4.3750e-01, 4.5515e-02,\n",
       "         5.6816e-01, 3.7310e-01, 7.9200e-02, 1.5083e-01],\n",
       "        [2.6009e-01, 8.8840e-01, 4.1155e-01, 5.6700e-02, 5.1255e-01, 4.5333e-01,\n",
       "         8.6238e-01, 8.0989e-01, 4.0001e-01, 3.2816e-01],\n",
       "        [5.0132e-01, 2.8145e-01, 3.3319e-01, 8.6539e-01, 7.8732e-01, 6.6996e-01,\n",
       "         9.8281e-01, 3.6587e-01, 6.9192e-01, 7.3250e-01]])"
      ]
     },
     "execution_count": 103,
     "metadata": {},
     "output_type": "execute_result"
    }
   ],
   "source": [
    "test = torch.rand((27, 10), generator=g)\n",
    "test"
   ]
  }
 ],
 "metadata": {
  "kernelspec": {
   "display_name": "Python 3",
   "language": "python",
   "name": "python3"
  },
  "language_info": {
   "codemirror_mode": {
    "name": "ipython",
    "version": 3
   },
   "file_extension": ".py",
   "mimetype": "text/x-python",
   "name": "python",
   "nbconvert_exporter": "python",
   "pygments_lexer": "ipython3",
   "version": "3.10.11"
  }
 },
 "nbformat": 4,
 "nbformat_minor": 4
}
