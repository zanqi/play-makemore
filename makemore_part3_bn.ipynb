{
 "cells": [
  {
   "attachments": {},
   "cell_type": "markdown",
   "metadata": {},
   "source": [
    "# makemore: part 3"
   ]
  },
  {
   "cell_type": "code",
   "execution_count": 2,
   "metadata": {},
   "outputs": [],
   "source": [
    "import torch\n",
    "import torch.nn.functional as F\n",
    "import matplotlib.pyplot as plt # for making figures\n",
    "%matplotlib inline\n",
    "plt.rcParams['figure.facecolor'] = 'white'"
   ]
  },
  {
   "cell_type": "code",
   "execution_count": 3,
   "metadata": {},
   "outputs": [
    {
     "data": {
      "text/plain": [
       "['emma', 'olivia', 'ava', 'isabella', 'sophia', 'charlotte', 'mia', 'amelia']"
      ]
     },
     "execution_count": 3,
     "metadata": {},
     "output_type": "execute_result"
    }
   ],
   "source": [
    "# read in all the words\n",
    "words = open('names.txt', 'r').read().splitlines()\n",
    "words[:8]"
   ]
  },
  {
   "cell_type": "code",
   "execution_count": 4,
   "metadata": {},
   "outputs": [
    {
     "data": {
      "text/plain": [
       "32033"
      ]
     },
     "execution_count": 4,
     "metadata": {},
     "output_type": "execute_result"
    }
   ],
   "source": [
    "len(words)"
   ]
  },
  {
   "cell_type": "code",
   "execution_count": 5,
   "metadata": {},
   "outputs": [
    {
     "name": "stdout",
     "output_type": "stream",
     "text": [
      "{1: 'a', 2: 'b', 3: 'c', 4: 'd', 5: 'e', 6: 'f', 7: 'g', 8: 'h', 9: 'i', 10: 'j', 11: 'k', 12: 'l', 13: 'm', 14: 'n', 15: 'o', 16: 'p', 17: 'q', 18: 'r', 19: 's', 20: 't', 21: 'u', 22: 'v', 23: 'w', 24: 'x', 25: 'y', 26: 'z', 0: '.'}\n",
      "27\n"
     ]
    }
   ],
   "source": [
    "# build the vocabulary of characters and mappings to/from integers\n",
    "chars = sorted(list(set(''.join(words))))\n",
    "stoi = {s:i+1 for i,s in enumerate(chars)}\n",
    "stoi['.'] = 0\n",
    "itos = {i:s for s,i in stoi.items()}\n",
    "vocab_size = len(itos)\n",
    "print(itos)\n",
    "print(vocab_size)"
   ]
  },
  {
   "cell_type": "code",
   "execution_count": 6,
   "metadata": {},
   "outputs": [
    {
     "name": "stdout",
     "output_type": "stream",
     "text": [
      "torch.Size([182625, 3]) torch.Size([182625])\n",
      "torch.Size([22655, 3]) torch.Size([22655])\n",
      "torch.Size([22866, 3]) torch.Size([22866])\n"
     ]
    }
   ],
   "source": [
    "# build the dataset\n",
    "block_size = 3 # context length: how many characters do we take to predict the next one?\n",
    "\n",
    "def build_dataset(words):  \n",
    "  X, Y = [], []\n",
    "  \n",
    "  for w in words:\n",
    "    context = [0] * block_size\n",
    "    for ch in w + '.':\n",
    "      ix = stoi[ch]\n",
    "      X.append(context)\n",
    "      Y.append(ix)\n",
    "      context = context[1:] + [ix] # crop and append\n",
    "\n",
    "  X = torch.tensor(X)\n",
    "  Y = torch.tensor(Y)\n",
    "  print(X.shape, Y.shape)\n",
    "  return X, Y\n",
    "\n",
    "import random\n",
    "random.seed(42)\n",
    "random.shuffle(words)\n",
    "n1 = int(0.8*len(words))\n",
    "n2 = int(0.9*len(words))\n",
    "\n",
    "Xtr,  Ytr  = build_dataset(words[:n1])     # 80%\n",
    "Xdev, Ydev = build_dataset(words[n1:n2])   # 10%\n",
    "Xte,  Yte  = build_dataset(words[n2:])     # 10%\n"
   ]
  },
  {
   "cell_type": "code",
   "execution_count": 7,
   "metadata": {},
   "outputs": [
    {
     "name": "stdout",
     "output_type": "stream",
     "text": [
      "12097\n"
     ]
    }
   ],
   "source": [
    "# MLP revisited\n",
    "n_embd = 10 # the dimensionality of the character embedding vectors\n",
    "n_hidden = 200 # the number of neurons in the hidden layer of the MLP\n",
    "\n",
    "g = torch.Generator().manual_seed(2147483647) # for reproducibility\n",
    "C  = torch.randn((vocab_size, n_embd),            generator=g)\n",
    "W1 = torch.randn((n_embd * block_size, n_hidden), generator=g) * (5/3)/((n_embd * block_size)**0.5) #* 0.2\n",
    "#b1 = torch.randn(n_hidden,                        generator=g) * 0.01\n",
    "W2 = torch.randn((n_hidden, vocab_size),          generator=g) * 0.01\n",
    "b2 = torch.randn(vocab_size,                      generator=g) * 0\n",
    "\n",
    "# BatchNorm parameters\n",
    "bngain = torch.ones((1, n_hidden))\n",
    "bnbias = torch.zeros((1, n_hidden))\n",
    "bnmean_running = torch.zeros((1, n_hidden))\n",
    "bnstd_running = torch.ones((1, n_hidden))\n",
    "\n",
    "parameters = [C, W1, W2, b2, bngain, bnbias]\n",
    "print(sum(p.nelement() for p in parameters)) # number of parameters in total\n",
    "for p in parameters:\n",
    "  p.requires_grad = True"
   ]
  },
  {
   "cell_type": "code",
   "execution_count": 8,
   "metadata": {},
   "outputs": [
    {
     "name": "stdout",
     "output_type": "stream",
     "text": [
      "      0/ 200000: 3.3239\n",
      "  10000/ 200000: 2.0322\n",
      "  20000/ 200000: 2.5675\n",
      "  30000/ 200000: 2.0125\n",
      "  40000/ 200000: 2.2446\n",
      "  50000/ 200000: 1.8897\n",
      "  60000/ 200000: 2.0785\n",
      "  70000/ 200000: 2.3681\n",
      "  80000/ 200000: 2.2918\n",
      "  90000/ 200000: 2.0238\n",
      " 100000/ 200000: 2.3673\n",
      " 110000/ 200000: 2.3132\n",
      " 120000/ 200000: 1.6414\n",
      " 130000/ 200000: 1.9311\n",
      " 140000/ 200000: 2.2231\n",
      " 150000/ 200000: 2.0027\n",
      " 160000/ 200000: 2.0997\n",
      " 170000/ 200000: 2.4949\n",
      " 180000/ 200000: 2.0199\n",
      " 190000/ 200000: 2.1707\n"
     ]
    }
   ],
   "source": [
    "# same optimization as last time\n",
    "max_steps = 200000\n",
    "batch_size = 32\n",
    "lossi = []\n",
    "\n",
    "for i in range(max_steps):\n",
    "  \n",
    "  # minibatch construct\n",
    "  ix = torch.randint(0, Xtr.shape[0], (batch_size,), generator=g)\n",
    "  Xb, Yb = Xtr[ix], Ytr[ix] # batch X,Y\n",
    "  \n",
    "  # forward pass\n",
    "  emb = C[Xb] # embed the characters into vectors\n",
    "  embcat = emb.view(emb.shape[0], -1) # concatenate the vectors\n",
    "  # Linear layer\n",
    "  hpreact = embcat @ W1 #+ b1 # hidden layer pre-activation\n",
    "  # BatchNorm layer\n",
    "  # -------------------------------------------------------------\n",
    "  bnmeani = hpreact.mean(0, keepdim=True)\n",
    "  bnstdi = hpreact.std(0, keepdim=True)\n",
    "  hpreact = bngain * (hpreact - bnmeani) / bnstdi + bnbias\n",
    "  with torch.no_grad():\n",
    "    bnmean_running = 0.999 * bnmean_running + 0.001 * bnmeani\n",
    "    bnstd_running = 0.999 * bnstd_running + 0.001 * bnstdi\n",
    "  # -------------------------------------------------------------\n",
    "  # Non-linearity\n",
    "  h = torch.tanh(hpreact) # hidden layer\n",
    "  logits = h @ W2 + b2 # output layer\n",
    "  # todo: print(f'{logits=}') to see the confidently wrong phenomenon\n",
    "  loss = F.cross_entropy(logits, Yb) # loss function\n",
    "  \n",
    "  # backward pass\n",
    "  for p in parameters:\n",
    "    p.grad = None\n",
    "  loss.backward()\n",
    "  \n",
    "  # update\n",
    "  lr = 0.1 if i < 100000 else 0.01 # step learning rate decay\n",
    "  for p in parameters:\n",
    "    p.data += -lr * p.grad\n",
    "\n",
    "  # track stats\n",
    "  if i % 10000 == 0: # print every once in a while\n",
    "    print(f'{i:7d}/{max_steps:7d}: {loss.item():.4f}')\n",
    "  lossi.append(loss.log10().item())\n",
    "  "
   ]
  },
  {
   "cell_type": "code",
   "execution_count": 9,
   "metadata": {},
   "outputs": [
    {
     "data": {
      "text/plain": [
       "[<matplotlib.lines.Line2D at 0x29363dfc0>]"
      ]
     },
     "execution_count": 9,
     "metadata": {},
     "output_type": "execute_result"
    },
    {
     "data": {
      "image/png": "[encoded data removed]",
      "text/plain": [
       "<Figure size 432x288 with 1 Axes>"
      ]
     },
     "metadata": {},
     "output_type": "display_data"
    }
   ],
   "source": [
    "plt.plot(lossi)"
   ]
  },
  {
   "cell_type": "code",
   "execution_count": 10,
   "metadata": {},
   "outputs": [],
   "source": [
    "# calibrate the batch norm at the end of training\n",
    "\n",
    "with torch.no_grad():\n",
    "  # pass the training set through\n",
    "  emb = C[Xtr]\n",
    "  embcat = emb.view(emb.shape[0], -1)\n",
    "  hpreact = embcat @ W1 # + b1\n",
    "  # measure the mean/std over the entire training set\n",
    "  bnmean = hpreact.mean(0, keepdim=True)\n",
    "  bnstd = hpreact.std(0, keepdim=True)\n"
   ]
  },
  {
   "cell_type": "code",
   "execution_count": 11,
   "metadata": {},
   "outputs": [
    {
     "data": {
      "text/plain": [
       "tensor([-2.3948,  0.3696, -1.2718,  1.2949,  0.9555,  0.9955,  1.5502, -1.9208,\n",
       "         1.1124,  1.2444])"
      ]
     },
     "execution_count": 11,
     "metadata": {},
     "output_type": "execute_result"
    }
   ],
   "source": [
    "bnmean[0, :10]"
   ]
  },
  {
   "cell_type": "code",
   "execution_count": 12,
   "metadata": {},
   "outputs": [
    {
     "data": {
      "text/plain": [
       "tensor([-2.4073,  0.3733, -1.2681,  1.2967,  0.9688,  0.9837,  1.5422, -1.9247,\n",
       "         1.1060,  1.2247])"
      ]
     },
     "execution_count": 12,
     "metadata": {},
     "output_type": "execute_result"
    }
   ],
   "source": [
    "bnmean_running[0, :10] # should be close to the above"
   ]
  },
  {
   "cell_type": "code",
   "execution_count": 13,
   "metadata": {},
   "outputs": [
    {
     "name": "stdout",
     "output_type": "stream",
     "text": [
      "train 2.0674145221710205\n",
      "val 2.1056838035583496\n"
     ]
    }
   ],
   "source": [
    "@torch.no_grad() # this decorator disables gradient tracking\n",
    "def split_loss(split):\n",
    "  x,y = {\n",
    "    'train': (Xtr, Ytr),\n",
    "    'val': (Xdev, Ydev),\n",
    "    'test': (Xte, Yte),\n",
    "  }[split]\n",
    "  emb = C[x] # (N, block_size, n_embd)\n",
    "  embcat = emb.view(emb.shape[0], -1) # concat into (N, block_size * n_embd)\n",
    "  hpreact = embcat @ W1 # + b1\n",
    "  #hpreact = bngain * (hpreact - hpreact.mean(0, keepdim=True)) / hpreact.std(0, keepdim=True) + bnbias\n",
    "  hpreact = bngain * (hpreact - bnmean_running) / bnstd_running + bnbias\n",
    "  h = torch.tanh(hpreact) # (N, n_hidden)\n",
    "  logits = h @ W2 + b2 # (N, vocab_size)\n",
    "  loss = F.cross_entropy(logits, y) # reduction='mean' by default\n",
    "  print(split, loss.item())\n",
    "\n",
    "split_loss('train')\n",
    "split_loss('val')"
   ]
  },
  {
   "attachments": {},
   "cell_type": "markdown",
   "metadata": {},
   "source": [
    "## loss log\n",
    "\n",
    "### original:\n",
    "train 2.1245384216308594\n",
    "val   2.168196439743042\n",
    "\n",
    "### fix softmax confidently wrong:\n",
    "train 2.07\n",
    "val   2.13\n",
    "\n",
    "### fix tanh layer too saturated at init:\n",
    "train 2.0355966091156006\n",
    "val   2.1026785373687744\n",
    "\n",
    "### use semi-principled \"kaiming init\" instead of hacky init:\n",
    "train 2.0376641750335693\n",
    "val   2.106989622116089\n",
    "\n",
    "### add batch norm layer\n",
    "train 2.0668270587921143\n",
    "val 2.104844808578491\n"
   ]
  },
  {
   "cell_type": "code",
   "execution_count": 14,
   "metadata": {},
   "outputs": [],
   "source": [
    "# SUMMARY + PYTORCHIFYING -----------"
   ]
  },
  {
   "cell_type": "code",
   "execution_count": 74,
   "metadata": {},
   "outputs": [
    {
     "name": "stdout",
     "output_type": "stream",
     "text": [
      "47024\n"
     ]
    }
   ],
   "source": [
    "# Let's train a deeper network\n",
    "# The classes we create here are the same API as nn.Module in PyTorch\n",
    "\n",
    "class Linear:\n",
    "  \n",
    "  def __init__(self, fan_in, fan_out, bias=True):\n",
    "    self.weight = torch.randn((fan_in, fan_out), generator=g) / fan_in**0.5\n",
    "    # self.weight = torch.zeros((fan_in, fan_out))\n",
    "    self.bias = torch.zeros(fan_out) if bias else None\n",
    "  \n",
    "  def __call__(self, x):\n",
    "    self.out = x @ self.weight\n",
    "    if self.bias is not None:\n",
    "      self.out += self.bias\n",
    "    return self.out\n",
    "  \n",
    "  def parameters(self):\n",
    "    return [self.weight] + ([] if self.bias is None else [self.bias])\n",
    "\n",
    "\n",
    "class BatchNorm1d:\n",
    "  \n",
    "  def __init__(self, dim, eps=1e-5, momentum=0.1):\n",
    "    self.eps = eps\n",
    "    self.momentum = momentum\n",
    "    self.training = True\n",
    "    # parameters (trained with backprop)\n",
    "    self.gamma = torch.ones(dim)\n",
    "    self.beta = torch.zeros(dim)\n",
    "    # buffers (trained with a running 'momentum update')\n",
    "    self.running_mean = torch.zeros(dim)\n",
    "    self.running_var = torch.ones(dim)\n",
    "  \n",
    "  def __call__(self, x):\n",
    "    # calculate the forward pass\n",
    "    if self.training:\n",
    "      xmean = x.mean(0, keepdim=True) # batch mean\n",
    "      xvar = x.var(0, keepdim=True) # batch variance\n",
    "    else:\n",
    "      xmean = self.running_mean\n",
    "      xvar = self.running_var\n",
    "    xhat = (x - xmean) / torch.sqrt(xvar + self.eps) # normalize to unit variance\n",
    "    self.out = self.gamma * xhat + self.beta\n",
    "    # update the buffers\n",
    "    if self.training:\n",
    "      with torch.no_grad():\n",
    "        self.running_mean = (1 - self.momentum) * self.running_mean + self.momentum * xmean\n",
    "        self.running_var = (1 - self.momentum) * self.running_var + self.momentum * xvar\n",
    "    return self.out\n",
    "  \n",
    "  def parameters(self):\n",
    "    return [self.gamma, self.beta]\n",
    "\n",
    "class Tanh:\n",
    "  def __call__(self, x):\n",
    "    self.out = torch.tanh(x)\n",
    "    return self.out\n",
    "  def parameters(self):\n",
    "    return []\n",
    "\n",
    "n_embd = 10 # the dimensionality of the character embedding vectors\n",
    "n_hidden = 100 # the number of neurons in the hidden layer of the MLP\n",
    "g = torch.Generator().manual_seed(2147483647) # for reproducibility\n",
    "\n",
    "C = torch.randn((vocab_size, n_embd),            generator=g)\n",
    "# C = torch.zeros((vocab_size, n_embd))\n",
    "layers = [\n",
    "  Linear(n_embd * block_size, n_hidden, bias=False), BatchNorm1d(n_hidden), Tanh(),\n",
    "  Linear(           n_hidden, n_hidden, bias=False), BatchNorm1d(n_hidden), Tanh(),\n",
    "  Linear(           n_hidden, n_hidden, bias=False), BatchNorm1d(n_hidden), Tanh(),\n",
    "  Linear(           n_hidden, n_hidden, bias=False), BatchNorm1d(n_hidden), Tanh(),\n",
    "  Linear(           n_hidden, n_hidden, bias=False), BatchNorm1d(n_hidden), Tanh(),\n",
    "  Linear(           n_hidden, vocab_size, bias=False), BatchNorm1d(vocab_size),\n",
    "]\n",
    "# layers = [\n",
    "#   Linear(n_embd * block_size, n_hidden), Tanh(),\n",
    "#   Linear(           n_hidden, n_hidden), Tanh(),\n",
    "#   Linear(           n_hidden, n_hidden), Tanh(),\n",
    "#   Linear(           n_hidden, n_hidden), Tanh(),\n",
    "#   Linear(           n_hidden, n_hidden), Tanh(),\n",
    "#   Linear(           n_hidden, vocab_size),\n",
    "# ]\n",
    "\n",
    "with torch.no_grad():\n",
    "  # last layer: make less confident\n",
    "  layers[-1].gamma *= 0.1\n",
    "  #layers[-1].weight *= 0.1\n",
    "  # all other layers: apply gain\n",
    "  for layer in layers[:-1]:\n",
    "    if isinstance(layer, Linear):\n",
    "      layer.weight *= 1.0 #5/3\n",
    "\n",
    "parameters = [C] + [p for layer in layers for p in layer.parameters()]\n",
    "print(sum(p.nelement() for p in parameters)) # number of parameters in total\n",
    "for p in parameters:\n",
    "  p.requires_grad = True"
   ]
  },
  {
   "cell_type": "code",
   "execution_count": 80,
   "metadata": {},
   "outputs": [
    {
     "name": "stdout",
     "output_type": "stream",
     "text": [
      "      0/ 200000: 3.5183\n"
     ]
    }
   ],
   "source": [
    "# same optimization as last time\n",
    "max_steps = 200000\n",
    "batch_size = 32\n",
    "lossi = []\n",
    "ud = []\n",
    "\n",
    "for i in range(max_steps):\n",
    "  \n",
    "  # minibatch construct\n",
    "  ix = torch.randint(0, Xtr.shape[0], (batch_size,), generator=g)\n",
    "  Xb, Yb = Xtr[ix], Ytr[ix] # batch X,Y\n",
    "  \n",
    "  # forward pass\n",
    "  emb = C[Xb] # embed the characters into vectors\n",
    "  x = emb.view(emb.shape[0], -1) # concatenate the vectors\n",
    "  for layer in layers:\n",
    "    x = layer(x)\n",
    "  loss = F.cross_entropy(x, Yb) # loss function\n",
    "  \n",
    "  # backward pass\n",
    "  for layer in layers:\n",
    "    layer.out.retain_grad() # AFTER_DEBUG: would take out retain_grad\n",
    "  for p in parameters:\n",
    "    p.grad = None\n",
    "  loss.backward()\n",
    "  \n",
    "  # update\n",
    "  lr = 0.1 if i < 150000 else 0.01 # step learning rate decay\n",
    "  for p in parameters:\n",
    "    p.data += -lr * p.grad\n",
    "\n",
    "  # track stats\n",
    "  if i % 10000 == 0: # print every once in a while\n",
    "    print(f'{i:7d}/{max_steps:7d}: {loss.item():.4f}')\n",
    "  lossi.append(loss.log10().item())\n",
    "  with torch.no_grad():\n",
    "    ud.append([((lr*p.grad).std() / p.data.std()).log10().item() for p in parameters])\n",
    "\n",
    "  if i >= 1000:\n",
    "    break # AFTER_DEBUG: would take out obviously to run full optimization"
   ]
  },
  {
   "cell_type": "code",
   "execution_count": 76,
   "metadata": {},
   "outputs": [
    {
     "name": "stdout",
     "output_type": "stream",
     "text": [
      "layer 2 (      Tanh): mean -0.00, std 0.63, saturated: 2.78%\n",
      "layer 5 (      Tanh): mean +0.00, std 0.64, saturated: 2.56%\n",
      "layer 8 (      Tanh): mean -0.00, std 0.65, saturated: 2.25%\n",
      "layer 11 (      Tanh): mean +0.00, std 0.65, saturated: 1.69%\n",
      "layer 14 (      Tanh): mean +0.00, std 0.65, saturated: 1.88%\n"
     ]
    },
    {
     "data": {
      "text/plain": [
       "Text(0.5, 1.0, 'activation distribution')"
      ]
     },
     "execution_count": 76,
     "metadata": {},
     "output_type": "execute_result"
    },
    {
     "data": {
      "image/png": "[encoded data removed]",
      "text/plain": [
       "<Figure size 1440x288 with 1 Axes>"
      ]
     },
     "metadata": {},
     "output_type": "display_data"
    }
   ],
   "source": [
    "# visualize histograms\n",
    "plt.figure(figsize=(20, 4)) # width and height of the plot\n",
    "legends = []\n",
    "for i, layer in enumerate(layers[:-1]): # note: exclude the output layer\n",
    "  if isinstance(layer, Tanh):\n",
    "    t = layer.out\n",
    "    print('layer %d (%10s): mean %+.2f, std %.2f, saturated: %.2f%%' % (i, layer.__class__.__name__, t.mean(), t.std(), (t.abs() > 0.97).float().mean()*100))\n",
    "    hy, hx = torch.histogram(t, density=True)\n",
    "    plt.plot(hx[:-1].detach(), hy.detach())\n",
    "    legends.append(f'layer {i} ({layer.__class__.__name__})')\n",
    "plt.legend(legends);\n",
    "plt.title('activation distribution')"
   ]
  },
  {
   "cell_type": "code",
   "execution_count": 70,
   "metadata": {},
   "outputs": [
    {
     "name": "stdout",
     "output_type": "stream",
     "text": [
      "layer 2 (      Tanh): mean +0.000000, std 0.000000e+00\n",
      "layer 5 (      Tanh): mean +0.000000, std 0.000000e+00\n",
      "layer 8 (      Tanh): mean +0.000000, std 0.000000e+00\n",
      "layer 11 (      Tanh): mean +0.000000, std 0.000000e+00\n",
      "layer 14 (      Tanh): mean +0.000000, std 0.000000e+00\n"
     ]
    },
    {
     "data": {
      "text/plain": [
       "Text(0.5, 1.0, 'gradient distribution')"
      ]
     },
     "execution_count": 70,
     "metadata": {},
     "output_type": "execute_result"
    },
    {
     "data": {
      "image/png": "[encoded data removed]",
      "text/plain": [
       "<Figure size 1440x288 with 1 Axes>"
      ]
     },
     "metadata": {},
     "output_type": "display_data"
    }
   ],
   "source": [
    "# visualize histograms\n",
    "plt.figure(figsize=(20, 4)) # width and height of the plot\n",
    "legends = []\n",
    "for i, layer in enumerate(layers[:-1]): # note: exclude the output layer\n",
    "  if isinstance(layer, Tanh):\n",
    "    t = layer.out.grad\n",
    "    print('layer %d (%10s): mean %+f, std %e' % (i, layer.__class__.__name__, t.mean(), t.std()))\n",
    "    hy, hx = torch.histogram(t, density=True)\n",
    "    plt.plot(hx[:-1].detach(), hy.detach())\n",
    "    legends.append(f'layer {i} ({layer.__class__.__name__}')\n",
    "plt.legend(legends);\n",
    "plt.title('gradient distribution')"
   ]
  },
  {
   "cell_type": "code",
   "execution_count": 71,
   "metadata": {},
   "outputs": [
    {
     "name": "stdout",
     "output_type": "stream",
     "text": [
      "weight   (27, 10) | mean +0.000000 | std 0.000000e+00 | grad:data ratio 0.000000e+00\n",
      "weight  (30, 100) | mean +0.000000 | std 0.000000e+00 | grad:data ratio nan\n",
      "weight (100, 100) | mean +0.000000 | std 0.000000e+00 | grad:data ratio nan\n",
      "weight (100, 100) | mean +0.000000 | std 0.000000e+00 | grad:data ratio nan\n",
      "weight (100, 100) | mean +0.000000 | std 0.000000e+00 | grad:data ratio nan\n",
      "weight (100, 100) | mean +0.000000 | std 0.000000e+00 | grad:data ratio nan\n",
      "weight  (100, 27) | mean +0.000000 | std 0.000000e+00 | grad:data ratio nan\n"
     ]
    },
    {
     "data": {
      "image/png": "[encoded data removed]",
      "text/plain": [
       "<Figure size 1440x288 with 1 Axes>"
      ]
     },
     "metadata": {},
     "output_type": "display_data"
    }
   ],
   "source": [
    "# visualize histograms\n",
    "plt.figure(figsize=(20, 4)) # width and height of the plot\n",
    "legends = []\n",
    "for i,p in enumerate(parameters):\n",
    "  t = p.grad\n",
    "  if p.ndim == 2:\n",
    "    print('weight %10s | mean %+f | std %e | grad:data ratio %e' % (tuple(p.shape), t.mean(), t.std(), t.std() / p.std()))\n",
    "    hy, hx = torch.histogram(t, density=True)\n",
    "    plt.plot(hx[:-1].detach(), hy.detach())\n",
    "    legends.append(f'{i} {tuple(p.shape)}')\n",
    "plt.legend(legends)\n",
    "plt.title('weights gradient distribution');"
   ]
  },
  {
   "cell_type": "code",
   "execution_count": 72,
   "metadata": {},
   "outputs": [
    {
     "data": {
      "image/png": "[encoded data removed]",
      "text/plain": [
       "<Figure size 1440x288 with 1 Axes>"
      ]
     },
     "metadata": {},
     "output_type": "display_data"
    }
   ],
   "source": [
    "plt.figure(figsize=(20, 4))\n",
    "legends = []\n",
    "for i,p in enumerate(parameters):\n",
    "  if p.ndim == 2:\n",
    "    plt.plot([ud[j][i] for j in range(len(ud))])\n",
    "    legends.append('param %d' % i)\n",
    "plt.plot([0, len(ud)], [-3, -3], 'k') # these ratios should be ~1e-3, indicate on plot\n",
    "leg = plt.legend(legends);\n"
   ]
  },
  {
   "cell_type": "code",
   "execution_count": 73,
   "metadata": {},
   "outputs": [
    {
     "name": "stdout",
     "output_type": "stream",
     "text": [
      "train 2.833601713180542\n",
      "val 2.8324995040893555\n"
     ]
    }
   ],
   "source": [
    "@torch.no_grad() # this decorator disables gradient tracking\n",
    "def split_loss(split):\n",
    "  x,y = {\n",
    "    'train': (Xtr, Ytr),\n",
    "    'val': (Xdev, Ydev),\n",
    "    'test': (Xte, Yte),\n",
    "  }[split]\n",
    "  emb = C[x] # (N, block_size, n_embd)\n",
    "  x = emb.view(emb.shape[0], -1) # concat into (N, block_size * n_embd)\n",
    "  for layer in layers:\n",
    "    x = layer(x)\n",
    "  loss = F.cross_entropy(x, y)\n",
    "  print(split, loss.item())\n",
    "\n",
    "# put layers into eval mode\n",
    "for layer in layers:\n",
    "  layer.training = False\n",
    "split_loss('train')\n",
    "split_loss('val')"
   ]
  },
  {
   "cell_type": "code",
   "execution_count": 35,
   "metadata": {},
   "outputs": [
    {
     "name": "stdout",
     "output_type": "stream",
     "text": [
      "carpah.\n",
      "qarlileif.\n",
      "jmrix.\n",
      "thty.\n",
      "sacansa.\n",
      "jazhnte.\n",
      "dpn.\n",
      "arciigqeiunellaia.\n",
      "chriiv.\n",
      "kalein.\n",
      "dhlm.\n",
      "join.\n",
      "qhinn.\n",
      "sroin.\n",
      "arian.\n",
      "quiqaelogiearyxix.\n",
      "kaeklinsan.\n",
      "ed.\n",
      "ecoia.\n",
      "gtleley.\n"
     ]
    }
   ],
   "source": [
    "# sample from the model\n",
    "g = torch.Generator().manual_seed(2147483647 + 10)\n",
    "\n",
    "for _ in range(20):\n",
    "    \n",
    "    out = []\n",
    "    context = [0] * block_size # initialize with all ...\n",
    "    while True:\n",
    "      # forward pass the neural net\n",
    "      emb = C[torch.tensor([context])] # (1,block_size,n_embd)\n",
    "      x = emb.view(emb.shape[0], -1) # concatenate the vectors\n",
    "      for layer in layers:\n",
    "        x = layer(x)\n",
    "      logits = x\n",
    "      probs = F.softmax(logits, dim=1)\n",
    "      # sample from the distribution\n",
    "      ix = torch.multinomial(probs, num_samples=1, generator=g).item()\n",
    "      # shift the context window and track the samples\n",
    "      context = context[1:] + [ix]\n",
    "      out.append(ix)\n",
    "      # if we sample the special '.' token, break\n",
    "      if ix == 0:\n",
    "        break\n",
    "    \n",
    "    print(''.join(itos[i] for i in out)) # decode and print the generated word"
   ]
  },
  {
   "cell_type": "code",
   "execution_count": 21,
   "metadata": {},
   "outputs": [],
   "source": [
    "# DONE; BONUS content below, not covered in video"
   ]
  },
  {
   "cell_type": "code",
   "execution_count": 37,
   "metadata": {},
   "outputs": [
    {
     "data": {
      "application/vnd.jupyter.widget-view+json": {
       "model_id": "6746f300ae7c4b2893a547a000b6bd59",
       "version_major": 2,
       "version_minor": 0
      },
      "text/plain": [
       "interactive(children=(FloatSlider(value=0.0, description='x0', max=30.0, min=-30.0, step=0.5), Output()), _dom…"
      ]
     },
     "metadata": {},
     "output_type": "display_data"
    }
   ],
   "source": [
    "# BatchNorm forward pass as a widget\n",
    "\n",
    "from ipywidgets import interact, interactive, fixed, interact_manual\n",
    "import ipywidgets as widgets\n",
    "import scipy.stats as stats\n",
    "import numpy as np\n",
    "\n",
    "def normshow(x0):\n",
    "  \n",
    "  g = torch.Generator().manual_seed(2147483647+1)\n",
    "  x = torch.randn(5, generator=g) * 5\n",
    "  x[0] = x0 # override the 0th example with the slider\n",
    "  mu = x.mean()\n",
    "  sig = x.std()\n",
    "  y = (x - mu)/sig\n",
    "\n",
    "  plt.figure(figsize=(10, 5))\n",
    "  # plot 0\n",
    "  plt.plot([-6,6], [0,0], 'k')\n",
    "  # plot the mean and std\n",
    "  xx = np.linspace(-6, 6, 100)\n",
    "  plt.plot(xx, stats.norm.pdf(xx, mu, sig), 'b')\n",
    "  xx = np.linspace(-6, 6, 100)\n",
    "  plt.plot(xx, stats.norm.pdf(xx, 0, 1), 'r')\n",
    "  # plot little lines connecting input and output\n",
    "  for i in range(len(x)):\n",
    "    plt.plot([x[i],y[i]], [1, 0], 'k', alpha=0.2)\n",
    "  # plot the input and output values\n",
    "  plt.scatter(x.data, torch.ones_like(x).data, c='b', s=100)\n",
    "  plt.scatter(y.data, torch.zeros_like(y).data, c='r', s=100)\n",
    "  plt.xlim(-6, 6)\n",
    "  # title\n",
    "  plt.title('input mu %.2f std %.2f' % (mu, sig))\n",
    "\n",
    "interact(normshow, x0=(-30,30,0.5));\n"
   ]
  },
  {
   "cell_type": "code",
   "execution_count": 40,
   "metadata": {},
   "outputs": [
    {
     "name": "stdout",
     "output_type": "stream",
     "text": [
      "a std: 0.9875972270965576\n",
      "b std: 1.0006722211837769\n",
      "c std: 31.01241683959961\n",
      "-----\n",
      "c grad std: 0.9782556295394897\n",
      "a grad std: 30.8818302154541\n",
      "b grad std: 0.9666601419448853\n"
     ]
    }
   ],
   "source": [
    "# Linear: activation statistics of forward and backward pass\n",
    "\n",
    "g = torch.Generator().manual_seed(2147483647)\n",
    "\n",
    "a = torch.randn((1000,1), requires_grad=True, generator=g)          # a.grad = b.T @ c.grad\n",
    "b = torch.randn((1000,1000), requires_grad=True, generator=g)       # b.grad = c.grad @ a.T\n",
    "c = b @ a\n",
    "loss = torch.randn(1000, generator=g) @ c\n",
    "a.retain_grad()\n",
    "b.retain_grad()\n",
    "c.retain_grad()\n",
    "loss.backward()\n",
    "print('a std:', a.std().item())\n",
    "print('b std:', b.std().item())\n",
    "print('c std:', c.std().item()) # std(x+y+z) = sqrt(std(x)^2 + std(y)^2 + std(z)^2) = sqrt(1000) = 31.6 in our case here\n",
    "print('-----')\n",
    "print('c grad std:', c.grad.std().item())\n",
    "print('a grad std:', a.grad.std().item()) # similar to the std of c, for each term in a.grad, we have 1000 terms added together, leading to std of sqrt(1000)\n",
    "print('b grad std:', b.grad.std().item()) # each term in b.grad is a sum of 1 term. See here on why std(x*y) = std(x)*std(y) https://math.stackexchange.com/questions/1416518/standard-deviation-of-the-product-of-gaussians"
   ]
  },
  {
   "cell_type": "code",
   "execution_count": 24,
   "metadata": {},
   "outputs": [
    {
     "name": "stdout",
     "output_type": "stream",
     "text": [
      "inp std:  0.9875972270965576\n",
      "w std:  1.0006722211837769\n",
      "x std:  31.01241683959961\n",
      "out std:  1.0\n",
      "------\n",
      "out grad std:  0.9782556295394897\n",
      "x grad std:  0.031543977558612823\n",
      "w grad std:  0.031169468536973\n",
      "inp grad std:  0.9953052997589111\n"
     ]
    }
   ],
   "source": [
    "# Linear + BatchNorm: activation statistics of forward and backward pass\n",
    "\n",
    "g = torch.Generator().manual_seed(2147483647)\n",
    "\n",
    "n = 1000\n",
    "# linear layer ---\n",
    "inp = torch.randn(n, requires_grad=True, generator=g)\n",
    "w = torch.randn((n, n), requires_grad=True, generator=g) # / n**0.5\n",
    "x = w @ inp\n",
    "# bn layer ---\n",
    "xmean = x.mean()\n",
    "xvar = x.var()\n",
    "out = (x - xmean) / torch.sqrt(xvar + 1e-5)\n",
    "# ----\n",
    "loss = out @ torch.randn(n, generator=g)\n",
    "inp.retain_grad()\n",
    "x.retain_grad()\n",
    "w.retain_grad()\n",
    "out.retain_grad()\n",
    "loss.backward()\n",
    "\n",
    "print('inp std: ', inp.std().item())\n",
    "print('w std: ', w.std().item())\n",
    "print('x std: ', x.std().item())\n",
    "print('out std: ', out.std().item())\n",
    "print('------')\n",
    "print('out grad std: ', out.grad.std().item())\n",
    "print('x grad std: ', x.grad.std().item())\n",
    "print('w grad std: ', w.grad.std().item())\n",
    "print('inp grad std: ', inp.grad.std().item())"
   ]
  },
  {
   "cell_type": "code",
   "execution_count": null,
   "metadata": {},
   "outputs": [],
   "source": [
    "# - E01: I did not get around to seeing what happens when you initialize all weights and biases to zero. Try this and train the neural net. You might think either that 1) the network trains just fine or 2) the network doesn't train at all, but actually it is 3) the network trains but only partially, and achieves a pretty bad final performance. Inspect the gradients and activations to figure out what is happening and why the network is only partially training, and what part is being trained exactly.\n",
    "# - E02: BatchNorm, unlike other normalization layers like LayerNorm/GroupNorm etc. has the big advantage that after training, the batchnorm gamma/beta can be \"folded into\" the weights of the preceeding Linear layers, effectively erasing the need to forward it at test time. Set up a small 3-layer MLP with batchnorms, train the network, then \"fold\" the batchnorm gamma/beta into the preceeding Linear layer's W,b by creating a new W2, b2 and erasing the batch norm. Verify that this gives the same forward pass during inference. i.e. we see that the batchnorm is there just for stabilizing the training, and can be thrown out after training is done! pretty cool."
   ]
  },
  {
   "cell_type": "code",
   "execution_count": 108,
   "metadata": {},
   "outputs": [
    {
     "name": "stdout",
     "output_type": "stream",
     "text": [
      "6224\n"
     ]
    }
   ],
   "source": [
    "\n",
    "layers = [\n",
    "  Linear(n_embd * block_size, n_hidden, bias=False), BatchNorm1d(n_hidden), Tanh(),\n",
    "  # Linear(           n_hidden, n_hidden, bias=False), BatchNorm1d(n_hidden), Tanh(),\n",
    "  Linear(           n_hidden, vocab_size, bias=False), BatchNorm1d(vocab_size),\n",
    "]\n",
    "\n",
    "parameters = [C] + [p for layer in layers for p in layer.parameters()]\n",
    "print(sum(p.nelement() for p in parameters)) # number of parameters in total\n",
    "for p in parameters:\n",
    "  p.requires_grad = True"
   ]
  },
  {
   "cell_type": "code",
   "execution_count": 109,
   "metadata": {},
   "outputs": [
    {
     "name": "stdout",
     "output_type": "stream",
     "text": [
      "      0/ 200000: 3.7719\n"
     ]
    }
   ],
   "source": [
    "# same optimization as last time\n",
    "max_steps = 200000\n",
    "batch_size = 32\n",
    "lossi = []\n",
    "ud = []\n",
    "\n",
    "for i in range(max_steps):\n",
    "  \n",
    "  # minibatch construct\n",
    "  ix = torch.randint(0, Xtr.shape[0], (batch_size,), generator=g)\n",
    "  Xb, Yb = Xtr[ix], Ytr[ix] # batch X,Y\n",
    "  \n",
    "  # forward pass\n",
    "  emb = C[Xb] # embed the characters into vectors\n",
    "  x = emb.view(emb.shape[0], -1) # concatenate the vectors\n",
    "  for layer in layers:\n",
    "    x = layer(x)\n",
    "  loss = F.cross_entropy(x, Yb) # loss function\n",
    "  \n",
    "  # backward pass\n",
    "  for layer in layers:\n",
    "    layer.out.retain_grad() # AFTER_DEBUG: would take out retain_grad\n",
    "  for p in parameters:\n",
    "    p.grad = None\n",
    "  loss.backward()\n",
    "  \n",
    "  # update\n",
    "  lr = 0.1 if i < 150000 else 0.01 # step learning rate decay\n",
    "  for p in parameters:\n",
    "    p.data += -lr * p.grad\n",
    "\n",
    "  # track stats\n",
    "  if i % 10000 == 0: # print every once in a while\n",
    "    print(f'{i:7d}/{max_steps:7d}: {loss.item():.4f}')\n",
    "  lossi.append(loss.log10().item())\n",
    "  with torch.no_grad():\n",
    "    ud.append([((lr*p.grad).std() / p.data.std()).log10().item() for p in parameters])\n",
    "\n",
    "  if i >= 1000:\n",
    "    break # AFTER_DEBUG: would take out obviously to run full optimization"
   ]
  },
  {
   "cell_type": "code",
   "execution_count": 110,
   "metadata": {},
   "outputs": [],
   "source": [
    "for layer in layers:\n",
    "  layer.training = False"
   ]
  },
  {
   "cell_type": "code",
   "execution_count": 111,
   "metadata": {},
   "outputs": [
    {
     "data": {
      "text/plain": [
       "tensor([[-5.5048e-01,  2.8148e+00, -8.5037e-01, -6.4526e-01,  6.7872e-02,\n",
       "          7.2332e-01, -1.1378e+00, -8.3603e-01, -3.4686e-01, -4.0293e-01,\n",
       "         -8.9480e-01, -9.5052e-01,  1.4188e+00, -8.2119e-02,  5.8434e-01,\n",
       "          9.4441e-01, -7.3001e-01, -1.2133e+00,  1.5878e-01,  5.7776e-01,\n",
       "         -6.4302e-01,  2.9740e-01, -2.1509e-01, -1.2830e+00, -1.1097e+00,\n",
       "         -3.2439e-01, -4.1395e-01],\n",
       "        [ 2.4784e+00,  2.2873e+00, -1.2375e+00, -2.0934e+00, -8.9292e-01,\n",
       "          2.4813e+00, -1.5325e+00, -1.8128e+00, -2.0022e+00,  2.8165e+00,\n",
       "         -1.4600e+00, -1.0333e+00,  1.2392e+00,  2.1298e-01, -3.7787e-01,\n",
       "          1.0570e+00, -1.9280e+00, -1.1776e+00,  2.2000e+00, -1.1962e+00,\n",
       "         -9.0377e-01, -3.0045e-01, -1.5421e+00, -1.6141e+00, -1.5919e+00,\n",
       "          1.0177e+00, -1.7856e+00],\n",
       "        [ 3.6682e-01,  2.9012e+00,  1.0143e-02, -1.8192e-01, -7.8334e-01,\n",
       "          2.4837e+00, -1.2255e+00, -1.2665e+00, -1.3849e+00,  2.2909e+00,\n",
       "         -1.3349e+00, -3.2011e-01, -1.3182e-01,  9.4983e-01,  5.3812e-01,\n",
       "          1.1435e+00, -9.3176e-01, -8.4050e-01,  7.9002e-01, -1.5521e-01,\n",
       "         -1.2338e+00,  1.6962e-01, -1.5145e-01, -7.8625e-01, -8.7494e-01,\n",
       "          1.1081e+00, -8.6207e-01],\n",
       "        [-6.9792e-01,  9.7766e-01, -2.2395e-01, -4.4433e-01,  5.0784e-01,\n",
       "          3.7118e-01, -8.2032e-01, -7.8005e-01, -4.6642e-01, -2.7103e-01,\n",
       "         -7.0282e-01, -7.2558e-01,  2.0869e+00,  1.0993e+00,  3.3617e-01,\n",
       "         -3.5726e-01, -8.3946e-01, -1.6025e+00,  1.8973e+00,  9.0490e-01,\n",
       "         -7.4194e-01, -3.4763e-01,  6.5794e-01, -9.5174e-01, -1.2359e+00,\n",
       "          2.7274e-01, -2.2947e-01],\n",
       "        [ 2.2217e+00, -1.9239e-01, -7.2125e-01, -6.7217e-01,  7.3277e-01,\n",
       "          7.4595e-02, -9.6193e-01,  1.5269e-01,  9.8669e-02, -7.3630e-01,\n",
       "         -6.3076e-01, -2.4748e-01,  2.0354e+00,  3.6328e-01,  3.0729e+00,\n",
       "         -1.0922e+00, -1.1273e+00, -1.2291e+00,  1.6253e+00,  1.0354e+00,\n",
       "          1.0443e+00, -1.1794e+00,  1.3039e-01, -1.2657e+00, -8.8486e-01,\n",
       "         -9.3486e-01, -8.0185e-01],\n",
       "        [ 1.4327e+00,  3.6457e+00, -1.3714e+00, -9.3760e-01, -1.3703e+00,\n",
       "          3.5657e+00, -1.1701e+00, -1.8148e+00, -3.6234e-01,  2.3995e+00,\n",
       "         -1.0934e+00, -6.9998e-01,  8.8980e-01, -7.7510e-01, -1.4143e+00,\n",
       "          2.4158e+00, -1.1235e+00, -4.5342e-01,  7.7435e-02, -5.5162e-01,\n",
       "         -1.1059e+00,  1.2241e+00, -1.5720e+00, -8.2760e-01, -9.6882e-01,\n",
       "          1.6823e+00, -1.2778e+00],\n",
       "        [-1.1162e+00,  3.0569e+00, -8.1546e-01, -9.2169e-01, -8.2666e-01,\n",
       "          1.7201e+00, -1.2196e+00, -1.5482e+00,  2.9926e+00,  7.5687e-01,\n",
       "         -6.9931e-01, -3.0718e-01,  3.9787e-01, -1.0335e+00, -9.7889e-01,\n",
       "          2.1672e+00, -3.6886e-01, -1.0892e+00,  2.5531e-01,  2.7076e-01,\n",
       "          8.2327e-01,  1.4863e+00, -7.8127e-01, -5.9106e-01, -5.9470e-01,\n",
       "          6.8658e-01, -3.7266e-01],\n",
       "        [-6.9792e-01,  9.7766e-01, -2.2395e-01, -4.4433e-01,  5.0784e-01,\n",
       "          3.7118e-01, -8.2032e-01, -7.8005e-01, -4.6642e-01, -2.7103e-01,\n",
       "         -7.0282e-01, -7.2558e-01,  2.0869e+00,  1.0993e+00,  3.3617e-01,\n",
       "         -3.5726e-01, -8.3946e-01, -1.6025e+00,  1.8973e+00,  9.0490e-01,\n",
       "         -7.4194e-01, -3.4763e-01,  6.5794e-01, -9.5174e-01, -1.2359e+00,\n",
       "          2.7274e-01, -2.2947e-01],\n",
       "        [-1.6042e+00,  1.8179e+00,  8.8911e-01,  1.1858e+00,  1.1474e+00,\n",
       "          1.6420e-01, -2.0542e-02,  4.8955e-01,  2.9725e-01,  8.8719e-02,\n",
       "          1.3471e+00,  1.4329e+00,  1.3345e+00,  1.6595e+00,  4.8647e-01,\n",
       "         -1.1175e-01,  1.0857e-01, -7.5639e-01,  1.0839e+00,  1.3538e+00,\n",
       "          5.9479e-01, -8.6307e-01, -1.2395e-01, -5.3990e-01, -8.3808e-01,\n",
       "         -4.6231e-01,  4.7939e-01],\n",
       "        [-1.6042e+00,  1.8179e+00,  8.8911e-01,  1.1858e+00,  1.1474e+00,\n",
       "          1.6420e-01, -2.0542e-02,  4.8955e-01,  2.9725e-01,  8.8719e-02,\n",
       "          1.3471e+00,  1.4329e+00,  1.3345e+00,  1.6595e+00,  4.8647e-01,\n",
       "         -1.1175e-01,  1.0857e-01, -7.5639e-01,  1.0839e+00,  1.3538e+00,\n",
       "          5.9479e-01, -8.6307e-01, -1.2395e-01, -5.3990e-01, -8.3808e-01,\n",
       "         -4.6231e-01,  4.7939e-01],\n",
       "        [ 3.5191e+00,  4.1621e-01, -8.9215e-01, -8.2978e-01,  6.2613e-01,\n",
       "         -6.1590e-02, -6.1032e-01,  7.5715e-01, -8.2287e-02,  3.4493e-02,\n",
       "         -5.1229e-01, -6.4122e-01,  2.4989e+00,  7.0122e-01,  2.4408e+00,\n",
       "         -1.1797e+00, -1.1477e+00, -8.8899e-01,  1.2188e+00,  1.4949e+00,\n",
       "          5.1128e-01, -1.6540e+00, -5.1299e-02, -1.4901e+00, -1.4365e+00,\n",
       "         -9.3823e-01, -5.8263e-01],\n",
       "        [-1.2377e+00,  3.4057e+00, -8.9157e-01, -1.0378e+00, -8.1693e-01,\n",
       "          2.9017e+00, -7.8569e-01, -1.4903e+00,  1.4344e+00,  2.4224e+00,\n",
       "         -1.4420e+00, -1.2802e+00, -1.0877e-01, -6.5742e-01, -1.5718e+00,\n",
       "          2.6976e+00, -7.9622e-01, -1.1210e+00,  1.3422e+00, -8.0506e-01,\n",
       "         -9.4545e-01,  1.9334e+00, -6.3177e-01, -5.6865e-01, -3.6398e-01,\n",
       "          2.0914e+00, -6.8626e-01],\n",
       "        [ 3.0100e+00,  4.4590e-01, -2.8562e-01, -6.5557e-01, -2.8296e-01,\n",
       "          1.5932e+00, -5.1513e-01, -4.2692e-01, -1.8118e+00,  6.0262e-01,\n",
       "         -1.4406e+00, -8.0088e-01,  1.6272e+00,  1.6705e-01,  2.2870e+00,\n",
       "         -6.2822e-01, -9.8456e-01, -1.0002e+00,  1.1294e+00,  8.5306e-01,\n",
       "         -3.6371e-01, -1.3731e+00,  2.5800e-01, -1.4187e+00, -1.5494e+00,\n",
       "          7.8341e-01, -1.4424e+00],\n",
       "        [ 2.5425e+00,  2.4837e+00, -8.5194e-01, -9.4545e-01, -5.2702e-02,\n",
       "          2.9747e+00, -3.3112e-01, -6.4296e-01,  6.3174e-02,  3.2717e+00,\n",
       "         -8.8526e-01, -9.4204e-01,  2.0925e+00, -5.3042e-01, -1.3074e+00,\n",
       "          1.0536e+00, -6.6402e-01, -3.5067e-01, -2.8243e-01, -1.2851e-01,\n",
       "         -4.6679e-01,  1.3560e-01, -2.8586e-01, -4.6792e-01, -3.0799e-01,\n",
       "          2.5207e+00, -1.1928e+00],\n",
       "        [-1.6042e+00,  1.8179e+00,  8.8911e-01,  1.1858e+00,  1.1474e+00,\n",
       "          1.6420e-01, -2.0542e-02,  4.8955e-01,  2.9725e-01,  8.8719e-02,\n",
       "          1.3471e+00,  1.4329e+00,  1.3345e+00,  1.6595e+00,  4.8647e-01,\n",
       "         -1.1175e-01,  1.0857e-01, -7.5639e-01,  1.0839e+00,  1.3538e+00,\n",
       "          5.9479e-01, -8.6307e-01, -1.2395e-01, -5.3990e-01, -8.3808e-01,\n",
       "         -4.6231e-01,  4.7939e-01],\n",
       "        [ 2.9993e+00,  2.8899e+00, -7.8551e-01, -2.0182e+00, -2.2853e+00,\n",
       "          2.0566e+00, -1.3096e+00, -1.8037e+00, -1.1857e+00,  1.9804e+00,\n",
       "         -1.4765e+00, -1.8347e+00, -1.7506e-01, -8.7056e-01,  4.4384e-01,\n",
       "          1.5311e+00, -1.8595e+00, -1.3394e+00,  1.7637e-01, -7.3587e-01,\n",
       "         -2.0474e+00,  1.1020e-01, -2.0315e+00, -1.9887e+00, -1.7053e+00,\n",
       "          2.7068e-01, -1.5022e+00],\n",
       "        [-1.2606e+00, -5.5050e-01, -7.3490e-01, -1.2648e-01, -2.8169e-01,\n",
       "         -8.3528e-02, -1.7654e+00, -1.7522e+00,  5.9777e-01,  6.8077e-01,\n",
       "         -1.3567e+00,  8.2179e-02, -1.8969e-02,  3.0654e-01,  1.5734e+00,\n",
       "         -1.0425e+00, -1.2368e+00, -2.4271e+00,  3.4503e-01,  3.9852e-01,\n",
       "         -1.3814e+00, -7.3834e-01, -1.7987e-01, -6.9287e-01, -9.0244e-01,\n",
       "          1.2107e+00, -6.5859e-01],\n",
       "        [-1.6042e+00,  1.8179e+00,  8.8911e-01,  1.1858e+00,  1.1474e+00,\n",
       "          1.6420e-01, -2.0542e-02,  4.8955e-01,  2.9725e-01,  8.8719e-02,\n",
       "          1.3471e+00,  1.4329e+00,  1.3345e+00,  1.6595e+00,  4.8647e-01,\n",
       "         -1.1175e-01,  1.0857e-01, -7.5639e-01,  1.0839e+00,  1.3538e+00,\n",
       "          5.9479e-01, -8.6307e-01, -1.2395e-01, -5.3990e-01, -8.3808e-01,\n",
       "         -4.6231e-01,  4.7939e-01],\n",
       "        [ 1.7160e+00,  2.8188e+00, -1.2230e+00, -1.0157e-01, -1.4572e+00,\n",
       "          2.8989e+00, -1.1165e+00, -1.6990e+00,  2.5401e+00,  5.9563e-01,\n",
       "         -1.5892e+00,  3.9447e-01, -3.7353e-01, -1.5564e+00, -9.4727e-01,\n",
       "          1.8221e+00, -5.4533e-01, -8.0456e-01,  3.3028e-02,  5.5492e-01,\n",
       "          4.2568e-01,  1.0389e-01, -1.9404e+00, -6.1269e-01, -1.2040e+00,\n",
       "          8.4208e-01, -9.5426e-01],\n",
       "        [ 2.8451e+00, -5.7430e-01, -1.0526e+00, -1.2699e+00, -1.0454e+00,\n",
       "          5.8958e-01, -2.0882e+00, -2.2096e+00,  5.1315e-01, -7.1980e-02,\n",
       "         -1.9176e+00, -8.1084e-01,  4.5862e-01, -8.2476e-01,  6.0735e-01,\n",
       "         -1.4884e+00, -1.7880e+00, -2.1381e+00,  3.9231e-01,  1.3065e-01,\n",
       "         -3.8944e-01, -1.2607e+00, -8.3299e-01, -1.5566e+00, -1.9536e+00,\n",
       "          6.0784e-01, -1.5411e+00],\n",
       "        [ 1.3159e+00,  2.3818e+00, -8.4697e-01, -3.1424e-01, -1.8733e-01,\n",
       "          2.5429e+00, -8.9368e-01, -9.5773e-01,  2.2150e+00,  1.3004e+00,\n",
       "         -7.7431e-01,  1.1075e+00,  1.3242e+00, -3.8237e-01, -3.4514e-01,\n",
       "          9.0445e-01, -4.1876e-01, -5.9593e-01,  4.1320e-01,  7.7058e-01,\n",
       "          1.2123e+00,  2.0871e-01, -8.6810e-01, -4.2261e-01, -6.8239e-01,\n",
       "          6.9853e-01, -1.1242e+00],\n",
       "        [-1.6042e+00,  1.8179e+00,  8.8911e-01,  1.1858e+00,  1.1474e+00,\n",
       "          1.6420e-01, -2.0542e-02,  4.8955e-01,  2.9725e-01,  8.8719e-02,\n",
       "          1.3471e+00,  1.4329e+00,  1.3345e+00,  1.6595e+00,  4.8647e-01,\n",
       "         -1.1175e-01,  1.0857e-01, -7.5639e-01,  1.0839e+00,  1.3538e+00,\n",
       "          5.9479e-01, -8.6307e-01, -1.2395e-01, -5.3990e-01, -8.3808e-01,\n",
       "         -4.6231e-01,  4.7939e-01],\n",
       "        [ 3.0737e+00,  2.0936e+00, -7.5338e-01, -7.9059e-01, -2.6113e-01,\n",
       "          2.3444e+00, -7.6454e-01, -1.4189e+00, -5.5427e-01,  3.2242e+00,\n",
       "         -7.8738e-01, -7.5150e-01, -1.7116e-01, -3.6493e-01, -5.7794e-01,\n",
       "          6.6823e-01, -1.3411e+00, -1.0539e+00,  7.1518e-01, -7.9890e-01,\n",
       "         -4.6983e-01, -1.0447e+00, -1.9799e+00, -1.5042e+00, -1.0813e+00,\n",
       "          9.3413e-01, -1.4677e+00],\n",
       "        [-1.1162e+00,  3.0569e+00, -8.1546e-01, -9.2169e-01, -8.2666e-01,\n",
       "          1.7201e+00, -1.2196e+00, -1.5482e+00,  2.9926e+00,  7.5687e-01,\n",
       "         -6.9931e-01, -3.0718e-01,  3.9787e-01, -1.0335e+00, -9.7889e-01,\n",
       "          2.1672e+00, -3.6886e-01, -1.0892e+00,  2.5531e-01,  2.7076e-01,\n",
       "          8.2327e-01,  1.4863e+00, -7.8127e-01, -5.9106e-01, -5.9470e-01,\n",
       "          6.8658e-01, -3.7266e-01],\n",
       "        [ 2.0867e+00,  1.6657e+00, -8.0603e-02, -1.1998e+00, -4.0424e-01,\n",
       "          1.7712e+00, -9.2589e-01, -8.4205e-01, -1.8176e-01,  1.7105e+00,\n",
       "         -7.4955e-01, -1.3165e+00,  2.7883e-01,  1.3241e-01,  1.0038e+00,\n",
       "          7.8504e-01, -1.1830e+00, -6.4798e-01,  3.1305e+00, -6.0300e-01,\n",
       "          1.5727e-01, -2.4938e-01, -1.4131e+00, -1.2609e+00, -8.5356e-01,\n",
       "          2.7947e-02, -5.6376e-01],\n",
       "        [ 2.0550e+00, -6.1851e-01, -1.0782e+00, -7.0980e-01, -7.7215e-01,\n",
       "          6.1087e-01, -1.6926e+00, -1.8617e+00,  6.6453e-02,  3.8143e-01,\n",
       "         -1.5965e+00, -7.6068e-01,  5.7142e-01, -3.0134e-01,  1.3149e+00,\n",
       "         -1.1931e+00, -1.8229e+00, -1.9771e+00,  2.7504e-01,  2.5822e-01,\n",
       "         -3.7187e-01, -1.2620e+00, -9.0946e-01, -1.3755e+00, -1.4699e+00,\n",
       "          6.7877e-01, -1.5106e+00],\n",
       "        [ 3.2724e+00,  2.6538e+00, -1.3738e+00, -5.0505e-01, -3.3998e-01,\n",
       "          1.5595e+00, -9.1566e-01,  2.3368e-02, -1.6139e+00,  1.6765e+00,\n",
       "         -1.0765e+00, -8.1985e-01, -4.7421e-01, -1.7037e+00,  3.0038e+00,\n",
       "          9.6025e-01, -1.2594e+00, -9.1076e-01, -5.4798e-01, -1.8354e-01,\n",
       "         -6.2433e-01, -9.0024e-01, -1.5914e+00, -1.4858e+00, -1.1203e+00,\n",
       "          8.1440e-01, -9.1991e-01],\n",
       "        [-4.0177e-01,  2.3738e+00, -3.5235e-01,  2.2604e-02,  6.7537e-01,\n",
       "          1.5287e+00, -1.2455e+00, -8.6683e-01,  2.6888e+00,  1.2446e+00,\n",
       "         -4.7341e-01,  8.6970e-01,  1.5051e+00,  2.3973e-01, -2.4707e-02,\n",
       "          1.1489e+00,  5.1173e-03, -3.9486e-01,  1.0448e+00,  1.0877e+00,\n",
       "          2.0129e+00,  8.1608e-01,  1.4553e-01,  2.6581e-01,  8.3670e-02,\n",
       "          8.7208e-01, -3.6120e-05],\n",
       "        [-5.7097e-01, -4.4420e-01, -7.8441e-02, -7.5865e-01,  4.0340e-01,\n",
       "         -7.2646e-01, -1.6163e+00, -1.3551e+00,  5.9191e-01, -2.4808e-01,\n",
       "         -8.9487e-01, -5.7965e-01,  1.0259e+00,  5.3215e-01,  1.1731e+00,\n",
       "         -1.4072e+00, -1.3549e+00, -2.0809e+00,  1.1160e+00,  3.7650e-01,\n",
       "         -9.0465e-01, -4.0090e-01,  7.8346e-03, -1.2544e+00, -1.0874e+00,\n",
       "          2.0936e-01, -4.9505e-01],\n",
       "        [ 1.8960e+00,  3.1474e+00, -1.6416e+00, -2.1275e+00, -1.8270e+00,\n",
       "          3.1959e+00, -7.9490e-01, -1.5742e+00, -4.8702e-01,  2.8319e+00,\n",
       "         -1.4368e+00, -1.4078e+00,  1.7216e+00, -7.5367e-01, -1.7454e+00,\n",
       "          1.4544e+00, -1.3413e+00, -7.0226e-01, -3.5672e-02, -8.9329e-01,\n",
       "         -1.3530e+00,  4.4683e-01, -1.4628e+00, -8.4653e-01, -1.2649e+00,\n",
       "          2.3864e+00, -1.4297e+00],\n",
       "        [ 2.3190e+00,  1.8368e+00, -1.4927e+00, -7.1764e-01, -1.7958e+00,\n",
       "          2.4439e+00, -1.5994e+00, -2.0994e+00,  1.3174e+00,  2.3165e-01,\n",
       "         -1.6596e+00, -9.0806e-01, -1.4702e-02, -1.7876e+00, -4.1246e-01,\n",
       "          1.1926e+00, -9.6806e-01, -1.2776e+00, -4.6064e-01,  2.5934e-01,\n",
       "          1.0603e+00,  4.1393e-03, -1.3701e+00, -9.6189e-01, -1.1090e+00,\n",
       "          7.3198e-01, -1.0662e+00],\n",
       "        [ 3.1591e+00,  1.8087e+00, -1.4678e+00, -5.0458e-01,  8.9227e-01,\n",
       "          5.1918e-01, -1.1464e+00,  2.6100e-01, -6.9784e-01,  4.6199e-01,\n",
       "         -8.7308e-01, -2.8964e-02,  2.3268e+00, -3.3822e-01,  2.0856e+00,\n",
       "         -4.8568e-01, -7.8447e-01, -5.8633e-01,  6.9874e-02,  1.4304e+00,\n",
       "          2.6424e-01, -1.0190e+00, -1.6797e-01, -1.3784e+00, -1.0508e+00,\n",
       "         -3.2938e-01, -1.0061e+00]], grad_fn=<AddBackward0>)"
      ]
     },
     "execution_count": 111,
     "metadata": {},
     "output_type": "execute_result"
    }
   ],
   "source": [
    "# sample from the model\n",
    "\n",
    "context = [0] * block_size # initialize with all ...\n",
    "x = emb.view(emb.shape[0], -1) # concatenate the vectors\n",
    "for layer in layers:\n",
    "    x = layer(x)\n",
    "x\n",
    "# for _ in range(20):\n",
    "    \n",
    "#     out = []\n",
    "#     context = [0] * block_size # initialize with all ...\n",
    "#     while True:\n",
    "#       # forward pass the neural net\n",
    "#       emb = C[torch.tensor([context])] # (1,block_size,n_embd)\n",
    "#       x = emb.view(emb.shape[0], -1) # concatenate the vectors\n",
    "#       for layer in layers:\n",
    "#         x = layer(x)\n",
    "#       logits = x\n",
    "#       probs = F.softmax(logits, dim=1)\n",
    "#       # sample from the distribution\n",
    "#       ix = torch.multinomial(probs, num_samples=1, generator=g).item()\n",
    "#       # shift the context window and track the samples\n",
    "#       context = context[1:] + [ix]\n",
    "#       out.append(ix)\n",
    "#       # if we sample the special '.' token, break\n",
    "#       if ix == 0:\n",
    "#         break\n",
    "    \n",
    "#     print(''.join(itos[i] for i in out)) # decode and print the generated word"
   ]
  },
  {
   "cell_type": "code",
   "execution_count": 112,
   "metadata": {},
   "outputs": [
    {
     "data": {
      "text/plain": [
       "tensor([[-5.5048e-01,  2.8148e+00, -8.5037e-01, -6.4526e-01,  6.7872e-02,\n",
       "          7.2332e-01, -1.1378e+00, -8.3603e-01, -3.4686e-01, -4.0293e-01,\n",
       "         -8.9480e-01, -9.5052e-01,  1.4188e+00, -8.2119e-02,  5.8434e-01,\n",
       "          9.4441e-01, -7.3001e-01, -1.2133e+00,  1.5878e-01,  5.7776e-01,\n",
       "         -6.4302e-01,  2.9740e-01, -2.1509e-01, -1.2830e+00, -1.1097e+00,\n",
       "         -3.2439e-01, -4.1395e-01],\n",
       "        [ 2.4784e+00,  2.2873e+00, -1.2375e+00, -2.0934e+00, -8.9292e-01,\n",
       "          2.4813e+00, -1.5325e+00, -1.8128e+00, -2.0022e+00,  2.8165e+00,\n",
       "         -1.4600e+00, -1.0333e+00,  1.2392e+00,  2.1298e-01, -3.7787e-01,\n",
       "          1.0570e+00, -1.9280e+00, -1.1776e+00,  2.2000e+00, -1.1962e+00,\n",
       "         -9.0377e-01, -3.0045e-01, -1.5421e+00, -1.6141e+00, -1.5919e+00,\n",
       "          1.0177e+00, -1.7856e+00],\n",
       "        [ 3.6682e-01,  2.9012e+00,  1.0143e-02, -1.8192e-01, -7.8334e-01,\n",
       "          2.4837e+00, -1.2255e+00, -1.2665e+00, -1.3849e+00,  2.2909e+00,\n",
       "         -1.3349e+00, -3.2011e-01, -1.3182e-01,  9.4983e-01,  5.3812e-01,\n",
       "          1.1435e+00, -9.3176e-01, -8.4050e-01,  7.9002e-01, -1.5521e-01,\n",
       "         -1.2338e+00,  1.6962e-01, -1.5145e-01, -7.8625e-01, -8.7494e-01,\n",
       "          1.1081e+00, -8.6207e-01],\n",
       "        [-6.9792e-01,  9.7766e-01, -2.2395e-01, -4.4433e-01,  5.0784e-01,\n",
       "          3.7118e-01, -8.2032e-01, -7.8005e-01, -4.6642e-01, -2.7103e-01,\n",
       "         -7.0282e-01, -7.2558e-01,  2.0869e+00,  1.0993e+00,  3.3617e-01,\n",
       "         -3.5726e-01, -8.3946e-01, -1.6025e+00,  1.8973e+00,  9.0490e-01,\n",
       "         -7.4194e-01, -3.4762e-01,  6.5794e-01, -9.5174e-01, -1.2359e+00,\n",
       "          2.7274e-01, -2.2947e-01],\n",
       "        [ 2.2217e+00, -1.9239e-01, -7.2125e-01, -6.7217e-01,  7.3277e-01,\n",
       "          7.4594e-02, -9.6193e-01,  1.5269e-01,  9.8669e-02, -7.3630e-01,\n",
       "         -6.3076e-01, -2.4748e-01,  2.0354e+00,  3.6328e-01,  3.0729e+00,\n",
       "         -1.0922e+00, -1.1273e+00, -1.2291e+00,  1.6253e+00,  1.0354e+00,\n",
       "          1.0443e+00, -1.1794e+00,  1.3039e-01, -1.2657e+00, -8.8486e-01,\n",
       "         -9.3486e-01, -8.0185e-01],\n",
       "        [ 1.4327e+00,  3.6457e+00, -1.3714e+00, -9.3760e-01, -1.3703e+00,\n",
       "          3.5657e+00, -1.1701e+00, -1.8148e+00, -3.6234e-01,  2.3995e+00,\n",
       "         -1.0934e+00, -6.9998e-01,  8.8980e-01, -7.7510e-01, -1.4143e+00,\n",
       "          2.4158e+00, -1.1235e+00, -4.5342e-01,  7.7435e-02, -5.5162e-01,\n",
       "         -1.1059e+00,  1.2241e+00, -1.5720e+00, -8.2760e-01, -9.6882e-01,\n",
       "          1.6823e+00, -1.2778e+00],\n",
       "        [-1.1162e+00,  3.0569e+00, -8.1546e-01, -9.2169e-01, -8.2666e-01,\n",
       "          1.7201e+00, -1.2196e+00, -1.5482e+00,  2.9926e+00,  7.5687e-01,\n",
       "         -6.9931e-01, -3.0718e-01,  3.9787e-01, -1.0335e+00, -9.7889e-01,\n",
       "          2.1672e+00, -3.6886e-01, -1.0892e+00,  2.5531e-01,  2.7076e-01,\n",
       "          8.2327e-01,  1.4863e+00, -7.8127e-01, -5.9106e-01, -5.9470e-01,\n",
       "          6.8658e-01, -3.7266e-01],\n",
       "        [-6.9792e-01,  9.7766e-01, -2.2395e-01, -4.4433e-01,  5.0784e-01,\n",
       "          3.7118e-01, -8.2032e-01, -7.8005e-01, -4.6642e-01, -2.7103e-01,\n",
       "         -7.0282e-01, -7.2558e-01,  2.0869e+00,  1.0993e+00,  3.3617e-01,\n",
       "         -3.5726e-01, -8.3946e-01, -1.6025e+00,  1.8973e+00,  9.0490e-01,\n",
       "         -7.4194e-01, -3.4762e-01,  6.5794e-01, -9.5174e-01, -1.2359e+00,\n",
       "          2.7274e-01, -2.2947e-01],\n",
       "        [-1.6042e+00,  1.8179e+00,  8.8911e-01,  1.1858e+00,  1.1474e+00,\n",
       "          1.6420e-01, -2.0542e-02,  4.8955e-01,  2.9725e-01,  8.8719e-02,\n",
       "          1.3471e+00,  1.4329e+00,  1.3345e+00,  1.6595e+00,  4.8647e-01,\n",
       "         -1.1175e-01,  1.0857e-01, -7.5639e-01,  1.0839e+00,  1.3538e+00,\n",
       "          5.9479e-01, -8.6307e-01, -1.2395e-01, -5.3990e-01, -8.3808e-01,\n",
       "         -4.6231e-01,  4.7939e-01],\n",
       "        [-1.6042e+00,  1.8179e+00,  8.8911e-01,  1.1858e+00,  1.1474e+00,\n",
       "          1.6420e-01, -2.0542e-02,  4.8955e-01,  2.9725e-01,  8.8719e-02,\n",
       "          1.3471e+00,  1.4329e+00,  1.3345e+00,  1.6595e+00,  4.8647e-01,\n",
       "         -1.1175e-01,  1.0857e-01, -7.5639e-01,  1.0839e+00,  1.3538e+00,\n",
       "          5.9479e-01, -8.6307e-01, -1.2395e-01, -5.3990e-01, -8.3808e-01,\n",
       "         -4.6231e-01,  4.7939e-01],\n",
       "        [ 3.5191e+00,  4.1621e-01, -8.9215e-01, -8.2978e-01,  6.2613e-01,\n",
       "         -6.1591e-02, -6.1032e-01,  7.5715e-01, -8.2286e-02,  3.4493e-02,\n",
       "         -5.1229e-01, -6.4122e-01,  2.4989e+00,  7.0122e-01,  2.4408e+00,\n",
       "         -1.1797e+00, -1.1477e+00, -8.8899e-01,  1.2188e+00,  1.4949e+00,\n",
       "          5.1128e-01, -1.6540e+00, -5.1300e-02, -1.4901e+00, -1.4365e+00,\n",
       "         -9.3823e-01, -5.8263e-01],\n",
       "        [-1.2377e+00,  3.4057e+00, -8.9157e-01, -1.0378e+00, -8.1693e-01,\n",
       "          2.9017e+00, -7.8569e-01, -1.4903e+00,  1.4344e+00,  2.4224e+00,\n",
       "         -1.4420e+00, -1.2802e+00, -1.0877e-01, -6.5742e-01, -1.5718e+00,\n",
       "          2.6976e+00, -7.9622e-01, -1.1210e+00,  1.3422e+00, -8.0506e-01,\n",
       "         -9.4545e-01,  1.9334e+00, -6.3177e-01, -5.6865e-01, -3.6398e-01,\n",
       "          2.0914e+00, -6.8626e-01],\n",
       "        [ 3.0100e+00,  4.4590e-01, -2.8562e-01, -6.5557e-01, -2.8296e-01,\n",
       "          1.5932e+00, -5.1513e-01, -4.2692e-01, -1.8118e+00,  6.0262e-01,\n",
       "         -1.4406e+00, -8.0088e-01,  1.6272e+00,  1.6705e-01,  2.2870e+00,\n",
       "         -6.2822e-01, -9.8456e-01, -1.0002e+00,  1.1294e+00,  8.5306e-01,\n",
       "         -3.6371e-01, -1.3731e+00,  2.5800e-01, -1.4187e+00, -1.5494e+00,\n",
       "          7.8341e-01, -1.4424e+00],\n",
       "        [ 2.5425e+00,  2.4837e+00, -8.5194e-01, -9.4545e-01, -5.2703e-02,\n",
       "          2.9747e+00, -3.3112e-01, -6.4296e-01,  6.3174e-02,  3.2717e+00,\n",
       "         -8.8526e-01, -9.4204e-01,  2.0925e+00, -5.3042e-01, -1.3074e+00,\n",
       "          1.0536e+00, -6.6402e-01, -3.5067e-01, -2.8243e-01, -1.2851e-01,\n",
       "         -4.6679e-01,  1.3560e-01, -2.8586e-01, -4.6792e-01, -3.0799e-01,\n",
       "          2.5207e+00, -1.1928e+00],\n",
       "        [-1.6042e+00,  1.8179e+00,  8.8911e-01,  1.1858e+00,  1.1474e+00,\n",
       "          1.6420e-01, -2.0542e-02,  4.8955e-01,  2.9725e-01,  8.8719e-02,\n",
       "          1.3471e+00,  1.4329e+00,  1.3345e+00,  1.6595e+00,  4.8647e-01,\n",
       "         -1.1175e-01,  1.0857e-01, -7.5639e-01,  1.0839e+00,  1.3538e+00,\n",
       "          5.9479e-01, -8.6307e-01, -1.2395e-01, -5.3990e-01, -8.3808e-01,\n",
       "         -4.6231e-01,  4.7939e-01],\n",
       "        [ 2.9993e+00,  2.8899e+00, -7.8551e-01, -2.0182e+00, -2.2853e+00,\n",
       "          2.0566e+00, -1.3096e+00, -1.8037e+00, -1.1857e+00,  1.9804e+00,\n",
       "         -1.4765e+00, -1.8347e+00, -1.7506e-01, -8.7056e-01,  4.4384e-01,\n",
       "          1.5311e+00, -1.8595e+00, -1.3394e+00,  1.7637e-01, -7.3587e-01,\n",
       "         -2.0474e+00,  1.1020e-01, -2.0315e+00, -1.9887e+00, -1.7053e+00,\n",
       "          2.7068e-01, -1.5022e+00],\n",
       "        [-1.2606e+00, -5.5050e-01, -7.3490e-01, -1.2648e-01, -2.8169e-01,\n",
       "         -8.3528e-02, -1.7654e+00, -1.7522e+00,  5.9777e-01,  6.8077e-01,\n",
       "         -1.3567e+00,  8.2179e-02, -1.8969e-02,  3.0654e-01,  1.5734e+00,\n",
       "         -1.0425e+00, -1.2368e+00, -2.4271e+00,  3.4503e-01,  3.9852e-01,\n",
       "         -1.3814e+00, -7.3834e-01, -1.7987e-01, -6.9287e-01, -9.0244e-01,\n",
       "          1.2107e+00, -6.5859e-01],\n",
       "        [-1.6042e+00,  1.8179e+00,  8.8911e-01,  1.1858e+00,  1.1474e+00,\n",
       "          1.6420e-01, -2.0542e-02,  4.8955e-01,  2.9725e-01,  8.8719e-02,\n",
       "          1.3471e+00,  1.4329e+00,  1.3345e+00,  1.6595e+00,  4.8647e-01,\n",
       "         -1.1175e-01,  1.0857e-01, -7.5639e-01,  1.0839e+00,  1.3538e+00,\n",
       "          5.9479e-01, -8.6307e-01, -1.2395e-01, -5.3990e-01, -8.3808e-01,\n",
       "         -4.6231e-01,  4.7939e-01],\n",
       "        [ 1.7160e+00,  2.8188e+00, -1.2230e+00, -1.0157e-01, -1.4572e+00,\n",
       "          2.8989e+00, -1.1165e+00, -1.6990e+00,  2.5401e+00,  5.9563e-01,\n",
       "         -1.5892e+00,  3.9447e-01, -3.7353e-01, -1.5564e+00, -9.4727e-01,\n",
       "          1.8221e+00, -5.4533e-01, -8.0456e-01,  3.3027e-02,  5.5492e-01,\n",
       "          4.2568e-01,  1.0389e-01, -1.9404e+00, -6.1269e-01, -1.2040e+00,\n",
       "          8.4208e-01, -9.5426e-01],\n",
       "        [ 2.8451e+00, -5.7430e-01, -1.0526e+00, -1.2699e+00, -1.0454e+00,\n",
       "          5.8958e-01, -2.0882e+00, -2.2096e+00,  5.1315e-01, -7.1980e-02,\n",
       "         -1.9176e+00, -8.1084e-01,  4.5862e-01, -8.2476e-01,  6.0735e-01,\n",
       "         -1.4884e+00, -1.7880e+00, -2.1381e+00,  3.9231e-01,  1.3065e-01,\n",
       "         -3.8944e-01, -1.2607e+00, -8.3299e-01, -1.5566e+00, -1.9536e+00,\n",
       "          6.0784e-01, -1.5411e+00],\n",
       "        [ 1.3159e+00,  2.3818e+00, -8.4697e-01, -3.1424e-01, -1.8733e-01,\n",
       "          2.5429e+00, -8.9368e-01, -9.5773e-01,  2.2150e+00,  1.3004e+00,\n",
       "         -7.7431e-01,  1.1075e+00,  1.3242e+00, -3.8237e-01, -3.4514e-01,\n",
       "          9.0445e-01, -4.1876e-01, -5.9593e-01,  4.1319e-01,  7.7058e-01,\n",
       "          1.2123e+00,  2.0871e-01, -8.6810e-01, -4.2261e-01, -6.8239e-01,\n",
       "          6.9853e-01, -1.1242e+00],\n",
       "        [-1.6042e+00,  1.8179e+00,  8.8911e-01,  1.1858e+00,  1.1474e+00,\n",
       "          1.6420e-01, -2.0542e-02,  4.8955e-01,  2.9725e-01,  8.8719e-02,\n",
       "          1.3471e+00,  1.4329e+00,  1.3345e+00,  1.6595e+00,  4.8647e-01,\n",
       "         -1.1175e-01,  1.0857e-01, -7.5639e-01,  1.0839e+00,  1.3538e+00,\n",
       "          5.9479e-01, -8.6307e-01, -1.2395e-01, -5.3990e-01, -8.3808e-01,\n",
       "         -4.6231e-01,  4.7939e-01],\n",
       "        [ 3.0737e+00,  2.0936e+00, -7.5338e-01, -7.9059e-01, -2.6113e-01,\n",
       "          2.3444e+00, -7.6454e-01, -1.4189e+00, -5.5427e-01,  3.2242e+00,\n",
       "         -7.8738e-01, -7.5150e-01, -1.7116e-01, -3.6493e-01, -5.7794e-01,\n",
       "          6.6823e-01, -1.3411e+00, -1.0539e+00,  7.1518e-01, -7.9890e-01,\n",
       "         -4.6983e-01, -1.0447e+00, -1.9799e+00, -1.5042e+00, -1.0813e+00,\n",
       "          9.3414e-01, -1.4677e+00],\n",
       "        [-1.1162e+00,  3.0569e+00, -8.1546e-01, -9.2169e-01, -8.2666e-01,\n",
       "          1.7201e+00, -1.2196e+00, -1.5482e+00,  2.9926e+00,  7.5687e-01,\n",
       "         -6.9931e-01, -3.0718e-01,  3.9787e-01, -1.0335e+00, -9.7889e-01,\n",
       "          2.1672e+00, -3.6886e-01, -1.0892e+00,  2.5531e-01,  2.7076e-01,\n",
       "          8.2327e-01,  1.4863e+00, -7.8127e-01, -5.9106e-01, -5.9470e-01,\n",
       "          6.8658e-01, -3.7266e-01],\n",
       "        [ 2.0867e+00,  1.6657e+00, -8.0603e-02, -1.1998e+00, -4.0424e-01,\n",
       "          1.7712e+00, -9.2589e-01, -8.4205e-01, -1.8176e-01,  1.7105e+00,\n",
       "         -7.4955e-01, -1.3165e+00,  2.7883e-01,  1.3241e-01,  1.0038e+00,\n",
       "          7.8504e-01, -1.1830e+00, -6.4798e-01,  3.1305e+00, -6.0300e-01,\n",
       "          1.5727e-01, -2.4938e-01, -1.4131e+00, -1.2609e+00, -8.5356e-01,\n",
       "          2.7947e-02, -5.6376e-01],\n",
       "        [ 2.0550e+00, -6.1851e-01, -1.0782e+00, -7.0980e-01, -7.7215e-01,\n",
       "          6.1087e-01, -1.6926e+00, -1.8617e+00,  6.6452e-02,  3.8142e-01,\n",
       "         -1.5965e+00, -7.6068e-01,  5.7142e-01, -3.0134e-01,  1.3149e+00,\n",
       "         -1.1931e+00, -1.8229e+00, -1.9771e+00,  2.7504e-01,  2.5822e-01,\n",
       "         -3.7187e-01, -1.2620e+00, -9.0946e-01, -1.3755e+00, -1.4699e+00,\n",
       "          6.7877e-01, -1.5106e+00],\n",
       "        [ 3.2724e+00,  2.6538e+00, -1.3738e+00, -5.0505e-01, -3.3998e-01,\n",
       "          1.5595e+00, -9.1566e-01,  2.3368e-02, -1.6139e+00,  1.6765e+00,\n",
       "         -1.0765e+00, -8.1985e-01, -4.7421e-01, -1.7037e+00,  3.0038e+00,\n",
       "          9.6025e-01, -1.2594e+00, -9.1076e-01, -5.4798e-01, -1.8354e-01,\n",
       "         -6.2433e-01, -9.0024e-01, -1.5914e+00, -1.4858e+00, -1.1203e+00,\n",
       "          8.1440e-01, -9.1991e-01],\n",
       "        [-4.0177e-01,  2.3738e+00, -3.5235e-01,  2.2604e-02,  6.7537e-01,\n",
       "          1.5287e+00, -1.2455e+00, -8.6683e-01,  2.6888e+00,  1.2446e+00,\n",
       "         -4.7341e-01,  8.6970e-01,  1.5051e+00,  2.3973e-01, -2.4706e-02,\n",
       "          1.1489e+00,  5.1171e-03, -3.9486e-01,  1.0448e+00,  1.0877e+00,\n",
       "          2.0129e+00,  8.1608e-01,  1.4553e-01,  2.6581e-01,  8.3669e-02,\n",
       "          8.7208e-01, -3.6240e-05],\n",
       "        [-5.7097e-01, -4.4420e-01, -7.8442e-02, -7.5865e-01,  4.0340e-01,\n",
       "         -7.2646e-01, -1.6163e+00, -1.3551e+00,  5.9191e-01, -2.4808e-01,\n",
       "         -8.9487e-01, -5.7965e-01,  1.0259e+00,  5.3215e-01,  1.1731e+00,\n",
       "         -1.4072e+00, -1.3549e+00, -2.0809e+00,  1.1160e+00,  3.7650e-01,\n",
       "         -9.0465e-01, -4.0090e-01,  7.8347e-03, -1.2544e+00, -1.0874e+00,\n",
       "          2.0936e-01, -4.9505e-01],\n",
       "        [ 1.8960e+00,  3.1474e+00, -1.6416e+00, -2.1275e+00, -1.8270e+00,\n",
       "          3.1959e+00, -7.9490e-01, -1.5742e+00, -4.8702e-01,  2.8319e+00,\n",
       "         -1.4368e+00, -1.4078e+00,  1.7216e+00, -7.5367e-01, -1.7454e+00,\n",
       "          1.4544e+00, -1.3413e+00, -7.0226e-01, -3.5672e-02, -8.9329e-01,\n",
       "         -1.3530e+00,  4.4683e-01, -1.4628e+00, -8.4653e-01, -1.2649e+00,\n",
       "          2.3864e+00, -1.4297e+00],\n",
       "        [ 2.3190e+00,  1.8368e+00, -1.4927e+00, -7.1764e-01, -1.7958e+00,\n",
       "          2.4439e+00, -1.5994e+00, -2.0994e+00,  1.3174e+00,  2.3165e-01,\n",
       "         -1.6596e+00, -9.0806e-01, -1.4702e-02, -1.7876e+00, -4.1246e-01,\n",
       "          1.1926e+00, -9.6806e-01, -1.2776e+00, -4.6064e-01,  2.5934e-01,\n",
       "          1.0603e+00,  4.1394e-03, -1.3701e+00, -9.6189e-01, -1.1090e+00,\n",
       "          7.3198e-01, -1.0662e+00],\n",
       "        [ 3.1591e+00,  1.8087e+00, -1.4678e+00, -5.0458e-01,  8.9227e-01,\n",
       "          5.1918e-01, -1.1464e+00,  2.6100e-01, -6.9784e-01,  4.6199e-01,\n",
       "         -8.7308e-01, -2.8964e-02,  2.3268e+00, -3.3822e-01,  2.0856e+00,\n",
       "         -4.8568e-01, -7.8447e-01, -5.8633e-01,  6.9874e-02,  1.4304e+00,\n",
       "          2.6424e-01, -1.0190e+00, -1.6797e-01, -1.3784e+00, -1.0508e+00,\n",
       "         -3.2938e-01, -1.0061e+00]], grad_fn=<AddBackward0>)"
      ]
     },
     "execution_count": 112,
     "metadata": {},
     "output_type": "execute_result"
    }
   ],
   "source": [
    "bn = layers[-1]\n",
    "prev_linear = layers[-2]\n",
    "std = torch.sqrt(bn.running_var + bn.eps)\n",
    "prev_linear.weight = bn.gamma * prev_linear.weight / std\n",
    "prev_linear.bias = bn.gamma * (- bn.running_mean) / std + bn.beta\n",
    "layers2 = layers[:-1]\n",
    "\n",
    "context = [0] * block_size # initialize with all ...\n",
    "x = emb.view(emb.shape[0], -1) # concatenate the vectors\n",
    "for layer in layers2:\n",
    "    x = layer(x)\n",
    "x"
   ]
  }
 ],
 "metadata": {
  "kernelspec": {
   "display_name": "Python 3",
   "language": "python",
   "name": "python3"
  },
  "language_info": {
   "codemirror_mode": {
    "name": "ipython",
    "version": 3
   },
   "file_extension": ".py",
   "mimetype": "text/x-python",
   "name": "python",
   "nbconvert_exporter": "python",
   "pygments_lexer": "ipython3",
   "version": "3.10.11"
  }
 },
 "nbformat": 4,
 "nbformat_minor": 4
}
