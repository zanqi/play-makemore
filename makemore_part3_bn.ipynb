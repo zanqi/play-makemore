{
 "cells": [
  {
   "attachments": {},
   "cell_type": "markdown",
   "metadata": {},
   "source": [
    "# makemore: part 3"
   ]
  },
  {
   "cell_type": "code",
   "execution_count": 1,
   "metadata": {},
   "outputs": [],
   "source": [
    "import torch\n",
    "import torch.nn.functional as F\n",
    "import matplotlib.pyplot as plt # for making figures\n",
    "%matplotlib inline\n",
    "plt.rcParams['figure.facecolor'] = 'white'"
   ]
  },
  {
   "cell_type": "code",
   "execution_count": 2,
   "metadata": {},
   "outputs": [
    {
     "data": {
      "text/plain": [
       "['emma', 'olivia', 'ava', 'isabella', 'sophia', 'charlotte', 'mia', 'amelia']"
      ]
     },
     "execution_count": 2,
     "metadata": {},
     "output_type": "execute_result"
    }
   ],
   "source": [
    "# read in all the words\n",
    "words = open('names.txt', 'r').read().splitlines()\n",
    "words[:8]"
   ]
  },
  {
   "cell_type": "code",
   "execution_count": 3,
   "metadata": {},
   "outputs": [
    {
     "data": {
      "text/plain": [
       "32033"
      ]
     },
     "execution_count": 3,
     "metadata": {},
     "output_type": "execute_result"
    }
   ],
   "source": [
    "len(words)"
   ]
  },
  {
   "cell_type": "code",
   "execution_count": 4,
   "metadata": {},
   "outputs": [
    {
     "name": "stdout",
     "output_type": "stream",
     "text": [
      "{1: 'a', 2: 'b', 3: 'c', 4: 'd', 5: 'e', 6: 'f', 7: 'g', 8: 'h', 9: 'i', 10: 'j', 11: 'k', 12: 'l', 13: 'm', 14: 'n', 15: 'o', 16: 'p', 17: 'q', 18: 'r', 19: 's', 20: 't', 21: 'u', 22: 'v', 23: 'w', 24: 'x', 25: 'y', 26: 'z', 0: '.'}\n",
      "27\n"
     ]
    }
   ],
   "source": [
    "# build the vocabulary of characters and mappings to/from integers\n",
    "chars = sorted(list(set(''.join(words))))\n",
    "stoi = {s:i+1 for i,s in enumerate(chars)}\n",
    "stoi['.'] = 0\n",
    "itos = {i:s for s,i in stoi.items()}\n",
    "vocab_size = len(itos)\n",
    "print(itos)\n",
    "print(vocab_size)"
   ]
  },
  {
   "cell_type": "code",
   "execution_count": 5,
   "metadata": {},
   "outputs": [
    {
     "name": "stdout",
     "output_type": "stream",
     "text": [
      "torch.Size([182625, 3]) torch.Size([182625])\n",
      "torch.Size([22655, 3]) torch.Size([22655])\n",
      "torch.Size([22866, 3]) torch.Size([22866])\n"
     ]
    }
   ],
   "source": [
    "# build the dataset\n",
    "block_size = 3 # context length: how many characters do we take to predict the next one?\n",
    "\n",
    "def build_dataset(words):  \n",
    "  X, Y = [], []\n",
    "  \n",
    "  for w in words:\n",
    "    context = [0] * block_size\n",
    "    for ch in w + '.':\n",
    "      ix = stoi[ch]\n",
    "      X.append(context)\n",
    "      Y.append(ix)\n",
    "      context = context[1:] + [ix] # crop and append\n",
    "\n",
    "  X = torch.tensor(X)\n",
    "  Y = torch.tensor(Y)\n",
    "  print(X.shape, Y.shape)\n",
    "  return X, Y\n",
    "\n",
    "import random\n",
    "random.seed(42)\n",
    "random.shuffle(words)\n",
    "n1 = int(0.8*len(words))\n",
    "n2 = int(0.9*len(words))\n",
    "\n",
    "Xtr,  Ytr  = build_dataset(words[:n1])     # 80%\n",
    "Xdev, Ydev = build_dataset(words[n1:n2])   # 10%\n",
    "Xte,  Yte  = build_dataset(words[n2:])     # 10%\n"
   ]
  },
  {
   "cell_type": "code",
   "execution_count": 6,
   "metadata": {},
   "outputs": [
    {
     "name": "stdout",
     "output_type": "stream",
     "text": [
      "12097\n"
     ]
    }
   ],
   "source": [
    "# MLP revisited\n",
    "n_embd = 10 # the dimensionality of the character embedding vectors\n",
    "n_hidden = 200 # the number of neurons in the hidden layer of the MLP\n",
    "\n",
    "g = torch.Generator().manual_seed(2147483647) # for reproducibility\n",
    "C  = torch.randn((vocab_size, n_embd),            generator=g)\n",
    "W1 = torch.randn((n_embd * block_size, n_hidden), generator=g)  * (5/3)/((n_embd * block_size)**0.5) #* 0.2\n",
    "# b1 = torch.randn(n_hidden,                        generator=g) * 0.01 # instead of 0, we want some entropy\n",
    "W2 = torch.randn((n_hidden, vocab_size),          generator=g) * 0.01\n",
    "b2 = torch.randn(vocab_size,                      generator=g) * 0 # want the logits to be around zeros at the beginning\n",
    "\n",
    "# BatchNorm parameters\n",
    "bngain = torch.ones((1, n_hidden))\n",
    "bnbias = torch.zeros((1, n_hidden))\n",
    "bnmean_running = torch.zeros((1, n_hidden))\n",
    "bnstd_running = torch.ones((1, n_hidden))\n",
    "\n",
    "parameters = [C, W1, W2, b2, bngain, bnbias]\n",
    "print(sum(p.nelement() for p in parameters)) # number of parameters in total\n",
    "for p in parameters:\n",
    "  p.requires_grad = True"
   ]
  },
  {
   "cell_type": "code",
   "execution_count": 7,
   "metadata": {},
   "outputs": [
    {
     "name": "stdout",
     "output_type": "stream",
     "text": [
      "tensor(-0.0107) tensor(1.0027)\n",
      "tensor(0.0004) tensor(0.9887)\n"
     ]
    },
    {
     "data": {
      "text/plain": [
       "(array([1.0000e+00, 0.0000e+00, 0.0000e+00, 0.0000e+00, 1.0000e+00,\n",
       "        1.0000e+00, 0.0000e+00, 1.0000e+00, 1.0000e+00, 0.0000e+00,\n",
       "        1.0000e+00, 2.0000e+00, 0.0000e+00, 3.0000e+00, 5.0000e+00,\n",
       "        4.0000e+00, 5.0000e+00, 6.0000e+00, 1.3000e+01, 1.2000e+01,\n",
       "        2.2000e+01, 2.0000e+01, 4.0000e+01, 6.2000e+01, 7.0000e+01,\n",
       "        1.0200e+02, 1.3500e+02, 2.1300e+02, 2.5800e+02, 2.9600e+02,\n",
       "        4.1700e+02, 5.4700e+02, 6.7200e+02, 9.5400e+02, 1.1620e+03,\n",
       "        1.5690e+03, 1.9650e+03, 2.3100e+03, 2.9990e+03, 3.6320e+03,\n",
       "        4.4210e+03, 5.2410e+03, 6.0260e+03, 7.0260e+03, 8.0040e+03,\n",
       "        8.8810e+03, 9.7380e+03, 1.0492e+04, 1.0831e+04, 1.1348e+04,\n",
       "        1.1419e+04, 1.1023e+04, 1.0507e+04, 9.8560e+03, 9.0410e+03,\n",
       "        8.0770e+03, 7.1110e+03, 6.0770e+03, 5.2450e+03, 4.3740e+03,\n",
       "        3.6420e+03, 2.9150e+03, 2.4400e+03, 1.9300e+03, 1.5430e+03,\n",
       "        1.2670e+03, 9.5700e+02, 7.7300e+02, 5.8200e+02, 4.0800e+02,\n",
       "        3.3100e+02, 2.6100e+02, 1.9000e+02, 1.3200e+02, 1.1100e+02,\n",
       "        6.9000e+01, 6.3000e+01, 4.0000e+01, 2.4000e+01, 2.4000e+01,\n",
       "        1.8000e+01, 1.0000e+01, 1.5000e+01, 4.0000e+00, 2.0000e+00,\n",
       "        4.0000e+00, 2.0000e+00, 1.0000e+00, 1.0000e+00, 0.0000e+00,\n",
       "        1.0000e+00, 0.0000e+00, 0.0000e+00, 0.0000e+00, 0.0000e+00,\n",
       "        0.0000e+00, 0.0000e+00, 0.0000e+00, 0.0000e+00, 1.0000e+00]),\n",
       " array([-6.53647900e+00, -6.40582991e+00, -6.27518082e+00, -6.14453173e+00,\n",
       "        -6.01388264e+00, -5.88323355e+00, -5.75258446e+00, -5.62193537e+00,\n",
       "        -5.49128580e+00, -5.36063671e+00, -5.22998762e+00, -5.09933853e+00,\n",
       "        -4.96868944e+00, -4.83804035e+00, -4.70739126e+00, -4.57674217e+00,\n",
       "        -4.44609308e+00, -4.31544399e+00, -4.18479490e+00, -4.05414581e+00,\n",
       "        -3.92349648e+00, -3.79284739e+00, -3.66219831e+00, -3.53154922e+00,\n",
       "        -3.40090013e+00, -3.27025080e+00, -3.13960171e+00, -3.00895262e+00,\n",
       "        -2.87830353e+00, -2.74765444e+00, -2.61700535e+00, -2.48635626e+00,\n",
       "        -2.35570717e+00, -2.22505784e+00, -2.09440875e+00, -1.96375966e+00,\n",
       "        -1.83311057e+00, -1.70246148e+00, -1.57181227e+00, -1.44116318e+00,\n",
       "        -1.31051409e+00, -1.17986500e+00, -1.04921579e+00, -9.18566704e-01,\n",
       "        -7.87917554e-01, -6.57268465e-01, -5.26619315e-01, -3.95970196e-01,\n",
       "        -2.65321076e-01, -1.34671956e-01, -4.02283669e-03,  1.26626283e-01,\n",
       "         2.57275403e-01,  3.87924522e-01,  5.18573642e-01,  6.49222791e-01,\n",
       "         7.79871881e-01,  9.10521030e-01,  1.04117012e+00,  1.17181933e+00,\n",
       "         1.30246842e+00,  1.43311751e+00,  1.56376660e+00,  1.69441581e+00,\n",
       "         1.82506490e+00,  1.95571399e+00,  2.08636308e+00,  2.21701217e+00,\n",
       "         2.34766150e+00,  2.47831059e+00,  2.60895967e+00,  2.73960876e+00,\n",
       "         2.87025785e+00,  3.00090694e+00,  3.13155603e+00,  3.26220512e+00,\n",
       "         3.39285445e+00,  3.52350354e+00,  3.65415263e+00,  3.78480172e+00,\n",
       "         3.91545081e+00,  4.04610014e+00,  4.17674923e+00,  4.30739832e+00,\n",
       "         4.43804741e+00,  4.56869650e+00,  4.69934559e+00,  4.82999468e+00,\n",
       "         4.96064377e+00,  5.09129286e+00,  5.22194195e+00,  5.35259104e+00,\n",
       "         5.48324013e+00,  5.61388969e+00,  5.74453878e+00,  5.87518787e+00,\n",
       "         6.00583696e+00,  6.13648605e+00,  6.26713514e+00,  6.39778423e+00,\n",
       "         6.52843332e+00]),\n",
       " <BarContainer object of 100 artists>)"
      ]
     },
     "execution_count": 7,
     "metadata": {},
     "output_type": "execute_result"
    },
    {
     "data": {
      "image/png": "[encoded data removed]",
      "text/plain": [
       "<Figure size 1440x360 with 2 Axes>"
      ]
     },
     "metadata": {},
     "output_type": "display_data"
    }
   ],
   "source": [
    "x = torch.randn(1000, 10)\n",
    "w = torch.randn(10, 200) / 10**0.5\n",
    "y = x @ w\n",
    "print(x.mean(), x.std())\n",
    "print(y.mean(), y.std())\n",
    "plt.figure(figsize=(20, 5))\n",
    "plt.subplot(1, 2, 1)\n",
    "plt.hist(x.flatten(), bins=100)\n",
    "plt.subplot(1, 2, 2)\n",
    "plt.hist(y.flatten(), bins=100)"
   ]
  },
  {
   "cell_type": "code",
   "execution_count": 8,
   "metadata": {},
   "outputs": [
    {
     "name": "stdout",
     "output_type": "stream",
     "text": [
      "      0/ 200000: 3.3239\n"
     ]
    }
   ],
   "source": [
    "# same optimization as last time\n",
    "max_steps = 200000\n",
    "batch_size = 32\n",
    "lossi = []\n",
    "\n",
    "for i in range(max_steps):\n",
    "  \n",
    "  # minibatch construct\n",
    "  ix = torch.randint(0, Xtr.shape[0], (batch_size,), generator=g)\n",
    "  Xb, Yb = Xtr[ix], Ytr[ix] # batch X,Y\n",
    "  \n",
    "  # forward pass\n",
    "  emb = C[Xb] # embed the characters into vectors\n",
    "  embcat = emb.view(emb.shape[0], -1) # concatenate the vectors\n",
    "  # Linear layer\n",
    "  # hpreact = embcat @ W1 + b1 # b1 has no gradient: print(b1.grad) will show None\n",
    "  hpreact = embcat @ W1 # hidden layer pre-activation\n",
    "  # BatchNorm layer\n",
    "  # -------------------------------------------------------------\n",
    "  bnmeani = hpreact.mean(0, keepdim=True)\n",
    "  bnstdi = hpreact.std(0, keepdim=True)\n",
    "  hpreact = bngain * (hpreact - bnmeani) / bnstdi + bnbias\n",
    "  # hpreact = (hpreact - bnmeani) / bnstdi\n",
    "  with torch.no_grad():\n",
    "    bnmean_running = 0.999 * bnmean_running + 0.001 * bnmeani\n",
    "    bnstd_running = 0.999 * bnstd_running + 0.001 * bnstdi\n",
    "  # -------------------------------------------------------------\n",
    "  # Non-linearity\n",
    "  h = torch.tanh(hpreact) # hidden layer\n",
    "  logits = h @ W2 + b2 # output layer\n",
    "  # todo: print(f'{logits=}') to see the confidently wrong phenomenon\n",
    "  loss = F.cross_entropy(logits, Yb) # loss function\n",
    "  \n",
    "  # backward pass\n",
    "  for p in parameters:\n",
    "    p.grad = None\n",
    "  loss.backward()\n",
    "  \n",
    "  # update\n",
    "  lr = 0.1 if i < 100000 else 0.01 # step learning rate decay\n",
    "  for p in parameters:\n",
    "    p.data += -lr * p.grad\n",
    "\n",
    "  # track stats\n",
    "  if i % 10000 == 0: # print every once in a while\n",
    "    print(f'{i:7d}/{max_steps:7d}: {loss.item():.4f}')\n",
    "  lossi.append(loss.log10().item())\n",
    "  \n",
    "  break"
   ]
  },
  {
   "cell_type": "code",
   "execution_count": 9,
   "metadata": {},
   "outputs": [
    {
     "data": {
      "text/plain": [
       "(array([153., 196., 174., 171., 173., 173., 131., 138., 130., 124., 113.,\n",
       "        140., 124., 113., 109., 120., 120., 104., 123., 105., 105., 104.,\n",
       "         94., 117., 111., 111.,  85.,  88.,  72.,  98.,  94., 127., 105.,\n",
       "         88., 111., 110., 127., 112., 103., 124., 134., 130., 132., 149.,\n",
       "        151., 179., 158., 192., 196., 159.]),\n",
       " array([-9.97799933e-01, -9.57872003e-01, -9.17944074e-01, -8.78016144e-01,\n",
       "        -8.38088214e-01, -7.98160285e-01, -7.58232355e-01, -7.18304425e-01,\n",
       "        -6.78376496e-01, -6.38448566e-01, -5.98520637e-01, -5.58592707e-01,\n",
       "        -5.18664777e-01, -4.78736848e-01, -4.38808918e-01, -3.98880988e-01,\n",
       "        -3.58953059e-01, -3.19025129e-01, -2.79097199e-01, -2.39169270e-01,\n",
       "        -1.99241340e-01, -1.59313411e-01, -1.19385481e-01, -7.94575512e-02,\n",
       "        -3.95296216e-02,  3.98308039e-04,  4.03262377e-02,  8.02541673e-02,\n",
       "         1.20182097e-01,  1.60110027e-01,  2.00037956e-01,  2.39965886e-01,\n",
       "         2.79893816e-01,  3.19821745e-01,  3.59749675e-01,  3.99677604e-01,\n",
       "         4.39605534e-01,  4.79533464e-01,  5.19461393e-01,  5.59389323e-01,\n",
       "         5.99317253e-01,  6.39245182e-01,  6.79173112e-01,  7.19101042e-01,\n",
       "         7.59028971e-01,  7.98956901e-01,  8.38884830e-01,  8.78812760e-01,\n",
       "         9.18740690e-01,  9.58668619e-01,  9.98596549e-01]),\n",
       " <BarContainer object of 50 artists>)"
      ]
     },
     "execution_count": 9,
     "metadata": {},
     "output_type": "execute_result"
    },
    {
     "data": {
      "image/png": "[encoded data removed]",
      "text/plain": [
       "<Figure size 432x288 with 1 Axes>"
      ]
     },
     "metadata": {},
     "output_type": "display_data"
    }
   ],
   "source": [
    "plt.hist(h.view(-1).tolist(), 50)"
   ]
  },
  {
   "cell_type": "code",
   "execution_count": 10,
   "metadata": {},
   "outputs": [
    {
     "data": {
      "text/plain": [
       "(array([  1.,   1.,   2.,   3.,   4.,  12.,  11.,  22.,  31.,  33.,  52.,\n",
       "         79.,  97., 113., 148., 160., 232., 224., 254., 293., 335., 339.,\n",
       "        368., 358., 360., 313., 327., 337., 275., 282., 237., 217., 198.,\n",
       "        142., 135., 112.,  70.,  66.,  35.,  48.,  27.,  19.,  13.,   4.,\n",
       "          5.,   3.,   1.,   1.,   0.,   1.]),\n",
       " array([-3.40565395, -3.26492825, -3.12420254, -2.98347683, -2.84275112,\n",
       "        -2.70202541, -2.56129971, -2.420574  , -2.27984829, -2.13912258,\n",
       "        -1.99839687, -1.85767117, -1.71694546, -1.57621975, -1.43549404,\n",
       "        -1.29476833, -1.15404263, -1.01331692, -0.87259121, -0.7318655 ,\n",
       "        -0.59113979, -0.45041409, -0.30968838, -0.16896267, -0.02823696,\n",
       "         0.11248875,  0.25321445,  0.39394016,  0.53466587,  0.67539158,\n",
       "         0.81611729,  0.95684299,  1.0975687 ,  1.23829441,  1.37902012,\n",
       "         1.51974583,  1.66047153,  1.80119724,  1.94192295,  2.08264866,\n",
       "         2.22337437,  2.36410007,  2.50482578,  2.64555149,  2.7862772 ,\n",
       "         2.92700291,  3.06772861,  3.20845432,  3.34918003,  3.48990574,\n",
       "         3.63063145]),\n",
       " <BarContainer object of 50 artists>)"
      ]
     },
     "execution_count": 10,
     "metadata": {},
     "output_type": "execute_result"
    },
    {
     "data": {
      "image/png": "[encoded data removed]",
      "text/plain": [
       "<Figure size 432x288 with 1 Axes>"
      ]
     },
     "metadata": {},
     "output_type": "display_data"
    }
   ],
   "source": [
    "plt.hist(hpreact.view(-1).tolist(), 50)"
   ]
  },
  {
   "cell_type": "code",
   "execution_count": 11,
   "metadata": {},
   "outputs": [
    {
     "data": {
      "text/plain": [
       "<matplotlib.image.AxesImage at 0x2b3bb1870>"
      ]
     },
     "execution_count": 11,
     "metadata": {},
     "output_type": "execute_result"
    },
    {
     "data": {
      "image/png": "[encoded data removed]",
      "text/plain": [
       "<Figure size 1440x720 with 1 Axes>"
      ]
     },
     "metadata": {},
     "output_type": "display_data"
    }
   ],
   "source": [
    "plt.figure(figsize=(20, 10))\n",
    "plt.imshow(h > 0.99, cmap='gray', interpolation='nearest')"
   ]
  },
  {
   "cell_type": "code",
   "execution_count": 12,
   "metadata": {},
   "outputs": [
    {
     "data": {
      "text/plain": [
       "tensor(3.2958)"
      ]
     },
     "execution_count": 12,
     "metadata": {},
     "output_type": "execute_result"
    }
   ],
   "source": [
    "-torch.tensor(1/27).log()"
   ]
  },
  {
   "cell_type": "code",
   "execution_count": 13,
   "metadata": {},
   "outputs": [
    {
     "data": {
      "text/plain": [
       "(tensor([ 42.7083,  13.2543, 164.5708, -52.5666]),\n",
       " tensor([0., 0., 1., 0.]),\n",
       " tensor(-0.))"
      ]
     },
     "execution_count": 13,
     "metadata": {},
     "output_type": "execute_result"
    }
   ],
   "source": [
    "# logits = torch.tensor([0.0, 5.0, 0.0, 0.0])\n",
    "logits = torch.randn(4) * 100\n",
    "probs = F.softmax(logits, dim=0)\n",
    "loss = -probs[2].log()\n",
    "logits, probs, loss"
   ]
  },
  {
   "cell_type": "code",
   "execution_count": 14,
   "metadata": {},
   "outputs": [
    {
     "data": {
      "text/plain": [
       "[<matplotlib.lines.Line2D at 0x2a81e79a0>]"
      ]
     },
     "execution_count": 14,
     "metadata": {},
     "output_type": "execute_result"
    },
    {
     "data": {
      "image/png": "[encoded data removed]",
      "text/plain": [
       "<Figure size 432x288 with 1 Axes>"
      ]
     },
     "metadata": {},
     "output_type": "display_data"
    }
   ],
   "source": [
    "plt.plot(lossi)"
   ]
  },
  {
   "cell_type": "code",
   "execution_count": 15,
   "metadata": {},
   "outputs": [],
   "source": [
    "# calibrate the batch norm at the end of training\n",
    "\n",
    "with torch.no_grad():\n",
    "  # pass the training set through\n",
    "  emb = C[Xtr]\n",
    "  embcat = emb.view(emb.shape[0], -1)\n",
    "  hpreact = embcat @ W1 # + b1\n",
    "  # measure the mean/std over the entire training set\n",
    "  bnmean = hpreact.mean(0, keepdim=True)\n",
    "  bnstd = hpreact.std(0, keepdim=True)\n"
   ]
  },
  {
   "cell_type": "code",
   "execution_count": 16,
   "metadata": {},
   "outputs": [
    {
     "data": {
      "text/plain": [
       "tensor([[1.6840, 1.1235, 1.6279, 1.4772, 1.8441, 1.3804, 1.0839, 1.2039, 1.8157,\n",
       "         1.2710]])"
      ]
     },
     "execution_count": 16,
     "metadata": {},
     "output_type": "execute_result"
    }
   ],
   "source": [
    "bnstd[:, :10]"
   ]
  },
  {
   "cell_type": "code",
   "execution_count": 17,
   "metadata": {},
   "outputs": [
    {
     "data": {
      "text/plain": [
       "tensor([[1.0006, 1.0000, 1.0007, 1.0002, 1.0006, 1.0004, 1.0006, 1.0002, 1.0006,\n",
       "         1.0002]])"
      ]
     },
     "execution_count": 17,
     "metadata": {},
     "output_type": "execute_result"
    }
   ],
   "source": [
    "bnstd_running[:, :10]"
   ]
  },
  {
   "cell_type": "code",
   "execution_count": 18,
   "metadata": {},
   "outputs": [
    {
     "data": {
      "text/plain": [
       "tensor([-0.4843, -0.1546, -0.9632,  0.6994,  0.7236,  0.5970,  1.1611, -0.7325,\n",
       "        -0.4784,  0.3682])"
      ]
     },
     "execution_count": 18,
     "metadata": {},
     "output_type": "execute_result"
    }
   ],
   "source": [
    "bnmean[0, :10]"
   ]
  },
  {
   "cell_type": "code",
   "execution_count": 19,
   "metadata": {},
   "outputs": [
    {
     "data": {
      "text/plain": [
       "tensor([-3.6745e-04, -7.2442e-06, -1.2061e-03,  1.3699e-03,  1.0505e-03,\n",
       "         2.8725e-04,  1.1346e-03, -8.7319e-04, -7.2080e-04,  3.6078e-04])"
      ]
     },
     "execution_count": 19,
     "metadata": {},
     "output_type": "execute_result"
    }
   ],
   "source": [
    "bnmean_running[0, :10] # should be close to the above"
   ]
  },
  {
   "cell_type": "code",
   "execution_count": 20,
   "metadata": {},
   "outputs": [
    {
     "name": "stdout",
     "output_type": "stream",
     "text": [
      "train 3.270019769668579\n",
      "val 3.269137144088745\n"
     ]
    }
   ],
   "source": [
    "@torch.no_grad() # this decorator disables gradient tracking\n",
    "def split_loss(split):\n",
    "  x,y = {\n",
    "    'train': (Xtr, Ytr),\n",
    "    'val': (Xdev, Ydev),\n",
    "    'test': (Xte, Yte),\n",
    "  }[split]\n",
    "  emb = C[x] # (N, block_size, n_embd)\n",
    "  embcat = emb.view(emb.shape[0], -1) # concat into (N, block_size * n_embd)\n",
    "  hpreact = embcat @ W1 # + b1\n",
    "  # hpreact = bngain * (hpreact - bnmean) / bnstd + bnbias\n",
    "  hpreact = bngain * (hpreact - bnmean_running) / bnstd_running + bnbias\n",
    "  h = torch.tanh(hpreact) # (N, n_hidden)\n",
    "  logits = h @ W2 + b2 # (N, vocab_size)\n",
    "  loss = F.cross_entropy(logits, y) # reduction='mean' by default\n",
    "  print(split, loss.item())\n",
    "\n",
    "split_loss('train')\n",
    "split_loss('val')"
   ]
  },
  {
   "attachments": {},
   "cell_type": "markdown",
   "metadata": {},
   "source": [
    "## loss log\n",
    "\n",
    "### original:\n",
    "train 2.1245384216308594\n",
    "val   2.168196439743042\n",
    "\n",
    "### fix softmax confidently wrong:\n",
    "train 2.07\n",
    "val   2.13\n",
    "\n",
    "### fix tanh layer too saturated at init:\n",
    "train 2.0355966091156006\n",
    "val   2.1026785373687744\n",
    "\n",
    "### use semi-principled \"kaiming init\" instead of hacky init:\n",
    "train 2.0376641750335693\n",
    "val   2.106989622116089\n",
    "\n",
    "### add batch norm layer\n",
    "train 2.0668270587921143\n",
    "val 2.104844808578491\n"
   ]
  },
  {
   "cell_type": "code",
   "execution_count": 21,
   "metadata": {},
   "outputs": [],
   "source": [
    "# SUMMARY + PYTORCHIFYING -----------"
   ]
  },
  {
   "cell_type": "code",
   "execution_count": 241,
   "metadata": {},
   "outputs": [
    {
     "name": "stdout",
     "output_type": "stream",
     "text": [
      "47024\n"
     ]
    }
   ],
   "source": [
    "# Let's train a deeper network\n",
    "# The classes we create here are the same API as nn.Module in PyTorch\n",
    "\n",
    "class Linear:\n",
    "  \n",
    "  def __init__(self, fan_in, fan_out, bias=True):\n",
    "    self.weight = torch.randn((fan_in, fan_out), generator=g) / fan_in**0.5\n",
    "    self.weight = torch.zeros((fan_in, fan_out)) / fan_in**0.5\n",
    "    self.bias = torch.zeros(fan_out) if bias else None\n",
    "  \n",
    "  def __call__(self, x):\n",
    "    self.out = x @ self.weight\n",
    "    if self.bias is not None:\n",
    "      self.out += self.bias\n",
    "    return self.out\n",
    "  \n",
    "  def parameters(self):\n",
    "    return [self.weight] + ([] if self.bias is None else [self.bias])\n",
    "\n",
    "\n",
    "class BatchNorm1d:\n",
    "  \n",
    "  def __init__(self, dim, eps=1e-5, momentum=0.1):\n",
    "    self.eps = eps\n",
    "    self.momentum = momentum\n",
    "    self.training = True\n",
    "    # parameters (trained with backprop)\n",
    "    self.gamma = torch.ones(dim)\n",
    "    self.beta = torch.zeros(dim)\n",
    "    # buffers (trained with a running 'momentum update')\n",
    "    self.running_mean = torch.zeros(dim)\n",
    "    self.running_var = torch.ones(dim)\n",
    "  \n",
    "  def __call__(self, x):\n",
    "    # calculate the forward pass\n",
    "    if self.training:\n",
    "      xmean = x.mean(0, keepdim=True) # batch mean\n",
    "      xvar = x.var(0, keepdim=True) # batch variance\n",
    "    else:\n",
    "      xmean = self.running_mean\n",
    "      xvar = self.running_var\n",
    "    xhat = (x - xmean) / torch.sqrt(xvar + self.eps) # normalize to unit variance\n",
    "    self.out = self.gamma * xhat + self.beta\n",
    "    # update the buffers\n",
    "    if self.training:\n",
    "      with torch.no_grad():\n",
    "        self.running_mean = (1 - self.momentum) * self.running_mean + self.momentum * xmean\n",
    "        self.running_var = (1 - self.momentum) * self.running_var + self.momentum * xvar\n",
    "    return self.out\n",
    "  \n",
    "  def parameters(self):\n",
    "    return [self.gamma, self.beta]\n",
    "\n",
    "class Tanh:\n",
    "  def __call__(self, x):\n",
    "    self.out = torch.tanh(x)\n",
    "    return self.out\n",
    "  def parameters(self):\n",
    "    return []\n",
    "\n",
    "n_embd = 10 # the dimensionality of the character embedding vectors\n",
    "n_hidden = 100 # the number of neurons in the hidden layer of the MLP\n",
    "g = torch.Generator().manual_seed(2147483647) # for reproducibility\n",
    "\n",
    "C = torch.randn((vocab_size, n_embd),            generator=g)\n",
    "# C = torch.zeros((vocab_size, n_embd))\n",
    "layers = [\n",
    "  Linear(n_embd * block_size, n_hidden, bias=False), BatchNorm1d(n_hidden), Tanh(),\n",
    "  Linear(           n_hidden, n_hidden, bias=False), BatchNorm1d(n_hidden), Tanh(),\n",
    "  Linear(           n_hidden, n_hidden, bias=False), BatchNorm1d(n_hidden), Tanh(),\n",
    "  Linear(           n_hidden, n_hidden, bias=False), BatchNorm1d(n_hidden), Tanh(),\n",
    "  Linear(           n_hidden, n_hidden, bias=False), BatchNorm1d(n_hidden), Tanh(),\n",
    "  Linear(           n_hidden, vocab_size, bias=False), BatchNorm1d(vocab_size),\n",
    "]\n",
    "# layers = [\n",
    "#   Linear(n_embd * block_size, n_hidden), Tanh(),\n",
    "#   Linear(           n_hidden, n_hidden), Tanh(),\n",
    "#   Linear(           n_hidden, n_hidden), Tanh(),\n",
    "#   Linear(           n_hidden, n_hidden), Tanh(),\n",
    "#   Linear(           n_hidden, n_hidden), Tanh(),\n",
    "#   Linear(           n_hidden, vocab_size),\n",
    "# ]\n",
    "# layers = [\n",
    "#   Linear(n_embd * block_size, n_hidden), \n",
    "#   Linear(           n_hidden, n_hidden), \n",
    "#   Linear(           n_hidden, n_hidden), \n",
    "#   Linear(           n_hidden, n_hidden), \n",
    "#   Linear(           n_hidden, n_hidden),\n",
    "#   Linear(           n_hidden, vocab_size),\n",
    "# ]\n",
    "\n",
    "with torch.no_grad():\n",
    "  # last layer: make less confident\n",
    "  layers[-1].gamma *= 0.1\n",
    "  # layers[-1].weight *= 0.1\n",
    "  # all other layers: apply gain\n",
    "  for layer in layers[:-1]:\n",
    "    if isinstance(layer, Linear):\n",
    "      layer.weight *= 5/3\n",
    "\n",
    "parameters = [C] + [p for layer in layers for p in layer.parameters()]\n",
    "print(sum(p.nelement() for p in parameters)) # number of parameters in total\n",
    "for p in parameters:\n",
    "  p.requires_grad = True"
   ]
  },
  {
   "cell_type": "code",
   "execution_count": 242,
   "metadata": {},
   "outputs": [
    {
     "name": "stdout",
     "output_type": "stream",
     "text": [
      "      0/ 200000: 3.2958\n"
     ]
    }
   ],
   "source": [
    "# same optimization as last time\n",
    "max_steps = 200000\n",
    "batch_size = 32\n",
    "lossi = []\n",
    "ud = []\n",
    "\n",
    "for i in range(max_steps):\n",
    "  \n",
    "  # minibatch construct\n",
    "  ix = torch.randint(0, Xtr.shape[0], (batch_size,), generator=g)\n",
    "  Xb, Yb = Xtr[ix], Ytr[ix] # batch X,Y\n",
    "  \n",
    "  # forward pass\n",
    "  emb = C[Xb] # embed the characters into vectors\n",
    "  x = emb.view(emb.shape[0], -1) # concatenate the vectors\n",
    "  for layer in layers:\n",
    "    x = layer(x)\n",
    "  loss = F.cross_entropy(x, Yb) # loss function\n",
    "  \n",
    "  # backward pass\n",
    "  for layer in layers:\n",
    "    layer.out.retain_grad() # AFTER_DEBUG: would take out retain_grad\n",
    "  for p in parameters:\n",
    "    p.grad = None\n",
    "  loss.backward()\n",
    "  \n",
    "  # update\n",
    "  lr = 0.1 if i < 150000 else 0.01 # step learning rate decay\n",
    "  for p in parameters:\n",
    "    p.data += -lr * p.grad\n",
    "\n",
    "  # track stats\n",
    "  if i % 10000 == 0: # print every once in a while\n",
    "    print(f'{i:7d}/{max_steps:7d}: {loss.item():.4f}')\n",
    "  lossi.append(loss.log10().item())\n",
    "  with torch.no_grad():\n",
    "    ud.append([((lr*p.grad).std() / p.data.std()).log10().item() for p in parameters])\n",
    "\n",
    "  if i >= 1000:\n",
    "    break # AFTER_DEBUG: would take out obviously to run full optimization"
   ]
  },
  {
   "cell_type": "code",
   "execution_count": 243,
   "metadata": {},
   "outputs": [
    {
     "data": {
      "text/plain": [
       "tensor([ 0.0077, -0.0695,  0.0126,  0.0152,  0.0221, -0.0069, -0.0230,  0.0109,\n",
       "         0.0313, -0.0172, -0.0176,  0.0200,  0.0305,  0.0253,  0.0149, -0.0603,\n",
       "         0.0083,  0.0068, -0.0681,  0.0009, -0.0072,  0.0138,  0.0126,  0.0083,\n",
       "         0.0078,  0.0090,  0.0115])"
      ]
     },
     "execution_count": 243,
     "metadata": {},
     "output_type": "execute_result"
    }
   ],
   "source": [
    "parameters[-1].grad"
   ]
  },
  {
   "cell_type": "code",
   "execution_count": 244,
   "metadata": {},
   "outputs": [
    {
     "name": "stdout",
     "output_type": "stream",
     "text": [
      "layer 2 (      Tanh): mean +0.00, std 0.00, saturated: 0.00%\n",
      "layer 5 (      Tanh): mean +0.00, std 0.00, saturated: 0.00%\n",
      "layer 8 (      Tanh): mean +0.00, std 0.00, saturated: 0.00%\n",
      "layer 11 (      Tanh): mean +0.00, std 0.00, saturated: 0.00%\n",
      "layer 14 (      Tanh): mean +0.00, std 0.00, saturated: 0.00%\n"
     ]
    },
    {
     "data": {
      "text/plain": [
       "Text(0.5, 1.0, 'activation distribution')"
      ]
     },
     "execution_count": 244,
     "metadata": {},
     "output_type": "execute_result"
    },
    {
     "data": {
      "image/png": "[encoded data removed]",
      "text/plain": [
       "<Figure size 1440x288 with 1 Axes>"
      ]
     },
     "metadata": {},
     "output_type": "display_data"
    }
   ],
   "source": [
    "# visualize histograms\n",
    "plt.figure(figsize=(20, 4)) # width and height of the plot\n",
    "legends = []\n",
    "for i, layer in enumerate(layers[:-1]): # note: exclude the output layer\n",
    "  if isinstance(layer, Tanh):\n",
    "    t = layer.out\n",
    "    print('layer %d (%10s): mean %+.2f, std %.2f, saturated: %.2f%%' % (i, layer.__class__.__name__, t.mean(), t.std(), (t.abs() > 0.97).float().mean()*100))\n",
    "    hy, hx = torch.histogram(t, density=True)\n",
    "    plt.plot(hx[:-1].detach(), hy.detach())\n",
    "    legends.append(f'layer {i} ({layer.__class__.__name__})')\n",
    "plt.legend(legends);\n",
    "plt.title('activation distribution')"
   ]
  },
  {
   "cell_type": "code",
   "execution_count": 261,
   "metadata": {},
   "outputs": [
    {
     "data": {
      "text/plain": [
       "tensor([[ 1.7834,  1.8433, -0.6533, -0.5012, -0.0599,  1.2642, -1.0975, -0.7983,\n",
       "          0.2440,  1.1233, -0.5439, -0.1324,  0.8544,  0.1146,  1.1818,  0.3426,\n",
       "         -1.0497, -1.2619,  0.8508,  0.2861, -0.1306, -0.5461, -0.6744, -1.0733,\n",
       "         -1.1991,  0.5834, -0.7501],\n",
       "        [ 1.7834,  1.8433, -0.6533, -0.5012, -0.0599,  1.2642, -1.0975, -0.7983,\n",
       "          0.2440,  1.1233, -0.5439, -0.1324,  0.8544,  0.1146,  1.1818,  0.3426,\n",
       "         -1.0497, -1.2619,  0.8508,  0.2861, -0.1306, -0.5461, -0.6744, -1.0733,\n",
       "         -1.1991,  0.5834, -0.7501],\n",
       "        [ 1.7834,  1.8433, -0.6533, -0.5012, -0.0599,  1.2642, -1.0975, -0.7983,\n",
       "          0.2440,  1.1233, -0.5439, -0.1324,  0.8544,  0.1146,  1.1818,  0.3426,\n",
       "         -1.0497, -1.2619,  0.8508,  0.2861, -0.1306, -0.5461, -0.6744, -1.0733,\n",
       "         -1.1991,  0.5834, -0.7501],\n",
       "        [ 1.7834,  1.8433, -0.6533, -0.5012, -0.0599,  1.2642, -1.0975, -0.7983,\n",
       "          0.2440,  1.1233, -0.5439, -0.1324,  0.8544,  0.1146,  1.1818,  0.3426,\n",
       "         -1.0497, -1.2619,  0.8508,  0.2861, -0.1306, -0.5461, -0.6744, -1.0733,\n",
       "         -1.1991,  0.5834, -0.7501],\n",
       "        [ 1.7834,  1.8433, -0.6533, -0.5012, -0.0599,  1.2642, -1.0975, -0.7983,\n",
       "          0.2440,  1.1233, -0.5439, -0.1324,  0.8544,  0.1146,  1.1818,  0.3426,\n",
       "         -1.0497, -1.2619,  0.8508,  0.2861, -0.1306, -0.5461, -0.6744, -1.0733,\n",
       "         -1.1991,  0.5834, -0.7501],\n",
       "        [ 1.7834,  1.8433, -0.6533, -0.5012, -0.0599,  1.2642, -1.0975, -0.7983,\n",
       "          0.2440,  1.1233, -0.5439, -0.1324,  0.8544,  0.1146,  1.1818,  0.3426,\n",
       "         -1.0497, -1.2619,  0.8508,  0.2861, -0.1306, -0.5461, -0.6744, -1.0733,\n",
       "         -1.1991,  0.5834, -0.7501],\n",
       "        [ 1.7834,  1.8433, -0.6533, -0.5012, -0.0599,  1.2642, -1.0975, -0.7983,\n",
       "          0.2440,  1.1233, -0.5439, -0.1324,  0.8544,  0.1146,  1.1818,  0.3426,\n",
       "         -1.0497, -1.2619,  0.8508,  0.2861, -0.1306, -0.5461, -0.6744, -1.0733,\n",
       "         -1.1991,  0.5834, -0.7501],\n",
       "        [ 1.7834,  1.8433, -0.6533, -0.5012, -0.0599,  1.2642, -1.0975, -0.7983,\n",
       "          0.2440,  1.1233, -0.5439, -0.1324,  0.8544,  0.1146,  1.1818,  0.3426,\n",
       "         -1.0497, -1.2619,  0.8508,  0.2861, -0.1306, -0.5461, -0.6744, -1.0733,\n",
       "         -1.1991,  0.5834, -0.7501],\n",
       "        [ 1.7834,  1.8433, -0.6533, -0.5012, -0.0599,  1.2642, -1.0975, -0.7983,\n",
       "          0.2440,  1.1233, -0.5439, -0.1324,  0.8544,  0.1146,  1.1818,  0.3426,\n",
       "         -1.0497, -1.2619,  0.8508,  0.2861, -0.1306, -0.5461, -0.6744, -1.0733,\n",
       "         -1.1991,  0.5834, -0.7501],\n",
       "        [ 1.7834,  1.8433, -0.6533, -0.5012, -0.0599,  1.2642, -1.0975, -0.7983,\n",
       "          0.2440,  1.1233, -0.5439, -0.1324,  0.8544,  0.1146,  1.1818,  0.3426,\n",
       "         -1.0497, -1.2619,  0.8508,  0.2861, -0.1306, -0.5461, -0.6744, -1.0733,\n",
       "         -1.1991,  0.5834, -0.7501],\n",
       "        [ 1.7834,  1.8433, -0.6533, -0.5012, -0.0599,  1.2642, -1.0975, -0.7983,\n",
       "          0.2440,  1.1233, -0.5439, -0.1324,  0.8544,  0.1146,  1.1818,  0.3426,\n",
       "         -1.0497, -1.2619,  0.8508,  0.2861, -0.1306, -0.5461, -0.6744, -1.0733,\n",
       "         -1.1991,  0.5834, -0.7501],\n",
       "        [ 1.7834,  1.8433, -0.6533, -0.5012, -0.0599,  1.2642, -1.0975, -0.7983,\n",
       "          0.2440,  1.1233, -0.5439, -0.1324,  0.8544,  0.1146,  1.1818,  0.3426,\n",
       "         -1.0497, -1.2619,  0.8508,  0.2861, -0.1306, -0.5461, -0.6744, -1.0733,\n",
       "         -1.1991,  0.5834, -0.7501],\n",
       "        [ 1.7834,  1.8433, -0.6533, -0.5012, -0.0599,  1.2642, -1.0975, -0.7983,\n",
       "          0.2440,  1.1233, -0.5439, -0.1324,  0.8544,  0.1146,  1.1818,  0.3426,\n",
       "         -1.0497, -1.2619,  0.8508,  0.2861, -0.1306, -0.5461, -0.6744, -1.0733,\n",
       "         -1.1991,  0.5834, -0.7501],\n",
       "        [ 1.7834,  1.8433, -0.6533, -0.5012, -0.0599,  1.2642, -1.0975, -0.7983,\n",
       "          0.2440,  1.1233, -0.5439, -0.1324,  0.8544,  0.1146,  1.1818,  0.3426,\n",
       "         -1.0497, -1.2619,  0.8508,  0.2861, -0.1306, -0.5461, -0.6744, -1.0733,\n",
       "         -1.1991,  0.5834, -0.7501],\n",
       "        [ 1.7834,  1.8433, -0.6533, -0.5012, -0.0599,  1.2642, -1.0975, -0.7983,\n",
       "          0.2440,  1.1233, -0.5439, -0.1324,  0.8544,  0.1146,  1.1818,  0.3426,\n",
       "         -1.0497, -1.2619,  0.8508,  0.2861, -0.1306, -0.5461, -0.6744, -1.0733,\n",
       "         -1.1991,  0.5834, -0.7501],\n",
       "        [ 1.7834,  1.8433, -0.6533, -0.5012, -0.0599,  1.2642, -1.0975, -0.7983,\n",
       "          0.2440,  1.1233, -0.5439, -0.1324,  0.8544,  0.1146,  1.1818,  0.3426,\n",
       "         -1.0497, -1.2619,  0.8508,  0.2861, -0.1306, -0.5461, -0.6744, -1.0733,\n",
       "         -1.1991,  0.5834, -0.7501],\n",
       "        [ 1.7834,  1.8433, -0.6533, -0.5012, -0.0599,  1.2642, -1.0975, -0.7983,\n",
       "          0.2440,  1.1233, -0.5439, -0.1324,  0.8544,  0.1146,  1.1818,  0.3426,\n",
       "         -1.0497, -1.2619,  0.8508,  0.2861, -0.1306, -0.5461, -0.6744, -1.0733,\n",
       "         -1.1991,  0.5834, -0.7501],\n",
       "        [ 1.7834,  1.8433, -0.6533, -0.5012, -0.0599,  1.2642, -1.0975, -0.7983,\n",
       "          0.2440,  1.1233, -0.5439, -0.1324,  0.8544,  0.1146,  1.1818,  0.3426,\n",
       "         -1.0497, -1.2619,  0.8508,  0.2861, -0.1306, -0.5461, -0.6744, -1.0733,\n",
       "         -1.1991,  0.5834, -0.7501],\n",
       "        [ 1.7834,  1.8433, -0.6533, -0.5012, -0.0599,  1.2642, -1.0975, -0.7983,\n",
       "          0.2440,  1.1233, -0.5439, -0.1324,  0.8544,  0.1146,  1.1818,  0.3426,\n",
       "         -1.0497, -1.2619,  0.8508,  0.2861, -0.1306, -0.5461, -0.6744, -1.0733,\n",
       "         -1.1991,  0.5834, -0.7501],\n",
       "        [ 1.7834,  1.8433, -0.6533, -0.5012, -0.0599,  1.2642, -1.0975, -0.7983,\n",
       "          0.2440,  1.1233, -0.5439, -0.1324,  0.8544,  0.1146,  1.1818,  0.3426,\n",
       "         -1.0497, -1.2619,  0.8508,  0.2861, -0.1306, -0.5461, -0.6744, -1.0733,\n",
       "         -1.1991,  0.5834, -0.7501],\n",
       "        [ 1.7834,  1.8433, -0.6533, -0.5012, -0.0599,  1.2642, -1.0975, -0.7983,\n",
       "          0.2440,  1.1233, -0.5439, -0.1324,  0.8544,  0.1146,  1.1818,  0.3426,\n",
       "         -1.0497, -1.2619,  0.8508,  0.2861, -0.1306, -0.5461, -0.6744, -1.0733,\n",
       "         -1.1991,  0.5834, -0.7501],\n",
       "        [ 1.7834,  1.8433, -0.6533, -0.5012, -0.0599,  1.2642, -1.0975, -0.7983,\n",
       "          0.2440,  1.1233, -0.5439, -0.1324,  0.8544,  0.1146,  1.1818,  0.3426,\n",
       "         -1.0497, -1.2619,  0.8508,  0.2861, -0.1306, -0.5461, -0.6744, -1.0733,\n",
       "         -1.1991,  0.5834, -0.7501],\n",
       "        [ 1.7834,  1.8433, -0.6533, -0.5012, -0.0599,  1.2642, -1.0975, -0.7983,\n",
       "          0.2440,  1.1233, -0.5439, -0.1324,  0.8544,  0.1146,  1.1818,  0.3426,\n",
       "         -1.0497, -1.2619,  0.8508,  0.2861, -0.1306, -0.5461, -0.6744, -1.0733,\n",
       "         -1.1991,  0.5834, -0.7501],\n",
       "        [ 1.7834,  1.8433, -0.6533, -0.5012, -0.0599,  1.2642, -1.0975, -0.7983,\n",
       "          0.2440,  1.1233, -0.5439, -0.1324,  0.8544,  0.1146,  1.1818,  0.3426,\n",
       "         -1.0497, -1.2619,  0.8508,  0.2861, -0.1306, -0.5461, -0.6744, -1.0733,\n",
       "         -1.1991,  0.5834, -0.7501],\n",
       "        [ 1.7834,  1.8433, -0.6533, -0.5012, -0.0599,  1.2642, -1.0975, -0.7983,\n",
       "          0.2440,  1.1233, -0.5439, -0.1324,  0.8544,  0.1146,  1.1818,  0.3426,\n",
       "         -1.0497, -1.2619,  0.8508,  0.2861, -0.1306, -0.5461, -0.6744, -1.0733,\n",
       "         -1.1991,  0.5834, -0.7501],\n",
       "        [ 1.7834,  1.8433, -0.6533, -0.5012, -0.0599,  1.2642, -1.0975, -0.7983,\n",
       "          0.2440,  1.1233, -0.5439, -0.1324,  0.8544,  0.1146,  1.1818,  0.3426,\n",
       "         -1.0497, -1.2619,  0.8508,  0.2861, -0.1306, -0.5461, -0.6744, -1.0733,\n",
       "         -1.1991,  0.5834, -0.7501],\n",
       "        [ 1.7834,  1.8433, -0.6533, -0.5012, -0.0599,  1.2642, -1.0975, -0.7983,\n",
       "          0.2440,  1.1233, -0.5439, -0.1324,  0.8544,  0.1146,  1.1818,  0.3426,\n",
       "         -1.0497, -1.2619,  0.8508,  0.2861, -0.1306, -0.5461, -0.6744, -1.0733,\n",
       "         -1.1991,  0.5834, -0.7501],\n",
       "        [ 1.7834,  1.8433, -0.6533, -0.5012, -0.0599,  1.2642, -1.0975, -0.7983,\n",
       "          0.2440,  1.1233, -0.5439, -0.1324,  0.8544,  0.1146,  1.1818,  0.3426,\n",
       "         -1.0497, -1.2619,  0.8508,  0.2861, -0.1306, -0.5461, -0.6744, -1.0733,\n",
       "         -1.1991,  0.5834, -0.7501],\n",
       "        [ 1.7834,  1.8433, -0.6533, -0.5012, -0.0599,  1.2642, -1.0975, -0.7983,\n",
       "          0.2440,  1.1233, -0.5439, -0.1324,  0.8544,  0.1146,  1.1818,  0.3426,\n",
       "         -1.0497, -1.2619,  0.8508,  0.2861, -0.1306, -0.5461, -0.6744, -1.0733,\n",
       "         -1.1991,  0.5834, -0.7501],\n",
       "        [ 1.7834,  1.8433, -0.6533, -0.5012, -0.0599,  1.2642, -1.0975, -0.7983,\n",
       "          0.2440,  1.1233, -0.5439, -0.1324,  0.8544,  0.1146,  1.1818,  0.3426,\n",
       "         -1.0497, -1.2619,  0.8508,  0.2861, -0.1306, -0.5461, -0.6744, -1.0733,\n",
       "         -1.1991,  0.5834, -0.7501],\n",
       "        [ 1.7834,  1.8433, -0.6533, -0.5012, -0.0599,  1.2642, -1.0975, -0.7983,\n",
       "          0.2440,  1.1233, -0.5439, -0.1324,  0.8544,  0.1146,  1.1818,  0.3426,\n",
       "         -1.0497, -1.2619,  0.8508,  0.2861, -0.1306, -0.5461, -0.6744, -1.0733,\n",
       "         -1.1991,  0.5834, -0.7501],\n",
       "        [ 1.7834,  1.8433, -0.6533, -0.5012, -0.0599,  1.2642, -1.0975, -0.7983,\n",
       "          0.2440,  1.1233, -0.5439, -0.1324,  0.8544,  0.1146,  1.1818,  0.3426,\n",
       "         -1.0497, -1.2619,  0.8508,  0.2861, -0.1306, -0.5461, -0.6744, -1.0733,\n",
       "         -1.1991,  0.5834, -0.7501]], grad_fn=<AddBackward0>)"
      ]
     },
     "execution_count": 261,
     "metadata": {},
     "output_type": "execute_result"
    }
   ],
   "source": [
    "layers[-1].out"
   ]
  },
  {
   "cell_type": "code",
   "execution_count": 262,
   "metadata": {},
   "outputs": [
    {
     "data": {
      "text/plain": [
       "tensor([ 1.7834,  1.8433, -0.6533, -0.5012, -0.0599,  1.2642, -1.0975, -0.7983,\n",
       "         0.2440,  1.1233, -0.5439, -0.1324,  0.8544,  0.1146,  1.1818,  0.3426,\n",
       "        -1.0497, -1.2619,  0.8508,  0.2861, -0.1306, -0.5461, -0.6744, -1.0733,\n",
       "        -1.1991,  0.5834, -0.7501], requires_grad=True)"
      ]
     },
     "execution_count": 262,
     "metadata": {},
     "output_type": "execute_result"
    }
   ],
   "source": [
    "layers[-1].beta"
   ]
  },
  {
   "cell_type": "code",
   "execution_count": 245,
   "metadata": {},
   "outputs": [
    {
     "name": "stdout",
     "output_type": "stream",
     "text": [
      "layer 1 (BatchNorm1d): mean +0.000000, std 0.000000e+00\n",
      "layer 4 (BatchNorm1d): mean +0.000000, std 0.000000e+00\n",
      "layer 7 (BatchNorm1d): mean +0.000000, std 0.000000e+00\n",
      "layer 10 (BatchNorm1d): mean +0.000000, std 0.000000e+00\n",
      "layer 13 (BatchNorm1d): mean +0.000000, std 0.000000e+00\n",
      "layer 16 (BatchNorm1d): mean +0.000000, std 5.721838e-03\n"
     ]
    },
    {
     "data": {
      "text/plain": [
       "Text(0.5, 1.0, 'gradient distribution')"
      ]
     },
     "execution_count": 245,
     "metadata": {},
     "output_type": "execute_result"
    },
    {
     "data": {
      "image/png": "[encoded data removed]",
      "text/plain": [
       "<Figure size 1440x288 with 1 Axes>"
      ]
     },
     "metadata": {},
     "output_type": "display_data"
    }
   ],
   "source": [
    "# visualize histograms\n",
    "plt.figure(figsize=(20, 4)) # width and height of the plot\n",
    "legends = []\n",
    "for i, layer in enumerate(layers): # note: exclude the output layer\n",
    "  if isinstance(layer, BatchNorm1d):\n",
    "    t = layer.out.grad\n",
    "    print('layer %d (%10s): mean %+f, std %e' % (i, layer.__class__.__name__, t.mean(), t.std()))\n",
    "    hy, hx = torch.histogram(t, density=True)\n",
    "    plt.plot(hx[:-1].detach(), hy.detach())\n",
    "    legends.append(f'layer {i} ({layer.__class__.__name__}')\n",
    "plt.legend(legends);\n",
    "plt.title('gradient distribution')"
   ]
  },
  {
   "cell_type": "code",
   "execution_count": 246,
   "metadata": {},
   "outputs": [
    {
     "name": "stdout",
     "output_type": "stream",
     "text": [
      "weight   (27, 10) | mean +0.000000 | std 0.000000e+00 | grad:data ratio 0.000000e+00\n",
      "weight  (30, 100) | mean +0.000000 | std 0.000000e+00 | grad:data ratio nan\n",
      "weight (100, 100) | mean +0.000000 | std 0.000000e+00 | grad:data ratio nan\n",
      "weight (100, 100) | mean +0.000000 | std 0.000000e+00 | grad:data ratio nan\n",
      "weight (100, 100) | mean +0.000000 | std 0.000000e+00 | grad:data ratio nan\n",
      "weight (100, 100) | mean +0.000000 | std 0.000000e+00 | grad:data ratio nan\n",
      "weight  (100, 27) | mean +0.000000 | std 0.000000e+00 | grad:data ratio nan\n"
     ]
    },
    {
     "data": {
      "image/png": "[encoded data removed]",
      "text/plain": [
       "<Figure size 1440x288 with 1 Axes>"
      ]
     },
     "metadata": {},
     "output_type": "display_data"
    }
   ],
   "source": [
    "# visualize histograms\n",
    "plt.figure(figsize=(20, 4)) # width and height of the plot\n",
    "legends = []\n",
    "for i,p in enumerate(parameters):\n",
    "  t = p.grad\n",
    "  if p.ndim == 2:\n",
    "    print('weight %10s | mean %+f | std %e | grad:data ratio %e' % (tuple(p.shape), t.mean(), t.std(), t.std() / p.std()))\n",
    "    hy, hx = torch.histogram(t, density=True)\n",
    "    plt.plot(hx[:-1].detach(), hy.detach())\n",
    "    legends.append(f'{i} {tuple(p.shape)}')\n",
    "plt.legend(legends)\n",
    "plt.title('weights gradient distribution');"
   ]
  },
  {
   "cell_type": "code",
   "execution_count": 247,
   "metadata": {},
   "outputs": [
    {
     "data": {
      "image/png": "[encoded data removed]",
      "text/plain": [
       "<Figure size 1440x288 with 1 Axes>"
      ]
     },
     "metadata": {},
     "output_type": "display_data"
    }
   ],
   "source": [
    "plt.figure(figsize=(20, 4))\n",
    "legends = []\n",
    "for i,p in enumerate(parameters):\n",
    "  if p.ndim == 2:\n",
    "    plt.plot([ud[j][i] for j in range(len(ud))])\n",
    "    legends.append('param %d' % i)\n",
    "plt.plot([0, len(ud)], [-3, -3], 'k') # these ratios should be ~1e-3, indicate on plot\n",
    "leg = plt.legend(legends);"
   ]
  },
  {
   "cell_type": "code",
   "execution_count": 248,
   "metadata": {},
   "outputs": [
    {
     "data": {
      "text/plain": [
       "[-inf,\n",
       " nan,\n",
       " nan,\n",
       " nan,\n",
       " nan,\n",
       " nan,\n",
       " nan,\n",
       " nan,\n",
       " nan,\n",
       " nan,\n",
       " nan,\n",
       " nan,\n",
       " nan,\n",
       " nan,\n",
       " nan,\n",
       " nan,\n",
       " nan,\n",
       " -inf,\n",
       " 0.0]"
      ]
     },
     "execution_count": 248,
     "metadata": {},
     "output_type": "execute_result"
    }
   ],
   "source": [
    "ud[0]"
   ]
  },
  {
   "cell_type": "code",
   "execution_count": 249,
   "metadata": {},
   "outputs": [
    {
     "name": "stdout",
     "output_type": "stream",
     "text": [
      "train 2.833400249481201\n",
      "val 2.832515001296997\n"
     ]
    }
   ],
   "source": [
    "@torch.no_grad() # this decorator disables gradient tracking\n",
    "def split_loss(split):\n",
    "  x,y = {\n",
    "    'train': (Xtr, Ytr),\n",
    "    'val': (Xdev, Ydev),\n",
    "    'test': (Xte, Yte),\n",
    "  }[split]\n",
    "  emb = C[x] # (N, block_size, n_embd)\n",
    "  x = emb.view(emb.shape[0], -1) # concat into (N, block_size * n_embd)\n",
    "  for layer in layers:\n",
    "    x = layer(x)\n",
    "  loss = F.cross_entropy(x, y)\n",
    "  print(split, loss.item())\n",
    "\n",
    "# put layers into eval mode\n",
    "for layer in layers:\n",
    "  layer.training = False\n",
    "split_loss('train')\n",
    "split_loss('val')"
   ]
  },
  {
   "cell_type": "code",
   "execution_count": 250,
   "metadata": {},
   "outputs": [
    {
     "name": "stdout",
     "output_type": "stream",
     "text": [
      "narpahxqae.\n",
      "hlrihkimrsxreaty.\n",
      "hnaassnejr.\n",
      "hnenfaperahc.\n",
      "iaqei.\n",
      ".\n",
      "ermaia.\n",
      "ceaiiv.\n",
      "e.\n",
      "lein.\n",
      "h.\n",
      ".\n",
      "m.\n",
      ".\n",
      "oin.\n",
      "qeijn.\n",
      "s.\n",
      "lilea.\n",
      ".\n",
      "aabq.\n"
     ]
    }
   ],
   "source": [
    "# sample from the model\n",
    "g = torch.Generator().manual_seed(2147483647 + 10)\n",
    "\n",
    "for _ in range(20):\n",
    "    \n",
    "    out = []\n",
    "    context = [0] * block_size # initialize with all ...\n",
    "    while True:\n",
    "      # forward pass the neural net\n",
    "      emb = C[torch.tensor([context])] # (1,block_size,n_embd)\n",
    "      x = emb.view(emb.shape[0], -1) # concatenate the vectors\n",
    "      for layer in layers:\n",
    "        x = layer(x)\n",
    "      logits = x\n",
    "      probs = F.softmax(logits, dim=1)\n",
    "      # sample from the distribution\n",
    "      ix = torch.multinomial(probs, num_samples=1, generator=g).item()\n",
    "      # shift the context window and track the samples\n",
    "      context = context[1:] + [ix]\n",
    "      out.append(ix)\n",
    "      # if we sample the special '.' token, break\n",
    "      if ix == 0:\n",
    "        break\n",
    "    \n",
    "    print(''.join(itos[i] for i in out)) # decode and print the generated word"
   ]
  },
  {
   "cell_type": "code",
   "execution_count": 251,
   "metadata": {},
   "outputs": [],
   "source": [
    "# DONE; BONUS content below, not covered in video"
   ]
  },
  {
   "cell_type": "code",
   "execution_count": 252,
   "metadata": {},
   "outputs": [
    {
     "data": {
      "application/vnd.jupyter.widget-view+json": {
       "model_id": "49a059b2b8b445d98706bc976413f4ad",
       "version_major": 2,
       "version_minor": 0
      },
      "text/plain": [
       "interactive(children=(FloatSlider(value=0.0, description='x0', max=30.0, min=-30.0, step=0.5), Output()), _dom…"
      ]
     },
     "metadata": {},
     "output_type": "display_data"
    }
   ],
   "source": [
    "# BatchNorm forward pass as a widget\n",
    "\n",
    "from ipywidgets import interact, interactive, fixed, interact_manual\n",
    "import ipywidgets as widgets\n",
    "import scipy.stats as stats\n",
    "import numpy as np\n",
    "\n",
    "def normshow(x0):\n",
    "  \n",
    "  g = torch.Generator().manual_seed(2147483647+1)\n",
    "  x = torch.randn(5, generator=g) * 5\n",
    "  x[0] = x0 # override the 0th example with the slider\n",
    "  mu = x.mean()\n",
    "  sig = x.std()\n",
    "  y = (x - mu)/sig\n",
    "\n",
    "  plt.figure(figsize=(10, 5))\n",
    "  # plot 0\n",
    "  plt.plot([-6,6], [0,0], 'k')\n",
    "  # plot the mean and std\n",
    "  xx = np.linspace(-6, 6, 100)\n",
    "  plt.plot(xx, stats.norm.pdf(xx, mu, sig), 'b')\n",
    "  xx = np.linspace(-6, 6, 100)\n",
    "  plt.plot(xx, stats.norm.pdf(xx, 0, 1), 'r')\n",
    "  # plot little lines connecting input and output\n",
    "  for i in range(len(x)):\n",
    "    plt.plot([x[i],y[i]], [1, 0], 'k', alpha=0.2)\n",
    "  # plot the input and output values\n",
    "  plt.scatter(x.data, torch.ones_like(x).data, c='b', s=100)\n",
    "  plt.scatter(y.data, torch.zeros_like(y).data, c='r', s=100)\n",
    "  plt.xlim(-6, 6)\n",
    "  # title\n",
    "  plt.title('input mu %.2f std %.2f' % (mu, sig))\n",
    "\n",
    "interact(normshow, x0=(-30,30,0.5));\n"
   ]
  },
  {
   "cell_type": "code",
   "execution_count": 253,
   "metadata": {},
   "outputs": [
    {
     "name": "stdout",
     "output_type": "stream",
     "text": [
      "a std: 0.9875972270965576\n",
      "b std: 1.0006722211837769\n",
      "c std: 31.01241683959961\n",
      "-----\n",
      "c grad std: 0.9782556295394897\n",
      "a grad std: 30.8818302154541\n",
      "b grad std: 0.9666601419448853\n"
     ]
    }
   ],
   "source": [
    "# Linear: activation statistics of forward and backward pass\n",
    "\n",
    "g = torch.Generator().manual_seed(2147483647)\n",
    "\n",
    "a = torch.randn((1000,1), requires_grad=True, generator=g)          # a.grad = b.T @ c.grad\n",
    "b = torch.randn((1000,1000), requires_grad=True, generator=g)       # b.grad = c.grad @ a.T\n",
    "c = b @ a\n",
    "loss = torch.randn(1000, generator=g) @ c\n",
    "a.retain_grad()\n",
    "b.retain_grad()\n",
    "c.retain_grad()\n",
    "loss.backward()\n",
    "print('a std:', a.std().item())\n",
    "print('b std:', b.std().item())\n",
    "print('c std:', c.std().item()) # std(x+y+z) = sqrt(std(x)^2 + std(y)^2 + std(z)^2) = sqrt(1000) = 31.6 in our case here\n",
    "print('-----')\n",
    "print('c grad std:', c.grad.std().item())\n",
    "print('a grad std:', a.grad.std().item()) # similar to the std of c, for each term in a.grad, we have 1000 terms added together, leading to std of sqrt(1000)\n",
    "print('b grad std:', b.grad.std().item()) # each term in b.grad is a sum of 1 term. See here on why std(x*y) = std(x)*std(y) https://math.stackexchange.com/questions/1416518/standard-deviation-of-the-product-of-gaussians"
   ]
  },
  {
   "cell_type": "code",
   "execution_count": 254,
   "metadata": {},
   "outputs": [
    {
     "name": "stdout",
     "output_type": "stream",
     "text": [
      "inp std:  0.9875972270965576\n",
      "w std:  1.0006722211837769\n",
      "x std:  31.01241683959961\n",
      "out std:  1.0\n",
      "------\n",
      "out grad std:  0.9782556295394897\n",
      "x grad std:  0.031543977558612823\n",
      "w grad std:  0.031169468536973\n",
      "inp grad std:  0.9953053593635559\n"
     ]
    }
   ],
   "source": [
    "# Linear + BatchNorm: activation statistics of forward and backward pass\n",
    "\n",
    "g = torch.Generator().manual_seed(2147483647)\n",
    "\n",
    "n = 1000\n",
    "# linear layer ---\n",
    "inp = torch.randn(n, requires_grad=True, generator=g)\n",
    "w = torch.randn((n, n), requires_grad=True, generator=g) # / n**0.5\n",
    "x = w @ inp\n",
    "# bn layer ---\n",
    "xmean = x.mean()\n",
    "xvar = x.var()\n",
    "out = (x - xmean) / torch.sqrt(xvar + 1e-5)\n",
    "# ----\n",
    "loss = out @ torch.randn(n, generator=g)\n",
    "inp.retain_grad()\n",
    "x.retain_grad()\n",
    "w.retain_grad()\n",
    "out.retain_grad()\n",
    "loss.backward()\n",
    "\n",
    "print('inp std: ', inp.std().item())\n",
    "print('w std: ', w.std().item())\n",
    "print('x std: ', x.std().item())\n",
    "print('out std: ', out.std().item())\n",
    "print('------')\n",
    "print('out grad std: ', out.grad.std().item())\n",
    "print('x grad std: ', x.grad.std().item())\n",
    "print('w grad std: ', w.grad.std().item())\n",
    "print('inp grad std: ', inp.grad.std().item())"
   ]
  },
  {
   "cell_type": "code",
   "execution_count": 255,
   "metadata": {},
   "outputs": [],
   "source": [
    "# - E01: I did not get around to seeing what happens when you initialize all weights and biases to zero. Try this and train the neural net. You might think either that 1) the network trains just fine or 2) the network doesn't train at all, but actually it is 3) the network trains but only partially, and achieves a pretty bad final performance. Inspect the gradients and activations to figure out what is happening and why the network is only partially training, and what part is being trained exactly.\n",
    "\n",
    "# y = Wx + b for the last linear layer, because W is zeros, there is no gradient flowing to x, the output of last layer. Because x is zeros, there's no gradient on W either. Only the bias b can be trained. Or the beta of the last batchnorm layer can be trained. The network can still train, but only partially.\n",
    "\n",
    "# - E02: BatchNorm, unlike other normalization layers like LayerNorm/GroupNorm etc. has the big advantage that after training, the batchnorm gamma/beta can be \"folded into\" the weights of the preceeding Linear layers, effectively erasing the need to forward it at test time. Set up a small 3-layer MLP with batchnorms, train the network, then \"fold\" the batchnorm gamma/beta into the preceeding Linear layer's W,b by creating a new W2, b2 and erasing the batch norm. Verify that this gives the same forward pass during inference. i.e. we see that the batchnorm is there just for stabilizing the training, and can be thrown out after training is done! pretty cool."
   ]
  },
  {
   "cell_type": "code",
   "execution_count": 256,
   "metadata": {},
   "outputs": [
    {
     "name": "stdout",
     "output_type": "stream",
     "text": [
      "6224\n"
     ]
    }
   ],
   "source": [
    "\n",
    "layers = [\n",
    "  Linear(n_embd * block_size, n_hidden, bias=False), BatchNorm1d(n_hidden), Tanh(),\n",
    "  # Linear(           n_hidden, n_hidden, bias=False), BatchNorm1d(n_hidden), Tanh(),\n",
    "  Linear(           n_hidden, vocab_size, bias=False), BatchNorm1d(vocab_size),\n",
    "]\n",
    "\n",
    "parameters = [C] + [p for layer in layers for p in layer.parameters()]\n",
    "print(sum(p.nelement() for p in parameters)) # number of parameters in total\n",
    "for p in parameters:\n",
    "  p.requires_grad = True"
   ]
  },
  {
   "cell_type": "code",
   "execution_count": 257,
   "metadata": {},
   "outputs": [
    {
     "name": "stdout",
     "output_type": "stream",
     "text": [
      "      0/ 200000: 3.2958\n"
     ]
    }
   ],
   "source": [
    "# same optimization as last time\n",
    "max_steps = 200000\n",
    "batch_size = 32\n",
    "lossi = []\n",
    "ud = []\n",
    "\n",
    "for i in range(max_steps):\n",
    "  \n",
    "  # minibatch construct\n",
    "  ix = torch.randint(0, Xtr.shape[0], (batch_size,), generator=g)\n",
    "  Xb, Yb = Xtr[ix], Ytr[ix] # batch X,Y\n",
    "  \n",
    "  # forward pass\n",
    "  emb = C[Xb] # embed the characters into vectors\n",
    "  x = emb.view(emb.shape[0], -1) # concatenate the vectors\n",
    "  for layer in layers:\n",
    "    x = layer(x)\n",
    "  loss = F.cross_entropy(x, Yb) # loss function\n",
    "  \n",
    "  # backward pass\n",
    "  for layer in layers:\n",
    "    layer.out.retain_grad() # AFTER_DEBUG: would take out retain_grad\n",
    "  for p in parameters:\n",
    "    p.grad = None\n",
    "  loss.backward()\n",
    "  \n",
    "  # update\n",
    "  lr = 0.1 if i < 150000 else 0.01 # step learning rate decay\n",
    "  for p in parameters:\n",
    "    p.data += -lr * p.grad\n",
    "\n",
    "  # track stats\n",
    "  if i % 10000 == 0: # print every once in a while\n",
    "    print(f'{i:7d}/{max_steps:7d}: {loss.item():.4f}')\n",
    "  lossi.append(loss.log10().item())\n",
    "  with torch.no_grad():\n",
    "    ud.append([((lr*p.grad).std() / p.data.std()).log10().item() for p in parameters])\n",
    "\n",
    "  if i >= 1000:\n",
    "    break # AFTER_DEBUG: would take out obviously to run full optimization"
   ]
  },
  {
   "cell_type": "code",
   "execution_count": 258,
   "metadata": {},
   "outputs": [],
   "source": [
    "for layer in layers:\n",
    "  layer.training = False"
   ]
  },
  {
   "cell_type": "code",
   "execution_count": 259,
   "metadata": {},
   "outputs": [
    {
     "data": {
      "text/plain": [
       "tensor([[ 1.7834,  1.8433, -0.6533, -0.5012, -0.0599,  1.2642, -1.0975, -0.7983,\n",
       "          0.2440,  1.1233, -0.5439, -0.1324,  0.8544,  0.1146,  1.1818,  0.3426,\n",
       "         -1.0497, -1.2619,  0.8508,  0.2861, -0.1306, -0.5461, -0.6744, -1.0733,\n",
       "         -1.1991,  0.5834, -0.7501],\n",
       "        [ 1.7834,  1.8433, -0.6533, -0.5012, -0.0599,  1.2642, -1.0975, -0.7983,\n",
       "          0.2440,  1.1233, -0.5439, -0.1324,  0.8544,  0.1146,  1.1818,  0.3426,\n",
       "         -1.0497, -1.2619,  0.8508,  0.2861, -0.1306, -0.5461, -0.6744, -1.0733,\n",
       "         -1.1991,  0.5834, -0.7501],\n",
       "        [ 1.7834,  1.8433, -0.6533, -0.5012, -0.0599,  1.2642, -1.0975, -0.7983,\n",
       "          0.2440,  1.1233, -0.5439, -0.1324,  0.8544,  0.1146,  1.1818,  0.3426,\n",
       "         -1.0497, -1.2619,  0.8508,  0.2861, -0.1306, -0.5461, -0.6744, -1.0733,\n",
       "         -1.1991,  0.5834, -0.7501],\n",
       "        [ 1.7834,  1.8433, -0.6533, -0.5012, -0.0599,  1.2642, -1.0975, -0.7983,\n",
       "          0.2440,  1.1233, -0.5439, -0.1324,  0.8544,  0.1146,  1.1818,  0.3426,\n",
       "         -1.0497, -1.2619,  0.8508,  0.2861, -0.1306, -0.5461, -0.6744, -1.0733,\n",
       "         -1.1991,  0.5834, -0.7501],\n",
       "        [ 1.7834,  1.8433, -0.6533, -0.5012, -0.0599,  1.2642, -1.0975, -0.7983,\n",
       "          0.2440,  1.1233, -0.5439, -0.1324,  0.8544,  0.1146,  1.1818,  0.3426,\n",
       "         -1.0497, -1.2619,  0.8508,  0.2861, -0.1306, -0.5461, -0.6744, -1.0733,\n",
       "         -1.1991,  0.5834, -0.7501],\n",
       "        [ 1.7834,  1.8433, -0.6533, -0.5012, -0.0599,  1.2642, -1.0975, -0.7983,\n",
       "          0.2440,  1.1233, -0.5439, -0.1324,  0.8544,  0.1146,  1.1818,  0.3426,\n",
       "         -1.0497, -1.2619,  0.8508,  0.2861, -0.1306, -0.5461, -0.6744, -1.0733,\n",
       "         -1.1991,  0.5834, -0.7501],\n",
       "        [ 1.7834,  1.8433, -0.6533, -0.5012, -0.0599,  1.2642, -1.0975, -0.7983,\n",
       "          0.2440,  1.1233, -0.5439, -0.1324,  0.8544,  0.1146,  1.1818,  0.3426,\n",
       "         -1.0497, -1.2619,  0.8508,  0.2861, -0.1306, -0.5461, -0.6744, -1.0733,\n",
       "         -1.1991,  0.5834, -0.7501],\n",
       "        [ 1.7834,  1.8433, -0.6533, -0.5012, -0.0599,  1.2642, -1.0975, -0.7983,\n",
       "          0.2440,  1.1233, -0.5439, -0.1324,  0.8544,  0.1146,  1.1818,  0.3426,\n",
       "         -1.0497, -1.2619,  0.8508,  0.2861, -0.1306, -0.5461, -0.6744, -1.0733,\n",
       "         -1.1991,  0.5834, -0.7501],\n",
       "        [ 1.7834,  1.8433, -0.6533, -0.5012, -0.0599,  1.2642, -1.0975, -0.7983,\n",
       "          0.2440,  1.1233, -0.5439, -0.1324,  0.8544,  0.1146,  1.1818,  0.3426,\n",
       "         -1.0497, -1.2619,  0.8508,  0.2861, -0.1306, -0.5461, -0.6744, -1.0733,\n",
       "         -1.1991,  0.5834, -0.7501],\n",
       "        [ 1.7834,  1.8433, -0.6533, -0.5012, -0.0599,  1.2642, -1.0975, -0.7983,\n",
       "          0.2440,  1.1233, -0.5439, -0.1324,  0.8544,  0.1146,  1.1818,  0.3426,\n",
       "         -1.0497, -1.2619,  0.8508,  0.2861, -0.1306, -0.5461, -0.6744, -1.0733,\n",
       "         -1.1991,  0.5834, -0.7501],\n",
       "        [ 1.7834,  1.8433, -0.6533, -0.5012, -0.0599,  1.2642, -1.0975, -0.7983,\n",
       "          0.2440,  1.1233, -0.5439, -0.1324,  0.8544,  0.1146,  1.1818,  0.3426,\n",
       "         -1.0497, -1.2619,  0.8508,  0.2861, -0.1306, -0.5461, -0.6744, -1.0733,\n",
       "         -1.1991,  0.5834, -0.7501],\n",
       "        [ 1.7834,  1.8433, -0.6533, -0.5012, -0.0599,  1.2642, -1.0975, -0.7983,\n",
       "          0.2440,  1.1233, -0.5439, -0.1324,  0.8544,  0.1146,  1.1818,  0.3426,\n",
       "         -1.0497, -1.2619,  0.8508,  0.2861, -0.1306, -0.5461, -0.6744, -1.0733,\n",
       "         -1.1991,  0.5834, -0.7501],\n",
       "        [ 1.7834,  1.8433, -0.6533, -0.5012, -0.0599,  1.2642, -1.0975, -0.7983,\n",
       "          0.2440,  1.1233, -0.5439, -0.1324,  0.8544,  0.1146,  1.1818,  0.3426,\n",
       "         -1.0497, -1.2619,  0.8508,  0.2861, -0.1306, -0.5461, -0.6744, -1.0733,\n",
       "         -1.1991,  0.5834, -0.7501],\n",
       "        [ 1.7834,  1.8433, -0.6533, -0.5012, -0.0599,  1.2642, -1.0975, -0.7983,\n",
       "          0.2440,  1.1233, -0.5439, -0.1324,  0.8544,  0.1146,  1.1818,  0.3426,\n",
       "         -1.0497, -1.2619,  0.8508,  0.2861, -0.1306, -0.5461, -0.6744, -1.0733,\n",
       "         -1.1991,  0.5834, -0.7501],\n",
       "        [ 1.7834,  1.8433, -0.6533, -0.5012, -0.0599,  1.2642, -1.0975, -0.7983,\n",
       "          0.2440,  1.1233, -0.5439, -0.1324,  0.8544,  0.1146,  1.1818,  0.3426,\n",
       "         -1.0497, -1.2619,  0.8508,  0.2861, -0.1306, -0.5461, -0.6744, -1.0733,\n",
       "         -1.1991,  0.5834, -0.7501],\n",
       "        [ 1.7834,  1.8433, -0.6533, -0.5012, -0.0599,  1.2642, -1.0975, -0.7983,\n",
       "          0.2440,  1.1233, -0.5439, -0.1324,  0.8544,  0.1146,  1.1818,  0.3426,\n",
       "         -1.0497, -1.2619,  0.8508,  0.2861, -0.1306, -0.5461, -0.6744, -1.0733,\n",
       "         -1.1991,  0.5834, -0.7501],\n",
       "        [ 1.7834,  1.8433, -0.6533, -0.5012, -0.0599,  1.2642, -1.0975, -0.7983,\n",
       "          0.2440,  1.1233, -0.5439, -0.1324,  0.8544,  0.1146,  1.1818,  0.3426,\n",
       "         -1.0497, -1.2619,  0.8508,  0.2861, -0.1306, -0.5461, -0.6744, -1.0733,\n",
       "         -1.1991,  0.5834, -0.7501],\n",
       "        [ 1.7834,  1.8433, -0.6533, -0.5012, -0.0599,  1.2642, -1.0975, -0.7983,\n",
       "          0.2440,  1.1233, -0.5439, -0.1324,  0.8544,  0.1146,  1.1818,  0.3426,\n",
       "         -1.0497, -1.2619,  0.8508,  0.2861, -0.1306, -0.5461, -0.6744, -1.0733,\n",
       "         -1.1991,  0.5834, -0.7501],\n",
       "        [ 1.7834,  1.8433, -0.6533, -0.5012, -0.0599,  1.2642, -1.0975, -0.7983,\n",
       "          0.2440,  1.1233, -0.5439, -0.1324,  0.8544,  0.1146,  1.1818,  0.3426,\n",
       "         -1.0497, -1.2619,  0.8508,  0.2861, -0.1306, -0.5461, -0.6744, -1.0733,\n",
       "         -1.1991,  0.5834, -0.7501],\n",
       "        [ 1.7834,  1.8433, -0.6533, -0.5012, -0.0599,  1.2642, -1.0975, -0.7983,\n",
       "          0.2440,  1.1233, -0.5439, -0.1324,  0.8544,  0.1146,  1.1818,  0.3426,\n",
       "         -1.0497, -1.2619,  0.8508,  0.2861, -0.1306, -0.5461, -0.6744, -1.0733,\n",
       "         -1.1991,  0.5834, -0.7501],\n",
       "        [ 1.7834,  1.8433, -0.6533, -0.5012, -0.0599,  1.2642, -1.0975, -0.7983,\n",
       "          0.2440,  1.1233, -0.5439, -0.1324,  0.8544,  0.1146,  1.1818,  0.3426,\n",
       "         -1.0497, -1.2619,  0.8508,  0.2861, -0.1306, -0.5461, -0.6744, -1.0733,\n",
       "         -1.1991,  0.5834, -0.7501],\n",
       "        [ 1.7834,  1.8433, -0.6533, -0.5012, -0.0599,  1.2642, -1.0975, -0.7983,\n",
       "          0.2440,  1.1233, -0.5439, -0.1324,  0.8544,  0.1146,  1.1818,  0.3426,\n",
       "         -1.0497, -1.2619,  0.8508,  0.2861, -0.1306, -0.5461, -0.6744, -1.0733,\n",
       "         -1.1991,  0.5834, -0.7501],\n",
       "        [ 1.7834,  1.8433, -0.6533, -0.5012, -0.0599,  1.2642, -1.0975, -0.7983,\n",
       "          0.2440,  1.1233, -0.5439, -0.1324,  0.8544,  0.1146,  1.1818,  0.3426,\n",
       "         -1.0497, -1.2619,  0.8508,  0.2861, -0.1306, -0.5461, -0.6744, -1.0733,\n",
       "         -1.1991,  0.5834, -0.7501],\n",
       "        [ 1.7834,  1.8433, -0.6533, -0.5012, -0.0599,  1.2642, -1.0975, -0.7983,\n",
       "          0.2440,  1.1233, -0.5439, -0.1324,  0.8544,  0.1146,  1.1818,  0.3426,\n",
       "         -1.0497, -1.2619,  0.8508,  0.2861, -0.1306, -0.5461, -0.6744, -1.0733,\n",
       "         -1.1991,  0.5834, -0.7501],\n",
       "        [ 1.7834,  1.8433, -0.6533, -0.5012, -0.0599,  1.2642, -1.0975, -0.7983,\n",
       "          0.2440,  1.1233, -0.5439, -0.1324,  0.8544,  0.1146,  1.1818,  0.3426,\n",
       "         -1.0497, -1.2619,  0.8508,  0.2861, -0.1306, -0.5461, -0.6744, -1.0733,\n",
       "         -1.1991,  0.5834, -0.7501],\n",
       "        [ 1.7834,  1.8433, -0.6533, -0.5012, -0.0599,  1.2642, -1.0975, -0.7983,\n",
       "          0.2440,  1.1233, -0.5439, -0.1324,  0.8544,  0.1146,  1.1818,  0.3426,\n",
       "         -1.0497, -1.2619,  0.8508,  0.2861, -0.1306, -0.5461, -0.6744, -1.0733,\n",
       "         -1.1991,  0.5834, -0.7501],\n",
       "        [ 1.7834,  1.8433, -0.6533, -0.5012, -0.0599,  1.2642, -1.0975, -0.7983,\n",
       "          0.2440,  1.1233, -0.5439, -0.1324,  0.8544,  0.1146,  1.1818,  0.3426,\n",
       "         -1.0497, -1.2619,  0.8508,  0.2861, -0.1306, -0.5461, -0.6744, -1.0733,\n",
       "         -1.1991,  0.5834, -0.7501],\n",
       "        [ 1.7834,  1.8433, -0.6533, -0.5012, -0.0599,  1.2642, -1.0975, -0.7983,\n",
       "          0.2440,  1.1233, -0.5439, -0.1324,  0.8544,  0.1146,  1.1818,  0.3426,\n",
       "         -1.0497, -1.2619,  0.8508,  0.2861, -0.1306, -0.5461, -0.6744, -1.0733,\n",
       "         -1.1991,  0.5834, -0.7501],\n",
       "        [ 1.7834,  1.8433, -0.6533, -0.5012, -0.0599,  1.2642, -1.0975, -0.7983,\n",
       "          0.2440,  1.1233, -0.5439, -0.1324,  0.8544,  0.1146,  1.1818,  0.3426,\n",
       "         -1.0497, -1.2619,  0.8508,  0.2861, -0.1306, -0.5461, -0.6744, -1.0733,\n",
       "         -1.1991,  0.5834, -0.7501],\n",
       "        [ 1.7834,  1.8433, -0.6533, -0.5012, -0.0599,  1.2642, -1.0975, -0.7983,\n",
       "          0.2440,  1.1233, -0.5439, -0.1324,  0.8544,  0.1146,  1.1818,  0.3426,\n",
       "         -1.0497, -1.2619,  0.8508,  0.2861, -0.1306, -0.5461, -0.6744, -1.0733,\n",
       "         -1.1991,  0.5834, -0.7501],\n",
       "        [ 1.7834,  1.8433, -0.6533, -0.5012, -0.0599,  1.2642, -1.0975, -0.7983,\n",
       "          0.2440,  1.1233, -0.5439, -0.1324,  0.8544,  0.1146,  1.1818,  0.3426,\n",
       "         -1.0497, -1.2619,  0.8508,  0.2861, -0.1306, -0.5461, -0.6744, -1.0733,\n",
       "         -1.1991,  0.5834, -0.7501],\n",
       "        [ 1.7834,  1.8433, -0.6533, -0.5012, -0.0599,  1.2642, -1.0975, -0.7983,\n",
       "          0.2440,  1.1233, -0.5439, -0.1324,  0.8544,  0.1146,  1.1818,  0.3426,\n",
       "         -1.0497, -1.2619,  0.8508,  0.2861, -0.1306, -0.5461, -0.6744, -1.0733,\n",
       "         -1.1991,  0.5834, -0.7501]], grad_fn=<AddBackward0>)"
      ]
     },
     "execution_count": 259,
     "metadata": {},
     "output_type": "execute_result"
    }
   ],
   "source": [
    "# sample from the model\n",
    "\n",
    "context = [0] * block_size # initialize with all ...\n",
    "x = emb.view(emb.shape[0], -1) # concatenate the vectors\n",
    "for layer in layers:\n",
    "    x = layer(x)\n",
    "x"
   ]
  },
  {
   "cell_type": "code",
   "execution_count": 260,
   "metadata": {},
   "outputs": [
    {
     "data": {
      "text/plain": [
       "tensor([[ 1.7834,  1.8433, -0.6533, -0.5012, -0.0599,  1.2642, -1.0975, -0.7983,\n",
       "          0.2440,  1.1233, -0.5439, -0.1324,  0.8544,  0.1146,  1.1818,  0.3426,\n",
       "         -1.0497, -1.2619,  0.8508,  0.2861, -0.1306, -0.5461, -0.6744, -1.0733,\n",
       "         -1.1991,  0.5834, -0.7501],\n",
       "        [ 1.7834,  1.8433, -0.6533, -0.5012, -0.0599,  1.2642, -1.0975, -0.7983,\n",
       "          0.2440,  1.1233, -0.5439, -0.1324,  0.8544,  0.1146,  1.1818,  0.3426,\n",
       "         -1.0497, -1.2619,  0.8508,  0.2861, -0.1306, -0.5461, -0.6744, -1.0733,\n",
       "         -1.1991,  0.5834, -0.7501],\n",
       "        [ 1.7834,  1.8433, -0.6533, -0.5012, -0.0599,  1.2642, -1.0975, -0.7983,\n",
       "          0.2440,  1.1233, -0.5439, -0.1324,  0.8544,  0.1146,  1.1818,  0.3426,\n",
       "         -1.0497, -1.2619,  0.8508,  0.2861, -0.1306, -0.5461, -0.6744, -1.0733,\n",
       "         -1.1991,  0.5834, -0.7501],\n",
       "        [ 1.7834,  1.8433, -0.6533, -0.5012, -0.0599,  1.2642, -1.0975, -0.7983,\n",
       "          0.2440,  1.1233, -0.5439, -0.1324,  0.8544,  0.1146,  1.1818,  0.3426,\n",
       "         -1.0497, -1.2619,  0.8508,  0.2861, -0.1306, -0.5461, -0.6744, -1.0733,\n",
       "         -1.1991,  0.5834, -0.7501],\n",
       "        [ 1.7834,  1.8433, -0.6533, -0.5012, -0.0599,  1.2642, -1.0975, -0.7983,\n",
       "          0.2440,  1.1233, -0.5439, -0.1324,  0.8544,  0.1146,  1.1818,  0.3426,\n",
       "         -1.0497, -1.2619,  0.8508,  0.2861, -0.1306, -0.5461, -0.6744, -1.0733,\n",
       "         -1.1991,  0.5834, -0.7501],\n",
       "        [ 1.7834,  1.8433, -0.6533, -0.5012, -0.0599,  1.2642, -1.0975, -0.7983,\n",
       "          0.2440,  1.1233, -0.5439, -0.1324,  0.8544,  0.1146,  1.1818,  0.3426,\n",
       "         -1.0497, -1.2619,  0.8508,  0.2861, -0.1306, -0.5461, -0.6744, -1.0733,\n",
       "         -1.1991,  0.5834, -0.7501],\n",
       "        [ 1.7834,  1.8433, -0.6533, -0.5012, -0.0599,  1.2642, -1.0975, -0.7983,\n",
       "          0.2440,  1.1233, -0.5439, -0.1324,  0.8544,  0.1146,  1.1818,  0.3426,\n",
       "         -1.0497, -1.2619,  0.8508,  0.2861, -0.1306, -0.5461, -0.6744, -1.0733,\n",
       "         -1.1991,  0.5834, -0.7501],\n",
       "        [ 1.7834,  1.8433, -0.6533, -0.5012, -0.0599,  1.2642, -1.0975, -0.7983,\n",
       "          0.2440,  1.1233, -0.5439, -0.1324,  0.8544,  0.1146,  1.1818,  0.3426,\n",
       "         -1.0497, -1.2619,  0.8508,  0.2861, -0.1306, -0.5461, -0.6744, -1.0733,\n",
       "         -1.1991,  0.5834, -0.7501],\n",
       "        [ 1.7834,  1.8433, -0.6533, -0.5012, -0.0599,  1.2642, -1.0975, -0.7983,\n",
       "          0.2440,  1.1233, -0.5439, -0.1324,  0.8544,  0.1146,  1.1818,  0.3426,\n",
       "         -1.0497, -1.2619,  0.8508,  0.2861, -0.1306, -0.5461, -0.6744, -1.0733,\n",
       "         -1.1991,  0.5834, -0.7501],\n",
       "        [ 1.7834,  1.8433, -0.6533, -0.5012, -0.0599,  1.2642, -1.0975, -0.7983,\n",
       "          0.2440,  1.1233, -0.5439, -0.1324,  0.8544,  0.1146,  1.1818,  0.3426,\n",
       "         -1.0497, -1.2619,  0.8508,  0.2861, -0.1306, -0.5461, -0.6744, -1.0733,\n",
       "         -1.1991,  0.5834, -0.7501],\n",
       "        [ 1.7834,  1.8433, -0.6533, -0.5012, -0.0599,  1.2642, -1.0975, -0.7983,\n",
       "          0.2440,  1.1233, -0.5439, -0.1324,  0.8544,  0.1146,  1.1818,  0.3426,\n",
       "         -1.0497, -1.2619,  0.8508,  0.2861, -0.1306, -0.5461, -0.6744, -1.0733,\n",
       "         -1.1991,  0.5834, -0.7501],\n",
       "        [ 1.7834,  1.8433, -0.6533, -0.5012, -0.0599,  1.2642, -1.0975, -0.7983,\n",
       "          0.2440,  1.1233, -0.5439, -0.1324,  0.8544,  0.1146,  1.1818,  0.3426,\n",
       "         -1.0497, -1.2619,  0.8508,  0.2861, -0.1306, -0.5461, -0.6744, -1.0733,\n",
       "         -1.1991,  0.5834, -0.7501],\n",
       "        [ 1.7834,  1.8433, -0.6533, -0.5012, -0.0599,  1.2642, -1.0975, -0.7983,\n",
       "          0.2440,  1.1233, -0.5439, -0.1324,  0.8544,  0.1146,  1.1818,  0.3426,\n",
       "         -1.0497, -1.2619,  0.8508,  0.2861, -0.1306, -0.5461, -0.6744, -1.0733,\n",
       "         -1.1991,  0.5834, -0.7501],\n",
       "        [ 1.7834,  1.8433, -0.6533, -0.5012, -0.0599,  1.2642, -1.0975, -0.7983,\n",
       "          0.2440,  1.1233, -0.5439, -0.1324,  0.8544,  0.1146,  1.1818,  0.3426,\n",
       "         -1.0497, -1.2619,  0.8508,  0.2861, -0.1306, -0.5461, -0.6744, -1.0733,\n",
       "         -1.1991,  0.5834, -0.7501],\n",
       "        [ 1.7834,  1.8433, -0.6533, -0.5012, -0.0599,  1.2642, -1.0975, -0.7983,\n",
       "          0.2440,  1.1233, -0.5439, -0.1324,  0.8544,  0.1146,  1.1818,  0.3426,\n",
       "         -1.0497, -1.2619,  0.8508,  0.2861, -0.1306, -0.5461, -0.6744, -1.0733,\n",
       "         -1.1991,  0.5834, -0.7501],\n",
       "        [ 1.7834,  1.8433, -0.6533, -0.5012, -0.0599,  1.2642, -1.0975, -0.7983,\n",
       "          0.2440,  1.1233, -0.5439, -0.1324,  0.8544,  0.1146,  1.1818,  0.3426,\n",
       "         -1.0497, -1.2619,  0.8508,  0.2861, -0.1306, -0.5461, -0.6744, -1.0733,\n",
       "         -1.1991,  0.5834, -0.7501],\n",
       "        [ 1.7834,  1.8433, -0.6533, -0.5012, -0.0599,  1.2642, -1.0975, -0.7983,\n",
       "          0.2440,  1.1233, -0.5439, -0.1324,  0.8544,  0.1146,  1.1818,  0.3426,\n",
       "         -1.0497, -1.2619,  0.8508,  0.2861, -0.1306, -0.5461, -0.6744, -1.0733,\n",
       "         -1.1991,  0.5834, -0.7501],\n",
       "        [ 1.7834,  1.8433, -0.6533, -0.5012, -0.0599,  1.2642, -1.0975, -0.7983,\n",
       "          0.2440,  1.1233, -0.5439, -0.1324,  0.8544,  0.1146,  1.1818,  0.3426,\n",
       "         -1.0497, -1.2619,  0.8508,  0.2861, -0.1306, -0.5461, -0.6744, -1.0733,\n",
       "         -1.1991,  0.5834, -0.7501],\n",
       "        [ 1.7834,  1.8433, -0.6533, -0.5012, -0.0599,  1.2642, -1.0975, -0.7983,\n",
       "          0.2440,  1.1233, -0.5439, -0.1324,  0.8544,  0.1146,  1.1818,  0.3426,\n",
       "         -1.0497, -1.2619,  0.8508,  0.2861, -0.1306, -0.5461, -0.6744, -1.0733,\n",
       "         -1.1991,  0.5834, -0.7501],\n",
       "        [ 1.7834,  1.8433, -0.6533, -0.5012, -0.0599,  1.2642, -1.0975, -0.7983,\n",
       "          0.2440,  1.1233, -0.5439, -0.1324,  0.8544,  0.1146,  1.1818,  0.3426,\n",
       "         -1.0497, -1.2619,  0.8508,  0.2861, -0.1306, -0.5461, -0.6744, -1.0733,\n",
       "         -1.1991,  0.5834, -0.7501],\n",
       "        [ 1.7834,  1.8433, -0.6533, -0.5012, -0.0599,  1.2642, -1.0975, -0.7983,\n",
       "          0.2440,  1.1233, -0.5439, -0.1324,  0.8544,  0.1146,  1.1818,  0.3426,\n",
       "         -1.0497, -1.2619,  0.8508,  0.2861, -0.1306, -0.5461, -0.6744, -1.0733,\n",
       "         -1.1991,  0.5834, -0.7501],\n",
       "        [ 1.7834,  1.8433, -0.6533, -0.5012, -0.0599,  1.2642, -1.0975, -0.7983,\n",
       "          0.2440,  1.1233, -0.5439, -0.1324,  0.8544,  0.1146,  1.1818,  0.3426,\n",
       "         -1.0497, -1.2619,  0.8508,  0.2861, -0.1306, -0.5461, -0.6744, -1.0733,\n",
       "         -1.1991,  0.5834, -0.7501],\n",
       "        [ 1.7834,  1.8433, -0.6533, -0.5012, -0.0599,  1.2642, -1.0975, -0.7983,\n",
       "          0.2440,  1.1233, -0.5439, -0.1324,  0.8544,  0.1146,  1.1818,  0.3426,\n",
       "         -1.0497, -1.2619,  0.8508,  0.2861, -0.1306, -0.5461, -0.6744, -1.0733,\n",
       "         -1.1991,  0.5834, -0.7501],\n",
       "        [ 1.7834,  1.8433, -0.6533, -0.5012, -0.0599,  1.2642, -1.0975, -0.7983,\n",
       "          0.2440,  1.1233, -0.5439, -0.1324,  0.8544,  0.1146,  1.1818,  0.3426,\n",
       "         -1.0497, -1.2619,  0.8508,  0.2861, -0.1306, -0.5461, -0.6744, -1.0733,\n",
       "         -1.1991,  0.5834, -0.7501],\n",
       "        [ 1.7834,  1.8433, -0.6533, -0.5012, -0.0599,  1.2642, -1.0975, -0.7983,\n",
       "          0.2440,  1.1233, -0.5439, -0.1324,  0.8544,  0.1146,  1.1818,  0.3426,\n",
       "         -1.0497, -1.2619,  0.8508,  0.2861, -0.1306, -0.5461, -0.6744, -1.0733,\n",
       "         -1.1991,  0.5834, -0.7501],\n",
       "        [ 1.7834,  1.8433, -0.6533, -0.5012, -0.0599,  1.2642, -1.0975, -0.7983,\n",
       "          0.2440,  1.1233, -0.5439, -0.1324,  0.8544,  0.1146,  1.1818,  0.3426,\n",
       "         -1.0497, -1.2619,  0.8508,  0.2861, -0.1306, -0.5461, -0.6744, -1.0733,\n",
       "         -1.1991,  0.5834, -0.7501],\n",
       "        [ 1.7834,  1.8433, -0.6533, -0.5012, -0.0599,  1.2642, -1.0975, -0.7983,\n",
       "          0.2440,  1.1233, -0.5439, -0.1324,  0.8544,  0.1146,  1.1818,  0.3426,\n",
       "         -1.0497, -1.2619,  0.8508,  0.2861, -0.1306, -0.5461, -0.6744, -1.0733,\n",
       "         -1.1991,  0.5834, -0.7501],\n",
       "        [ 1.7834,  1.8433, -0.6533, -0.5012, -0.0599,  1.2642, -1.0975, -0.7983,\n",
       "          0.2440,  1.1233, -0.5439, -0.1324,  0.8544,  0.1146,  1.1818,  0.3426,\n",
       "         -1.0497, -1.2619,  0.8508,  0.2861, -0.1306, -0.5461, -0.6744, -1.0733,\n",
       "         -1.1991,  0.5834, -0.7501],\n",
       "        [ 1.7834,  1.8433, -0.6533, -0.5012, -0.0599,  1.2642, -1.0975, -0.7983,\n",
       "          0.2440,  1.1233, -0.5439, -0.1324,  0.8544,  0.1146,  1.1818,  0.3426,\n",
       "         -1.0497, -1.2619,  0.8508,  0.2861, -0.1306, -0.5461, -0.6744, -1.0733,\n",
       "         -1.1991,  0.5834, -0.7501],\n",
       "        [ 1.7834,  1.8433, -0.6533, -0.5012, -0.0599,  1.2642, -1.0975, -0.7983,\n",
       "          0.2440,  1.1233, -0.5439, -0.1324,  0.8544,  0.1146,  1.1818,  0.3426,\n",
       "         -1.0497, -1.2619,  0.8508,  0.2861, -0.1306, -0.5461, -0.6744, -1.0733,\n",
       "         -1.1991,  0.5834, -0.7501],\n",
       "        [ 1.7834,  1.8433, -0.6533, -0.5012, -0.0599,  1.2642, -1.0975, -0.7983,\n",
       "          0.2440,  1.1233, -0.5439, -0.1324,  0.8544,  0.1146,  1.1818,  0.3426,\n",
       "         -1.0497, -1.2619,  0.8508,  0.2861, -0.1306, -0.5461, -0.6744, -1.0733,\n",
       "         -1.1991,  0.5834, -0.7501],\n",
       "        [ 1.7834,  1.8433, -0.6533, -0.5012, -0.0599,  1.2642, -1.0975, -0.7983,\n",
       "          0.2440,  1.1233, -0.5439, -0.1324,  0.8544,  0.1146,  1.1818,  0.3426,\n",
       "         -1.0497, -1.2619,  0.8508,  0.2861, -0.1306, -0.5461, -0.6744, -1.0733,\n",
       "         -1.1991,  0.5834, -0.7501]], grad_fn=<AddBackward0>)"
      ]
     },
     "execution_count": 260,
     "metadata": {},
     "output_type": "execute_result"
    }
   ],
   "source": [
    "bn = layers[-1]\n",
    "prev_linear = layers[-2]\n",
    "std = torch.sqrt(bn.running_var + bn.eps)\n",
    "prev_linear.weight = bn.gamma * prev_linear.weight / std\n",
    "prev_linear.bias = bn.gamma * (- bn.running_mean) / std + bn.beta\n",
    "layers2 = layers[:-1]\n",
    "\n",
    "context = [0] * block_size # initialize with all ...\n",
    "x = emb.view(emb.shape[0], -1) # concatenate the vectors\n",
    "for layer in layers2:\n",
    "    x = layer(x)\n",
    "x"
   ]
  }
 ],
 "metadata": {
  "kernelspec": {
   "display_name": "Python 3",
   "language": "python",
   "name": "python3"
  },
  "language_info": {
   "codemirror_mode": {
    "name": "ipython",
    "version": 3
   },
   "file_extension": ".py",
   "mimetype": "text/x-python",
   "name": "python",
   "nbconvert_exporter": "python",
   "pygments_lexer": "ipython3",
   "version": "3.10.11"
  }
 },
 "nbformat": 4,
 "nbformat_minor": 4
}
